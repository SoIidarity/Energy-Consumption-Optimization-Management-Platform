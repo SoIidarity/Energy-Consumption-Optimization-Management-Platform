{
 "cells": [
  {
   "cell_type": "markdown",
   "metadata": {},
   "source": [
    "# Flask Playground\n",
    "\n",
    "### This notebook containers Selenium Simulation Code that would preform the data capture from ecWIN."
   ]
  },
  {
   "cell_type": "code",
   "execution_count": 1,
   "metadata": {},
   "outputs": [],
   "source": [
    "import sys\n",
    "import json\n",
    "import datetime\n",
    "import time\n",
    "\n",
    "import pprint\n",
    "pp = pprint.PrettyPrinter(indent=4)\n",
    "\n",
    "from pymongo import MongoClient\n",
    "from bson.objectid import ObjectId\n",
    "from influxdb import InfluxDBClient\n",
    "from influxdb import DataFrameClient\n",
    "\n",
    "\n",
    "import pandas as pd\n",
    "import numpy as np\n",
    "# import matplotlib.pyplot as plt\n",
    "\n",
    "import time\n",
    "import datetime\n",
    "\n",
    "from fuzzywuzzy import fuzz\n",
    "from fuzzywuzzy import process\n",
    "from difflib import get_close_matches\n",
    "import random"
   ]
  },
  {
   "cell_type": "markdown",
   "metadata": {},
   "source": [
    "## Configure Mongodb"
   ]
  },
  {
   "cell_type": "code",
   "execution_count": 2,
   "metadata": {},
   "outputs": [],
   "source": [
    "mongoClient = MongoClient('localhost',27017)\n",
    "db = mongoClient.witsECOMP"
   ]
  },
  {
   "cell_type": "markdown",
   "metadata": {},
   "source": [
    "## Configure InfluxDB"
   ]
  },
  {
   "cell_type": "code",
   "execution_count": 3,
   "metadata": {},
   "outputs": [],
   "source": [
    "databaseName = \"timeseriesdata\"\n",
    "influxClient = DataFrameClient(\"localhost\", 8086, \"root\", \"root\", database=databaseName)\n",
    "influxClient.create_database(databaseName)"
   ]
  },
  {
   "cell_type": "code",
   "execution_count": 4,
   "metadata": {},
   "outputs": [],
   "source": [
    "# influxClient.drop_database(databaseName)"
   ]
  },
  {
   "cell_type": "markdown",
   "metadata": {},
   "source": [
    "## Read in time Series from excel spreadsheet\n",
    "Note: this process can take a long time (2 to 3 minutes!)."
   ]
  },
  {
   "cell_type": "code",
   "execution_count": 5,
   "metadata": {},
   "outputs": [],
   "source": [
    "spreadsheet = pd.read_excel('/home/chris/Desktop/Wits Data/WITS ecWIN7 Data/WITS ecWIN7 Data 2018.xlsx',\n",
    "                            sheet_name='WITS ecWIN7 Data 2018',\n",
    "                            index_col=\"DateTime\"\n",
    "                           )"
   ]
  },
  {
   "cell_type": "markdown",
   "metadata": {},
   "source": [
    "## Read in building names and geojson information\n",
    "These files were manually created by generating geojson from http://geojson.io/ and identifying the corisponding building names."
   ]
  },
  {
   "cell_type": "code",
   "execution_count": 6,
   "metadata": {},
   "outputs": [
    {
     "name": "stdout",
     "output_type": "stream",
     "text": [
      "Index(['WITS 13 Jubilee Road_kVA', 'WITS 13 Jubilee Road_kVarh',\n",
      "       'WITS 13 Jubilee Road_kWh', 'WITS 3 Jubilee Road_kVA',\n",
      "       'WITS 3 Jubilee Road_kVarh', 'WITS 3 Jubilee Road_kWh',\n",
      "       'WITS 5 Jubilee Road_kVA', 'WITS 5 Jubilee Road_kVarh',\n",
      "       'WITS 5 Jubilee Road_kWh', 'WITS 9 Jubilee Road_kVA',\n",
      "       ...\n",
      "       'WITS WC Village Zesti Lemonz_kWh', 'WITS WC WITS Club GEN 100 kVa_kVA',\n",
      "       'WITS WC WITS CLUB GENERATOR 100 kVa_kVarh',\n",
      "       'WITS WC WITS CLUB GENERATOR 100 kVa_kWh', 'WITS WC Wits Club_kVA',\n",
      "       'WITS WC Wits Club_kVarh', 'WITS WC Wits Club_kWh',\n",
      "       'WITS Wits Club Summation_kVA', 'WITS Wits Club Summation_kVarh',\n",
      "       'WITS Wits Club Summation_kWh'],\n",
      "      dtype='object', length=986)\n"
     ]
    }
   ],
   "source": [
    "buildingSensorNames = spreadsheet.columns\n",
    "print(buildingSensorNames)"
   ]
  },
  {
   "cell_type": "code",
   "execution_count": 7,
   "metadata": {},
   "outputs": [
    {
     "name": "stdout",
     "output_type": "stream",
     "text": [
      "{'type': 'FeatureCollection', 'features': [{'type': 'Feature', 'properties': {'DayStyle_Maximum': {'color': '#999', 'fillColor': '#999', 'fillOpacity': 0.7, 'opacity': 1, 'weight': 2}, 'WeekStyle_Maximum': {'color': '#999', 'fillColor': '#999', 'fillOpacity': 0.7, 'opacity': 1, 'weight': 2}, 'YearStyle_Maximum': {'color': '#999', 'fillColor': '#999', 'fillOpacity': 0.7, 'opacity': 1, 'weight': 2}, 'DayStyle_Average': {'color': '#999', 'fillColor': '#999', 'fillOpacity': 0.7, 'opacity': 1, 'weight': 2}, 'WeekStyle_Average': {'color': '#999', 'fillColor': '#999', 'fillOpacity': 0.7, 'opacity': 1, 'weight': 2}, 'YearStyle_Average': {'color': '#999', 'fillColor': '#999', 'fillOpacity': 0.7, 'opacity': 1, 'weight': 2}, 'buildingName': 'Chamber of Mines', 'buildingId': 0}, 'geometry': {'type': 'Polygon', 'coordinates': [[[28.026670217514038, -26.19134352734578], [28.026729226112362, -26.191767125729683], [28.026643395423886, -26.191786380165073], [28.026697039604187, -26.19204150113358], [28.0270779132843, -26.19199336514455], [28.027067184448242, -26.19195485633902], [28.02739977836609, -26.19192116112372], [28.027292490005493, -26.191271322922137], [28.026670217514038, -26.19134352734578]]]}}, {'type': 'Feature', 'properties': {'DayStyle_Maximum': {'color': '#999', 'fillColor': '#999', 'fillOpacity': 0.7, 'opacity': 1, 'weight': 2}, 'WeekStyle_Maximum': {'color': '#999', 'fillColor': '#999', 'fillOpacity': 0.7, 'opacity': 1, 'weight': 2}, 'YearStyle_Maximum': {'color': '#999', 'fillColor': '#999', 'fillOpacity': 0.7, 'opacity': 1, 'weight': 2}, 'DayStyle_Average': {'color': '#999', 'fillColor': '#999', 'fillOpacity': 0.7, 'opacity': 1, 'weight': 2}, 'WeekStyle_Average': {'color': '#999', 'fillColor': '#999', 'fillOpacity': 0.7, 'opacity': 1, 'weight': 2}, 'YearStyle_Average': {'color': '#999', 'fillColor': '#999', 'fillOpacity': 0.7, 'opacity': 1, 'weight': 2}, 'buildingName': 'Flower Hall', 'buildingId': 0}, 'geometry': {'type': 'Polygon', 'coordinates': [[[28.025929927825928, -26.19151200416024], [28.025962114334106, -26.191950042737417], [28.026278614997864, -26.191901906710605], [28.026192784309387, -26.19148312243793], [28.025929927825928, -26.19151200416024]]]}}, {'type': 'Feature', 'properties': {'DayStyle_Maximum': {'color': '#999', 'fillColor': '#999', 'fillOpacity': 0.7, 'opacity': 1, 'weight': 2}, 'WeekStyle_Maximum': {'color': '#999', 'fillColor': '#999', 'fillOpacity': 0.7, 'opacity': 1, 'weight': 2}, 'YearStyle_Maximum': {'color': '#999', 'fillColor': '#999', 'fillOpacity': 0.7, 'opacity': 1, 'weight': 2}, 'DayStyle_Average': {'color': '#999', 'fillColor': '#999', 'fillOpacity': 0.7, 'opacity': 1, 'weight': 2}, 'WeekStyle_Average': {'color': '#999', 'fillColor': '#999', 'fillOpacity': 0.7, 'opacity': 1, 'weight': 2}, 'YearStyle_Average': {'color': '#999', 'fillColor': '#999', 'fillOpacity': 0.7, 'opacity': 1, 'weight': 2}, 'buildingName': 'Ithemba Labs High Voltage', 'buildingId': 0}, 'geometry': {'type': 'Polygon', 'coordinates': [[[28.025683164596558, -26.19152644501871], [28.025720715522766, -26.19174787129111], [28.02588164806366, -26.191738244070628], [28.02583336830139, -26.191492749679494], [28.025683164596558, -26.19152644501871]]]}}, {'type': 'Feature', 'properties': {'DayStyle_Maximum': {'color': '#999', 'fillColor': '#999', 'fillOpacity': 0.7, 'opacity': 1, 'weight': 2}, 'WeekStyle_Maximum': {'color': '#999', 'fillColor': '#999', 'fillOpacity': 0.7, 'opacity': 1, 'weight': 2}, 'YearStyle_Maximum': {'color': '#999', 'fillColor': '#999', 'fillOpacity': 0.7, 'opacity': 1, 'weight': 2}, 'DayStyle_Average': {'color': '#999', 'fillColor': '#999', 'fillOpacity': 0.7, 'opacity': 1, 'weight': 2}, 'WeekStyle_Average': {'color': '#999', 'fillColor': '#999', 'fillOpacity': 0.7, 'opacity': 1, 'weight': 2}, 'YearStyle_Average': {'color': '#999', 'fillColor': '#999', 'fillOpacity': 0.7, 'opacity': 1, 'weight': 2}, 'buildingName': 'Wits Science Stadium', 'buildingId': 0}, 'geometry': {'type': 'Polygon', 'coordinates': [[[28.026541471481323, -26.190924741065615], [28.026509284973145, -26.190741822447844], [28.026552200317383, -26.19073219514421], [28.026536107063293, -26.190626294751766], [28.025693893432617, -26.19072256783979], [28.025693893432617, -26.19076107705271], [28.0256187915802, -26.19077070435395], [28.025559782981873, -26.190746636099355], [28.02549540996551, -26.190688872268023], [28.025463223457336, -26.19061185378171], [28.025457859039307, -26.19054927622407], [28.025484681129456, -26.19050113961841], [28.025543689727783, -26.190433748337043], [28.025318384170532, -26.190164182821754], [28.025200366973877, -26.190270083634285], [28.02512526512146, -26.190395239015906], [28.025087714195248, -26.190530021584195], [28.025087714195248, -26.19066480399652], [28.02513599395752, -26.1908284681447], [28.02524328231811, -26.19094880928342], [28.025447130203247, -26.191083591211207], [28.02550077438354, -26.19099213206293], [28.025559782981873, -26.1910162002668], [28.025699257850647, -26.191030641186746], [28.026541471481323, -26.190924741065615]]]}}, {'type': 'Feature', 'properties': {'DayStyle_Maximum': {'color': '#999', 'fillColor': '#999', 'fillOpacity': 0.7, 'opacity': 1, 'weight': 2}, 'WeekStyle_Maximum': {'color': '#999', 'fillColor': '#999', 'fillOpacity': 0.7, 'opacity': 1, 'weight': 2}, 'YearStyle_Maximum': {'color': '#999', 'fillColor': '#999', 'fillOpacity': 0.7, 'opacity': 1, 'weight': 2}, 'DayStyle_Average': {'color': '#999', 'fillColor': '#999', 'fillOpacity': 0.7, 'opacity': 1, 'weight': 2}, 'WeekStyle_Average': {'color': '#999', 'fillColor': '#999', 'fillOpacity': 0.7, 'opacity': 1, 'weight': 2}, 'YearStyle_Average': {'color': '#999', 'fillColor': '#999', 'fillOpacity': 0.7, 'opacity': 1, 'weight': 2}, 'buildingName': 'Mathematical Science Building', 'buildingId': 0}, 'geometry': {'type': 'Polygon', 'coordinates': [[[28.026745319366455, -26.190737008796116], [28.026986718177795, -26.190717754187272], [28.026933073997498, -26.1901064187016], [28.026552200317383, -26.19011604605695], [28.026525378227234, -26.19005346823297], [28.02684724330902, -26.19001014510436], [28.026820421218872, -26.189894616682658], [28.02633225917816, -26.189962008275906], [28.0263751745224, -26.190236387931648], [28.02660584449768, -26.19024601527626], [28.026745319366455, -26.190737008796116]]]}}, {'type': 'Feature', 'properties': {'DayStyle_Maximum': {'color': '#999', 'fillColor': '#999', 'fillOpacity': 0.7, 'opacity': 1, 'weight': 2}, 'WeekStyle_Maximum': {'color': '#999', 'fillColor': '#999', 'fillOpacity': 0.7, 'opacity': 1, 'weight': 2}, 'YearStyle_Maximum': {'color': '#999', 'fillColor': '#999', 'fillOpacity': 0.7, 'opacity': 1, 'weight': 2}, 'DayStyle_Average': {'color': '#999', 'fillColor': '#999', 'fillOpacity': 0.7, 'opacity': 1, 'weight': 2}, 'WeekStyle_Average': {'color': '#999', 'fillColor': '#999', 'fillOpacity': 0.7, 'opacity': 1, 'weight': 2}, 'YearStyle_Average': {'color': '#999', 'fillColor': '#999', 'fillOpacity': 0.7, 'opacity': 1, 'weight': 2}, 'buildingName': 'Zesti Lemonz', 'buildingId': 0}, 'geometry': {'type': 'Polygon', 'coordinates': [[[28.027496337890625, -26.190380798017202], [28.027716279029843, -26.19026526996308], [28.027667999267578, -26.190212319566662], [28.02760362625122, -26.19018825119669], [28.027523159980774, -26.190202692219263], [28.027469515800473, -26.190279710976114], [28.027496337890625, -26.190380798017202]]]}}, {'type': 'Feature', 'properties': {'DayStyle_Maximum': {'color': '#999', 'fillColor': '#999', 'fillOpacity': 0.7, 'opacity': 1, 'weight': 2}, 'WeekStyle_Maximum': {'color': '#999', 'fillColor': '#999', 'fillOpacity': 0.7, 'opacity': 1, 'weight': 2}, 'YearStyle_Maximum': {'color': '#999', 'fillColor': '#999', 'fillOpacity': 0.7, 'opacity': 1, 'weight': 2}, 'DayStyle_Average': {'color': '#999', 'fillColor': '#999', 'fillOpacity': 0.7, 'opacity': 1, 'weight': 2}, 'WeekStyle_Average': {'color': '#999', 'fillColor': '#999', 'fillOpacity': 0.7, 'opacity': 1, 'weight': 2}, 'YearStyle_Average': {'color': '#999', 'fillColor': '#999', 'fillOpacity': 0.7, 'opacity': 1, 'weight': 2}, 'buildingName': 'FNB Building', 'buildingId': 0}, 'geometry': {'type': 'Polygon', 'coordinates': [[[28.026235699653622, -26.18969244166899], [28.026251792907715, -26.18977427445488], [28.026294708251953, -26.18977427445488], [28.0263215303421, -26.189909057741644], [28.027018904685974, -26.189827225050415], [28.026997447013855, -26.18969244166899], [28.027045726776123, -26.189687627973914], [28.027040362358093, -26.18962986361746], [28.026986718177795, -26.18962986361746], [28.026975989341732, -26.189538403327823], [28.026825785636902, -26.189552844430967], [28.026825785636902, -26.1895239622229], [28.026734590530396, -26.189538403327823], [28.026739954948425, -26.189562471832055], [28.026525378227234, -26.18959135403058], [28.026514649391174, -26.189557658131612], [28.026428818702698, -26.189562471832055], [28.026439547538757, -26.189596167729636], [28.026273250579834, -26.189615422523868], [28.026283979415894, -26.18968281427864], [28.026235699653622, -26.18969244166899]]]}}, {'type': 'Feature', 'properties': {'DayStyle_Maximum': {'color': '#999', 'fillColor': '#999', 'fillOpacity': 0.7, 'opacity': 1, 'weight': 2}, 'WeekStyle_Maximum': {'color': '#999', 'fillColor': '#999', 'fillOpacity': 0.7, 'opacity': 1, 'weight': 2}, 'YearStyle_Maximum': {'color': '#999', 'fillColor': '#999', 'fillOpacity': 0.7, 'opacity': 1, 'weight': 2}, 'DayStyle_Average': {'color': '#999', 'fillColor': '#999', 'fillOpacity': 0.7, 'opacity': 1, 'weight': 2}, 'WeekStyle_Average': {'color': '#999', 'fillColor': '#999', 'fillOpacity': 0.7, 'opacity': 1, 'weight': 2}, 'YearStyle_Average': {'color': '#999', 'fillColor': '#999', 'fillOpacity': 0.7, 'opacity': 1, 'weight': 2}, 'buildingName': 'PEC PIMD Office Block', 'buildingId': 0}, 'geometry': {'type': 'Polygon', 'coordinates': [[[28.023778796195984, -26.188455315490604], [28.02391290664673, -26.18946138408086], [28.024776577949524, -26.189350668824137], [28.02463173866272, -26.188349413028316], [28.023778796195984, -26.188455315490604]]]}}, {'type': 'Feature', 'properties': {'DayStyle_Maximum': {'color': '#999', 'fillColor': '#999', 'fillOpacity': 0.7, 'opacity': 1, 'weight': 2}, 'WeekStyle_Maximum': {'color': '#999', 'fillColor': '#999', 'fillOpacity': 0.7, 'opacity': 1, 'weight': 2}, 'YearStyle_Maximum': {'color': '#999', 'fillColor': '#999', 'fillOpacity': 0.7, 'opacity': 1, 'weight': 2}, 'DayStyle_Average': {'color': '#999', 'fillColor': '#999', 'fillOpacity': 0.7, 'opacity': 1, 'weight': 2}, 'WeekStyle_Average': {'color': '#999', 'fillColor': '#999', 'fillOpacity': 0.7, 'opacity': 1, 'weight': 2}, 'YearStyle_Average': {'color': '#999', 'fillColor': '#999', 'fillOpacity': 0.7, 'opacity': 1, 'weight': 2}, 'buildingName': 'DJ Du Plesis', 'buildingId': 0}, 'geometry': {'type': 'Polygon', 'coordinates': [[[28.02364468574524, -26.18813279405561], [28.023682236671444, -26.18844568799802], [28.024824857711792, -26.188286834255347], [28.024690747261047, -26.188118352776453], [28.024567365646362, -26.188055773879366], [28.02436888217926, -26.18798838118338], [28.02437961101532, -26.188041332590643], [28.02364468574524, -26.18813279405561]]]}}, {'type': 'Feature', 'properties': {'DayStyle_Maximum': {'color': '#999', 'fillColor': '#999', 'fillOpacity': 0.7, 'opacity': 1, 'weight': 2}, 'WeekStyle_Maximum': {'color': '#999', 'fillColor': '#999', 'fillOpacity': 0.7, 'opacity': 1, 'weight': 2}, 'YearStyle_Maximum': {'color': '#999', 'fillColor': '#999', 'fillOpacity': 0.7, 'opacity': 1, 'weight': 2}, 'DayStyle_Average': {'color': '#999', 'fillColor': '#999', 'fillOpacity': 0.7, 'opacity': 1, 'weight': 2}, 'WeekStyle_Average': {'color': '#999', 'fillColor': '#999', 'fillOpacity': 0.7, 'opacity': 1, 'weight': 2}, 'YearStyle_Average': {'color': '#999', 'fillColor': '#999', 'fillOpacity': 0.7, 'opacity': 1, 'weight': 2}, 'buildingName': 'West Campus Village', 'buildingId': 0}, 'geometry': {'type': 'Polygon', 'coordinates': [[[28.023462295532227, -26.187415541693507], [28.02358567714691, -26.18777176153938], [28.024427890777584, -26.187762133990297], [28.024218678474426, -26.187352962418913], [28.023462295532227, -26.187415541693507]]]}}, {'type': 'Feature', 'properties': {'DayStyle_Maximum': {'color': '#999', 'fillColor': '#999', 'fillOpacity': 0.7, 'opacity': 1, 'weight': 2}, 'WeekStyle_Maximum': {'color': '#999', 'fillColor': '#999', 'fillOpacity': 0.7, 'opacity': 1, 'weight': 2}, 'YearStyle_Maximum': {'color': '#999', 'fillColor': '#999', 'fillOpacity': 0.7, 'opacity': 1, 'weight': 2}, 'DayStyle_Average': {'color': '#999', 'fillColor': '#999', 'fillOpacity': 0.7, 'opacity': 1, 'weight': 2}, 'WeekStyle_Average': {'color': '#999', 'fillColor': '#999', 'fillOpacity': 0.7, 'opacity': 1, 'weight': 2}, 'YearStyle_Average': {'color': '#999', 'fillColor': '#999', 'fillOpacity': 0.7, 'opacity': 1, 'weight': 2}, 'buildingName': 'Convocation Dining Hall', 'buildingId': 0}, 'geometry': {'type': 'Polygon', 'coordinates': [[[28.024073839187622, -26.187015996516397], [28.023982644081116, -26.187040065541755], [28.023982644081116, -26.18716041059395], [28.02436888217926, -26.187107458786308], [28.024315237998962, -26.18679937506443], [28.024052381515503, -26.186833071761185], [28.024073839187622, -26.187015996516397]]]}}, {'type': 'Feature', 'properties': {'DayStyle_Maximum': {'color': '#999', 'fillColor': '#999', 'fillOpacity': 0.7, 'opacity': 1, 'weight': 2}, 'WeekStyle_Maximum': {'color': '#999', 'fillColor': '#999', 'fillOpacity': 0.7, 'opacity': 1, 'weight': 2}, 'YearStyle_Maximum': {'color': '#999', 'fillColor': '#999', 'fillOpacity': 0.7, 'opacity': 1, 'weight': 2}, 'DayStyle_Average': {'color': '#999', 'fillColor': '#999', 'fillOpacity': 0.7, 'opacity': 1, 'weight': 2}, 'WeekStyle_Average': {'color': '#999', 'fillColor': '#999', 'fillOpacity': 0.7, 'opacity': 1, 'weight': 2}, 'YearStyle_Average': {'color': '#999', 'fillColor': '#999', 'fillOpacity': 0.7, 'opacity': 1, 'weight': 2}, 'buildingName': 'Barnato Residence', 'buildingId': 0}, 'geometry': {'type': 'Polygon', 'coordinates': [[[28.024443984031677, -26.186780119804766], [28.02450835704803, -26.187232617565613], [28.024781942367554, -26.18720373478231], [28.024771213531494, -26.18713152779276], [28.025034070014954, -26.187112272587992], [28.025039434432983, -26.18718447958949], [28.025334477424618, -26.187145969194255], [28.025275468826294, -26.186683843458688], [28.024443984031677, -26.186780119804766]]]}}, {'type': 'Feature', 'properties': {'DayStyle_Maximum': {'color': '#999', 'fillColor': '#999', 'fillOpacity': 0.7, 'opacity': 1, 'weight': 2}, 'WeekStyle_Maximum': {'color': '#999', 'fillColor': '#999', 'fillOpacity': 0.7, 'opacity': 1, 'weight': 2}, 'YearStyle_Maximum': {'color': '#999', 'fillColor': '#999', 'fillOpacity': 0.7, 'opacity': 1, 'weight': 2}, 'DayStyle_Average': {'color': '#999', 'fillColor': '#999', 'fillOpacity': 0.7, 'opacity': 1, 'weight': 2}, 'WeekStyle_Average': {'color': '#999', 'fillColor': '#999', 'fillOpacity': 0.7, 'opacity': 1, 'weight': 2}, 'YearStyle_Average': {'color': '#999', 'fillColor': '#999', 'fillOpacity': 0.7, 'opacity': 1, 'weight': 2}, 'buildingName': 'David Webster Hall', 'buildingId': 0}, 'geometry': {'type': 'Polygon', 'coordinates': [[[28.025650978088375, -26.186780119804766], [28.025699257850647, -26.187117086389488], [28.026643395423886, -26.186987113679404], [28.02658438682556, -26.18664533289799], [28.025650978088375, -26.186780119804766]]]}}, {'type': 'Feature', 'properties': {'DayStyle_Maximum': {'color': '#999', 'fillColor': '#999', 'fillOpacity': 0.7, 'opacity': 1, 'weight': 2}, 'WeekStyle_Maximum': {'color': '#999', 'fillColor': '#999', 'fillOpacity': 0.7, 'opacity': 1, 'weight': 2}, 'YearStyle_Maximum': {'color': '#999', 'fillColor': '#999', 'fillOpacity': 0.7, 'opacity': 1, 'weight': 2}, 'DayStyle_Average': {'color': '#999', 'fillColor': '#999', 'fillOpacity': 0.7, 'opacity': 1, 'weight': 2}, 'WeekStyle_Average': {'color': '#999', 'fillColor': '#999', 'fillOpacity': 0.7, 'opacity': 1, 'weight': 2}, 'YearStyle_Average': {'color': '#999', 'fillColor': '#999', 'fillOpacity': 0.7, 'opacity': 1, 'weight': 2}, 'buildingName': 'The Barns', 'buildingId': 0}, 'geometry': {'type': 'Polygon', 'coordinates': [[[28.02564024925232, -26.186168763655836], [28.02564024925232, -26.186265040427536], [28.025967478752136, -26.18621690205163], [28.026273250579834, -26.185985837570428], [28.02634298801422, -26.185817352763994], [28.026241064071655, -26.185774028060106], [28.026144504547116, -26.185976209873765], [28.025929927825928, -26.186125439082616], [28.02564024925232, -26.186168763655836]]]}}, {'type': 'Feature', 'properties': {'DayStyle_Maximum': {'color': '#999', 'fillColor': '#999', 'fillOpacity': 0.7, 'opacity': 1, 'weight': 2}, 'WeekStyle_Maximum': {'color': '#999', 'fillColor': '#999', 'fillOpacity': 0.7, 'opacity': 1, 'weight': 2}, 'YearStyle_Maximum': {'color': '#999', 'fillColor': '#999', 'fillOpacity': 0.7, 'opacity': 1, 'weight': 2}, 'DayStyle_Average': {'color': '#999', 'fillColor': '#999', 'fillOpacity': 0.7, 'opacity': 1, 'weight': 2}, 'WeekStyle_Average': {'color': '#999', 'fillColor': '#999', 'fillOpacity': 0.7, 'opacity': 1, 'weight': 2}, 'YearStyle_Average': {'color': '#999', 'fillColor': '#999', 'fillOpacity': 0.7, 'opacity': 1, 'weight': 2}, 'buildingName': 'Olives and Plates', 'buildingId': 0}, 'geometry': {'type': 'Polygon', 'coordinates': [[[28.02557051181793, -26.18572588948133], [28.025704622268677, -26.185889560568008], [28.026026487350464, -26.18570182018448], [28.025956749916077, -26.185629612264123], [28.02588701248169, -26.185697006324528], [28.025795817375183, -26.18560072908344], [28.02557051181793, -26.18572588948133]]]}}, {'type': 'Feature', 'properties': {'DayStyle_Maximum': {'color': '#999', 'fillColor': '#999', 'fillOpacity': 0.7, 'opacity': 1, 'weight': 2}, 'WeekStyle_Maximum': {'color': '#999', 'fillColor': '#999', 'fillOpacity': 0.7, 'opacity': 1, 'weight': 2}, 'YearStyle_Maximum': {'color': '#999', 'fillColor': '#999', 'fillOpacity': 0.7, 'opacity': 1, 'weight': 2}, 'DayStyle_Average': {'color': '#999', 'fillColor': '#999', 'fillOpacity': 0.7, 'opacity': 1, 'weight': 2}, 'WeekStyle_Average': {'color': '#999', 'fillColor': '#999', 'fillOpacity': 0.7, 'opacity': 1, 'weight': 2}, 'YearStyle_Average': {'color': '#999', 'fillColor': '#999', 'fillOpacity': 0.7, 'opacity': 1, 'weight': 2}, 'buildingName': 'Johannesburg Planetarium', 'buildingId': 0}, 'geometry': {'type': 'Polygon', 'coordinates': [[[28.028123974800106, -26.188378295527585], [28.02810251712799, -26.188469756728004], [28.02814543247223, -26.188585286562738], [28.028231263160706, -26.18857084533966], [28.028231263160706, -26.188522707916484], [28.028258085250854, -26.188522707916484], [28.02829563617706, -26.188556404114806], [28.028365373611447, -26.18856121785662], [28.028429746627808, -26.18854196288814], [28.028467297554016, -26.188513080429455], [28.02854239940643, -26.18850345294163], [28.0285370349884, -26.188392736774528], [28.028467297554016, -26.188392736774528], [28.028419017791748, -26.188354226778692], [28.02835464477539, -26.188339785526967], [28.028274178504944, -26.188378295527585], [28.028247356414795, -26.188411991767662], [28.028220534324646, -26.188416805515455], [28.028204441070553, -26.1883734817782], [28.028123974800106, -26.188378295527585]]]}}, {'type': 'Feature', 'properties': {'DayStyle_Maximum': {'color': '#999', 'fillColor': '#999', 'fillOpacity': 0.7, 'opacity': 1, 'weight': 2}, 'WeekStyle_Maximum': {'color': '#999', 'fillColor': '#999', 'fillOpacity': 0.7, 'opacity': 1, 'weight': 2}, 'YearStyle_Maximum': {'color': '#999', 'fillColor': '#999', 'fillOpacity': 0.7, 'opacity': 1, 'weight': 2}, 'DayStyle_Average': {'color': '#999', 'fillColor': '#999', 'fillOpacity': 0.7, 'opacity': 1, 'weight': 2}, 'WeekStyle_Average': {'color': '#999', 'fillColor': '#999', 'fillOpacity': 0.7, 'opacity': 1, 'weight': 2}, 'YearStyle_Average': {'color': '#999', 'fillColor': '#999', 'fillOpacity': 0.7, 'opacity': 1, 'weight': 2}, 'buildingName': 'Wartenweilier Library', 'buildingId': 0}, 'geometry': {'type': 'Polygon', 'coordinates': [[[28.03061306476593, -26.19089104555235], [28.030677437782284, -26.191362781851193], [28.031015396118164, -26.191329086464638], [28.030951023101807, -26.190857350029333], [28.03061306476593, -26.19089104555235]]]}}, {'type': 'Feature', 'properties': {'DayStyle_Maximum': {'color': '#999', 'fillColor': '#999', 'fillOpacity': 0.7, 'opacity': 1, 'weight': 2}, 'WeekStyle_Maximum': {'color': '#999', 'fillColor': '#999', 'fillOpacity': 0.7, 'opacity': 1, 'weight': 2}, 'YearStyle_Maximum': {'color': '#999', 'fillColor': '#999', 'fillOpacity': 0.7, 'opacity': 1, 'weight': 2}, 'DayStyle_Average': {'color': '#999', 'fillColor': '#999', 'fillOpacity': 0.7, 'opacity': 1, 'weight': 2}, 'WeekStyle_Average': {'color': '#999', 'fillColor': '#999', 'fillOpacity': 0.7, 'opacity': 1, 'weight': 2}, 'YearStyle_Average': {'color': '#999', 'fillColor': '#999', 'fillOpacity': 0.7, 'opacity': 1, 'weight': 2}, 'buildingName': 'Origins Centre', 'buildingId': 0}, 'geometry': {'type': 'Polygon', 'coordinates': [[[28.027957677841183, -26.19291275909642], [28.027979135513306, -26.192999403178433], [28.028016686439514, -26.192989776061385], [28.02804350852966, -26.193105301413368], [28.02814543247223, -26.19307160653088], [28.028182983398438, -26.193148623390822], [28.028258085250854, -26.19312455562756], [28.02829027175903, -26.193196758902424], [28.02859604358673, -26.19311011496721], [28.028478026390076, -26.192782792852533], [28.027957677841183, -26.19291275909642]]]}}, {'type': 'Feature', 'properties': {'DayStyle_Maximum': {'color': '#999', 'fillColor': '#999', 'fillOpacity': 0.7, 'opacity': 1, 'weight': 2}, 'WeekStyle_Maximum': {'color': '#999', 'fillColor': '#999', 'fillOpacity': 0.7, 'opacity': 1, 'weight': 2}, 'YearStyle_Maximum': {'color': '#999', 'fillColor': '#999', 'fillOpacity': 0.7, 'opacity': 1, 'weight': 2}, 'DayStyle_Average': {'color': '#999', 'fillColor': '#999', 'fillOpacity': 0.7, 'opacity': 1, 'weight': 2}, 'WeekStyle_Average': {'color': '#999', 'fillColor': '#999', 'fillOpacity': 0.7, 'opacity': 1, 'weight': 2}, 'YearStyle_Average': {'color': '#999', 'fillColor': '#999', 'fillOpacity': 0.7, 'opacity': 1, 'weight': 2}, 'buildingName': 'Chemistry Building', 'buildingId': 0}, 'geometry': {'type': 'Polygon', 'coordinates': [[[28.03089201450348, -26.19197411074337], [28.030940294265747, -26.192296621543303], [28.03158938884735, -26.19221479052936], [28.031541109085083, -26.191897093106828], [28.03089201450348, -26.19197411074337]]]}}, {'type': 'Feature', 'properties': {'DayStyle_Maximum': {'color': '#999', 'fillColor': '#999', 'fillOpacity': 0.7, 'opacity': 1, 'weight': 2}, 'WeekStyle_Maximum': {'color': '#999', 'fillColor': '#999', 'fillOpacity': 0.7, 'opacity': 1, 'weight': 2}, 'YearStyle_Maximum': {'color': '#999', 'fillColor': '#999', 'fillOpacity': 0.7, 'opacity': 1, 'weight': 2}, 'DayStyle_Average': {'color': '#999', 'fillColor': '#999', 'fillOpacity': 0.7, 'opacity': 1, 'weight': 2}, 'WeekStyle_Average': {'color': '#999', 'fillColor': '#999', 'fillOpacity': 0.7, 'opacity': 1, 'weight': 2}, 'YearStyle_Average': {'color': '#999', 'fillColor': '#999', 'fillOpacity': 0.7, 'opacity': 1, 'weight': 2}, 'buildingName': 'Physics Building', 'buildingId': 0}, 'geometry': {'type': 'Polygon', 'coordinates': [[[28.03082764148712, -26.191531258637806], [28.03086519241333, -26.191834516239645], [28.031546473503113, -26.191762312120343], [28.03149819374084, -26.191468681574094], [28.03082764148712, -26.191531258637806]]]}}, {'type': 'Feature', 'properties': {'DayStyle_Maximum': {'color': '#999', 'fillColor': '#999', 'fillOpacity': 0.7, 'opacity': 1, 'weight': 2}, 'WeekStyle_Maximum': {'color': '#999', 'fillColor': '#999', 'fillOpacity': 0.7, 'opacity': 1, 'weight': 2}, 'YearStyle_Maximum': {'color': '#999', 'fillColor': '#999', 'fillOpacity': 0.7, 'opacity': 1, 'weight': 2}, 'DayStyle_Average': {'color': '#999', 'fillColor': '#999', 'fillOpacity': 0.7, 'opacity': 1, 'weight': 2}, 'WeekStyle_Average': {'color': '#999', 'fillColor': '#999', 'fillOpacity': 0.7, 'opacity': 1, 'weight': 2}, 'YearStyle_Average': {'color': '#999', 'fillColor': '#999', 'fillOpacity': 0.7, 'opacity': 1, 'weight': 2}, 'buildingName': 'Central Block', 'buildingId': 0}, 'geometry': {'type': 'Polygon', 'coordinates': [[[28.029845952987667, -26.191796007381587], [28.029921054840088, -26.192402520417197], [28.03089737892151, -26.192262926426867], [28.030790090560913, -26.191656412664408], [28.029845952987667, -26.191796007381587]]]}}, {'type': 'Feature', 'properties': {'DayStyle_Maximum': {'color': '#999', 'fillColor': '#999', 'fillOpacity': 0.7, 'opacity': 1, 'weight': 2}, 'WeekStyle_Maximum': {'color': '#999', 'fillColor': '#999', 'fillOpacity': 0.7, 'opacity': 1, 'weight': 2}, 'YearStyle_Maximum': {'color': '#999', 'fillColor': '#999', 'fillOpacity': 0.7, 'opacity': 1, 'weight': 2}, 'DayStyle_Average': {'color': '#999', 'fillColor': '#999', 'fillOpacity': 0.7, 'opacity': 1, 'weight': 2}, 'WeekStyle_Average': {'color': '#999', 'fillColor': '#999', 'fillOpacity': 0.7, 'opacity': 1, 'weight': 2}, 'YearStyle_Average': {'color': '#999', 'fillColor': '#999', 'fillOpacity': 0.7, 'opacity': 1, 'weight': 2}, 'buildingName': 'William Cullen Library', 'buildingId': 0}, 'geometry': {'type': 'Polygon', 'coordinates': [[[28.02913248538971, -26.190568530860766], [28.029191493988034, -26.19089104555235], [28.029599189758297, -26.190823654496576], [28.02952408790588, -26.19051558060219], [28.02913248538971, -26.190568530860766]]]}}, {'type': 'Feature', 'properties': {'DayStyle_Maximum': {'color': '#999', 'fillColor': '#999', 'fillOpacity': 0.7, 'opacity': 1, 'weight': 2}, 'WeekStyle_Maximum': {'color': '#999', 'fillColor': '#999', 'fillOpacity': 0.7, 'opacity': 1, 'weight': 2}, 'YearStyle_Maximum': {'color': '#999', 'fillColor': '#999', 'fillOpacity': 0.7, 'opacity': 1, 'weight': 2}, 'DayStyle_Average': {'color': '#999', 'fillColor': '#999', 'fillOpacity': 0.7, 'opacity': 1, 'weight': 2}, 'WeekStyle_Average': {'color': '#999', 'fillColor': '#999', 'fillOpacity': 0.7, 'opacity': 1, 'weight': 2}, 'YearStyle_Average': {'color': '#999', 'fillColor': '#999', 'fillOpacity': 0.7, 'opacity': 1, 'weight': 2}, 'buildingName': 'Gate House', 'buildingId': 0}, 'geometry': {'type': 'Polygon', 'coordinates': [[[28.032179474830627, -26.191897093106828], [28.031702041625977, -26.191916347520742], [28.031702041625977, -26.192080009910473], [28.032206296920776, -26.19207519631405], [28.032179474830627, -26.191897093106828]]]}}, {'type': 'Feature', 'properties': {'DayStyle_Maximum': {'color': '#999', 'fillColor': '#999', 'fillOpacity': 0.7, 'opacity': 1, 'weight': 2}, 'WeekStyle_Maximum': {'color': '#999', 'fillColor': '#999', 'fillOpacity': 0.7, 'opacity': 1, 'weight': 2}, 'YearStyle_Maximum': {'color': '#999', 'fillColor': '#999', 'fillOpacity': 0.7, 'opacity': 1, 'weight': 2}, 'DayStyle_Average': {'color': '#999', 'fillColor': '#999', 'fillOpacity': 0.7, 'opacity': 1, 'weight': 2}, 'WeekStyle_Average': {'color': '#999', 'fillColor': '#999', 'fillOpacity': 0.7, 'opacity': 1, 'weight': 2}, 'YearStyle_Average': {'color': '#999', 'fillColor': '#999', 'fillOpacity': 0.7, 'opacity': 1, 'weight': 2}, 'buildingName': 'Strurrock Park', 'buildingId': 0}, 'geometry': {'type': 'Polygon', 'coordinates': [[[28.02336573600769, -26.192883877721417], [28.02314579486847, -26.19295126758527], [28.02312970161438, -26.192864623467443], [28.02341401576996, -26.19243140191155], [28.023312091827393, -26.192397706834104], [28.023000955581665, -26.192874250594823], [28.023054599761963, -26.192989776061385], [28.02289366722107, -26.193037911638633], [28.022952675819397, -26.1931630640464], [28.02308678627014, -26.19312455562756], [28.02315652370453, -26.193317097594402], [28.023462295532227, -26.193220826650762], [28.02336573600769, -26.192883877721417]]]}}, {'type': 'Feature', 'properties': {'DayStyle_Maximum': {'color': '#999', 'fillColor': '#999', 'fillOpacity': 0.7, 'opacity': 1, 'weight': 2}, 'WeekStyle_Maximum': {'color': '#999', 'fillColor': '#999', 'fillOpacity': 0.7, 'opacity': 1, 'weight': 2}, 'YearStyle_Maximum': {'color': '#999', 'fillColor': '#999', 'fillOpacity': 0.7, 'opacity': 1, 'weight': 2}, 'DayStyle_Average': {'color': '#999', 'fillColor': '#999', 'fillOpacity': 0.7, 'opacity': 1, 'weight': 2}, 'WeekStyle_Average': {'color': '#999', 'fillColor': '#999', 'fillOpacity': 0.7, 'opacity': 1, 'weight': 2}, 'YearStyle_Average': {'color': '#999', 'fillColor': '#999', 'fillOpacity': 0.7, 'opacity': 1, 'weight': 2}, 'buildingName': 'Gym and Squash courts', 'buildingId': 0}, 'geometry': {'type': 'Polygon', 'coordinates': [[[28.026739954948425, -26.18618320517666], [28.026798963546753, -26.18649610435503], [28.02715301513672, -26.186428710756847], [28.02708864212036, -26.186130252924873], [28.026739954948425, -26.18618320517666]]]}}, {'type': 'Feature', 'properties': {'DayStyle_Maximum': {'color': '#999', 'fillColor': '#999', 'fillOpacity': 0.7, 'opacity': 1, 'weight': 2}, 'WeekStyle_Maximum': {'color': '#999', 'fillColor': '#999', 'fillOpacity': 0.7, 'opacity': 1, 'weight': 2}, 'YearStyle_Maximum': {'color': '#999', 'fillColor': '#999', 'fillOpacity': 0.7, 'opacity': 1, 'weight': 2}, 'DayStyle_Average': {'color': '#999', 'fillColor': '#999', 'fillOpacity': 0.7, 'opacity': 1, 'weight': 2}, 'WeekStyle_Average': {'color': '#999', 'fillColor': '#999', 'fillOpacity': 0.7, 'opacity': 1, 'weight': 2}, 'YearStyle_Average': {'color': '#999', 'fillColor': '#999', 'fillOpacity': 0.7, 'opacity': 1, 'weight': 2}, 'buildingName': 'Genmin Lab', 'buildingId': 0}, 'geometry': {'type': 'Polygon', 'coordinates': [[[28.026283979415894, -26.191194304820915], [28.026198148727417, -26.191194304820915], [28.026198148727417, -26.191146168481794], [28.025978207588196, -26.191179863921274], [28.025994300842285, -26.191228000246475], [28.025903105735775, -26.1912328138779], [28.02588164806366, -26.191179863921274], [28.02561342716217, -26.19122318661485], [28.02564561367035, -26.191463867952415], [28.02631616592407, -26.191391663603362], [28.026283979415894, -26.191194304820915]]]}}]}\n"
     ]
    }
   ],
   "source": [
    "loadedGeoJson = {}\n",
    "with open('../../Assets/geojson/witsMainCampusGeojson.json') as json_data:\n",
    "    loadedGeoJson = json.load(json_data)\n",
    "    print(loadedGeoJson)"
   ]
  },
  {
   "cell_type": "code",
   "execution_count": 8,
   "metadata": {},
   "outputs": [
    {
     "name": "stdout",
     "output_type": "stream",
     "text": [
      "Chamber of Mines->WITS WC Chamber of Mines Total_kVA\n",
      "Flower Hall->WITS WC Flower Hall_kVA\n",
      "Ithemba Labs High Voltage->WITS Ithemba Labs High Voltage_kVA\n",
      "Wits Science Stadium->WITS WC Science Staduim TRF 2_kVA\n",
      "Mathematical Science Building->WITS WC Maths Science Building_kVA\n",
      "Zesti Lemonz->WITS EC PDH Zesti Lemon_kVA\n",
      "FNB Building->WITS WC FNB Building Total_kVA\n",
      "PEC PIMD Office Block->WITS PEC PIMD Office Block_kVA\n",
      "DJ Du Plesis->WITS WC DJ du Plessis Building_kVA\n",
      "West Campus Village->WITS Campus Lodge_kVA\n",
      "Convocation Dining Hall->WITS WC Convocation Dining Hall GEN 125 kVA_kVA\n",
      "Barnato Residence->WITS WC Barnato Sub Residence A - D_kVA\n",
      "David Webster Hall->WITS WC David Webster Hall_kVA\n",
      "The Barns->WITS WC The Barns_kVA\n",
      "Olives and Plates->WITS WBS Olives & Plates Meter 2_kVA\n",
      "Johannesburg Planetarium->WITS EC Planetarium_kVA\n",
      "Wartenweilier Library->WITS EC Wartenweiler Library_kVA\n",
      "Origins Centre->WITS EC Origin Centre_kVA\n",
      "Chemistry Building->WITS EC Physics Building_kVA\n",
      "Physics Building->WITS EC Physics Building_kVA\n",
      "Central Block->WITS EC Central Block 2_kVA\n",
      "William Cullen Library->WITS EC William Cullen Library_kVA\n",
      "Gate House->WITS EC Gatehouse_kVA\n",
      "Strurrock Park->WITS WC Sturrock Park Main_kVA\n",
      "Gym and Squash courts->WITS WC Squash Courts_kVA\n",
      "Genmin Lab->WITS WC Genmin Sub_kVA\n"
     ]
    }
   ],
   "source": [
    "#Itterate over all buildings defined in the geojson and for each find the most likely sensor from the excel spreadhseet\n",
    "#this is effectivly preforming a join between the two sets, based off weak links (the names)\n",
    "for index, feature in enumerate(loadedGeoJson[\"features\"]):\n",
    "    buildingName = feature[\"properties\"][\"buildingName\"]\n",
    "    #Find the most likly sensor for that particular building\n",
    "    mostLiklySensor = get_close_matches(buildingName + \"_kVA\", buildingSensorNames)[0]\n",
    "    dataFrame = spreadsheet[mostLiklySensor].to_frame()\n",
    "    influxClient.write_points(dataFrame, databaseName,{'buildingNumber': index, 'buildingName': buildingName, 'sensorName': mostLiklySensor})\n",
    "    print(buildingName + \"->\" + mostLiklySensor)"
   ]
  },
  {
   "cell_type": "markdown",
   "metadata": {},
   "source": [
    "## Preform Queries to load agrigated data into the mongoDB.\n",
    "\n",
    "These queries MUST pull from the influxdb as this is where all the time series data is stored. As new records are added from Selenium (or directly from tnew sensors) they will be added to the Influx DB. this querying and updating mongo process occures every 30 minutes to generate \"fresh\" graphs.\n",
    "\n",
    "First, we need to make the database store for each building"
   ]
  },
  {
   "cell_type": "code",
   "execution_count": 9,
   "metadata": {},
   "outputs": [],
   "source": [
    "buildingInformationStore = db.buildingInformation"
   ]
  },
  {
   "cell_type": "markdown",
   "metadata": {},
   "source": [
    "Then, itterate over all the buildings that have been identified in the geojson and query for values for that building from influxdb for the predefined length of time. For each element, influx db is queried and then the output is computed over to generate averages per day, week and year. The maximum building week is also extracted. This value is used later to generate the heat map.\n"
   ]
  },
  {
   "cell_type": "code",
   "execution_count": 10,
   "metadata": {},
   "outputs": [
    {
     "name": "stdout",
     "output_type": "stream",
     "text": [
      "Building: Chamber of Mines Added with id 5bc1afe1b2831026c7ca7819\n",
      "Building: Flower Hall Added with id 5bc1afe4b2831026c7ca781a\n",
      "Building: Ithemba Labs High Voltage Added with id 5bc1afe6b2831026c7ca781b\n",
      "Building: Wits Science Stadium Added with id 5bc1afe8b2831026c7ca781c\n",
      "Building: Mathematical Science Building Added with id 5bc1afeab2831026c7ca781d\n",
      "Building: Zesti Lemonz Added with id 5bc1afebb2831026c7ca781e\n",
      "Building: FNB Building Added with id 5bc1afecb2831026c7ca781f\n",
      "Building: PEC PIMD Office Block Added with id 5bc1afedb2831026c7ca7820\n",
      "Building: DJ Du Plesis Added with id 5bc1afefb2831026c7ca7821\n",
      "Building: West Campus Village Added with id 5bc1aff0b2831026c7ca7822\n",
      "Building: Convocation Dining Hall Added with id 5bc1aff1b2831026c7ca7823\n",
      "Building: Barnato Residence Added with id 5bc1aff2b2831026c7ca7824\n",
      "Building: David Webster Hall Added with id 5bc1aff3b2831026c7ca7825\n",
      "Building: The Barns Added with id 5bc1aff4b2831026c7ca7826\n",
      "Building: Olives and Plates Added with id 5bc1aff5b2831026c7ca7827\n",
      "Building: Johannesburg Planetarium Added with id 5bc1aff6b2831026c7ca7828\n",
      "Building: Wartenweilier Library Added with id 5bc1aff7b2831026c7ca7829\n",
      "Building: Origins Centre Added with id 5bc1aff8b2831026c7ca782a\n",
      "Building: Chemistry Building Added with id 5bc1aff9b2831026c7ca782b\n",
      "Building: Physics Building Added with id 5bc1affbb2831026c7ca782c\n",
      "Building: Central Block Added with id 5bc1affcb2831026c7ca782d\n",
      "Building: William Cullen Library Added with id 5bc1affdb2831026c7ca782e\n",
      "Building: Gate House Added with id 5bc1affeb2831026c7ca782f\n",
      "Building: Strurrock Park Added with id 5bc1afffb2831026c7ca7830\n",
      "Building: Gym and Squash courts Added with id 5bc1b000b2831026c7ca7831\n",
      "Building: Genmin Lab Added with id 5bc1b001b2831026c7ca7832\n"
     ]
    }
   ],
   "source": [
    "startTime = \"2018-08-19T00:00:00+00:00\"\n",
    "\n",
    "#Define a structure used in the creation of tables. itterate over each to define the graphs to draw\n",
    "plotsToDraw = {\n",
    "    'Day':{\n",
    "        \"resampleLength\":'1H',\n",
    "        \"windowLength\": 2*24, #1 day window with 2 samples per hour\n",
    "        \"moduloSize\": 24\n",
    "        },\n",
    "    'Week':{\n",
    "        \"resampleLength\":'1D',\n",
    "        \"windowLength\":2*24*7, # 1 week window with 2 samples per hour\n",
    "        \"moduloSize\": 7\n",
    "        },\n",
    "    'Year':{\n",
    "        \"resampleLength\":'1M',\n",
    "        \"windowLength\":2*24*30*8, #1 year window with 2 samples per hour\n",
    "        \"moduloSize\": 8\n",
    "        },\n",
    "}\n",
    "\n",
    "for index, feature in enumerate(loadedGeoJson[\"features\"]):\n",
    "    buildingName = feature[\"properties\"][\"buildingName\"]\n",
    "    #This blob is in accordance with the datastructure defined by swagger\n",
    "    buildingBlob = {\n",
    "        \"BuildingId\": index,\n",
    "        \"BuildingName\": buildingName,\n",
    "        \"BensorName\": \"SENSOR\",\n",
    "        \"ChartInformation\": {\n",
    "            \"DayInformation\": {\n",
    "                \"LastDay\": [],\n",
    "                \"AverageDay\": [],\n",
    "                \"LastDayAverage\":0,\n",
    "                \"MaximumDay\":0\n",
    "            },\n",
    "            \"WeekInformation\": {\n",
    "                \"LastWeek\": [],\n",
    "                \"AverageWeek\":[],\n",
    "                \"LastWeekAverage\": 0,\n",
    "                \"MaximumWeek\":0\n",
    "            },\n",
    "            \"YearInformation\": {          \n",
    "                \"LastYear\": [],\n",
    "                \"AverageYear\":[],\n",
    "                \"LastYearAverage\":0,\n",
    "                \"MaximumYear\":0\n",
    "            }\n",
    "        },\n",
    "    }\n",
    "    for plotType in plotsToDraw:\n",
    "        #We want to get all the time series data for that particular building. The start time would be removed if live\n",
    "        #data was added to the data set as we would want to query results from the current time back to the begining of the set\n",
    "        query = \"SELECT * FROM timeseriesdata WHERE buildingName='{}' AND time< '{}'\".format(buildingName, startTime)\n",
    "        queryResults = influxClient.query(query)\n",
    "        #We need to extract the time series data from the influx query results\n",
    "        results = queryResults[\"timeseriesdata\"][queryResults[\"timeseriesdata\"].keys()[0]]\n",
    "        #For the resampled region(to calculculate the last day/week/year) we dont need the full set so sub\n",
    "        #set using the tail (to get last x entries)\n",
    "        resampledResults = results.tail(plotsToDraw[plotType]['windowLength']).resample(plotsToDraw[plotType]['resampleLength'], label='right').sum()\n",
    "        #we can calculate the average overthe last period resampled region\n",
    "        buildingBlob[\"ChartInformation\"][plotType+\"Information\"][\"Last\" + plotType + \"Average\"]=resampledResults.mean()\n",
    "        \n",
    "        #Next, we want to convert the results into a format that mongo can accept. we cast it to a dict\n",
    "        #and then itterate over all results\n",
    "        resultsDict = resampledResults.to_dict()\n",
    "        formattedDict = {} \n",
    "        for result in resultsDict:\n",
    "            formattedDict[str(result)[0:19]] = resultsDict[result]\n",
    "        buildingBlob[\"ChartInformation\"][plotType+\"Information\"][\"Last\" + plotType] = formattedDict\n",
    "        \n",
    "        #The last step is to calculate the period average over all samples(eg the average week, over all data points)\n",
    "        \n",
    "        resampledResults_totalSet = results.resample(plotsToDraw[plotType]['resampleLength'], label='right').sum()\n",
    "\n",
    "        buildingBlob[\"ChartInformation\"][plotType+\"Information\"][\"Maximum\"+plotType]=np.max(resampledResults_totalSet)\n",
    "        resampledResults_totalSetDict = resampledResults_totalSet.to_dict()\n",
    "        \n",
    "        timeSeriesValues =  [[] for _ in range(plotsToDraw[plotType]['moduloSize'])]\n",
    "        for index, result in enumerate(resampledResults_totalSetDict):\n",
    "            relativeIndex = index % plotsToDraw[plotType]['moduloSize']\n",
    "            timeSeriesValues[relativeIndex].append(resampledResults_totalSetDict[result])\n",
    "        \n",
    "        finalizedAverage = []\n",
    "        for result in timeSeriesValues:\n",
    "            finalizedAverage.append(np.array(result).mean())\n",
    "  \n",
    "        #In order to plot these values correctly, they need to be bound off the last week key values        \n",
    "        averageResultsDict = {}\n",
    "        for index, key in enumerate(formattedDict):\n",
    "            averageResultsDict[key] = finalizedAverage[index]\n",
    "        buildingBlob[\"ChartInformation\"][plotType+\"Information\"][\"Average\" + plotType]=averageResultsDict\n",
    "    \n",
    "#     print(buildingBlob)\n",
    "    buildingInformation_id = buildingInformationStore.insert_one(buildingBlob).inserted_id\n",
    "    print (\"Building: {} Added with id {}\".format(buildingName, buildingInformation_id))"
   ]
  },
  {
   "cell_type": "markdown",
   "metadata": {},
   "source": [
    "# Calculate the university wide metrics\n",
    "We want to be able to view the relative values for each set. These are averages over all time for all buildings. We already know what the average for each building is from before so we just need to find the average over all buildings for those particular sets."
   ]
  },
  {
   "cell_type": "code",
   "execution_count": 11,
   "metadata": {},
   "outputs": [
    {
     "ename": "KeyError",
     "evalue": "'ChartInformation'",
     "output_type": "error",
     "traceback": [
      "\u001b[0;31m---------------------------------------------------------------------------\u001b[0m",
      "\u001b[0;31mKeyError\u001b[0m                                  Traceback (most recent call last)",
      "\u001b[0;32m<ipython-input-11-81fbe325b8e3>\u001b[0m in \u001b[0;36m<module>\u001b[0;34m\u001b[0m\n\u001b[1;32m     25\u001b[0m     \u001b[0;31m#itterate over all buildings\u001b[0m\u001b[0;34m\u001b[0m\u001b[0;34m\u001b[0m\u001b[0m\n\u001b[1;32m     26\u001b[0m     \u001b[0;32mfor\u001b[0m \u001b[0mbuilding\u001b[0m \u001b[0;32min\u001b[0m \u001b[0mbuildingInformation\u001b[0m\u001b[0;34m:\u001b[0m\u001b[0;34m\u001b[0m\u001b[0m\n\u001b[0;32m---> 27\u001b[0;31m         \u001b[0mspesificBuildingArray\u001b[0m \u001b[0;34m=\u001b[0m \u001b[0mbuilding\u001b[0m\u001b[0;34m[\u001b[0m\u001b[0;34m\"ChartInformation\"\u001b[0m\u001b[0;34m]\u001b[0m\u001b[0;34m[\u001b[0m\u001b[0mplotType\u001b[0m\u001b[0;34m+\u001b[0m\u001b[0;34m\"Information\"\u001b[0m\u001b[0;34m]\u001b[0m\u001b[0;34m[\u001b[0m\u001b[0;34m\"Average\"\u001b[0m \u001b[0;34m+\u001b[0m \u001b[0mplotType\u001b[0m\u001b[0;34m]\u001b[0m\u001b[0;34m.\u001b[0m\u001b[0mvalues\u001b[0m\u001b[0;34m(\u001b[0m\u001b[0;34m)\u001b[0m\u001b[0;34m\u001b[0m\u001b[0m\n\u001b[0m\u001b[1;32m     28\u001b[0m         \u001b[0;32mfor\u001b[0m \u001b[0mindex\u001b[0m\u001b[0;34m,\u001b[0m \u001b[0mvalue\u001b[0m \u001b[0;32min\u001b[0m \u001b[0menumerate\u001b[0m\u001b[0;34m(\u001b[0m\u001b[0mspesificBuildingArray\u001b[0m\u001b[0;34m)\u001b[0m\u001b[0;34m:\u001b[0m\u001b[0;34m\u001b[0m\u001b[0m\n\u001b[1;32m     29\u001b[0m             \u001b[0mtimeSeriesValues\u001b[0m\u001b[0;34m[\u001b[0m\u001b[0mindex\u001b[0m\u001b[0;34m]\u001b[0m\u001b[0;34m.\u001b[0m\u001b[0mappend\u001b[0m\u001b[0;34m(\u001b[0m\u001b[0mvalue\u001b[0m\u001b[0;34m)\u001b[0m\u001b[0;34m\u001b[0m\u001b[0m\n",
      "\u001b[0;31mKeyError\u001b[0m: 'ChartInformation'"
     ]
    }
   ],
   "source": [
    "buildingInformation = list(buildingInformationStore.find({}))\n",
    "\n",
    "campusInformation = {\n",
    "    \"AveragePastDay\": {},\n",
    "    \"AveragePastWeek\": {},\n",
    "    \"AveragePastYear\": {},\n",
    "    \"Maximums\": {\n",
    "        \"Day\": 0,\n",
    "        \"Week\": 0,\n",
    "        \"Year\": 0\n",
    "    },\n",
    "    \"MaximumLastPeriodAverage\": {\n",
    "        \"Day\": 0,\n",
    "        \"Week\": 0,\n",
    "        \"Year\": 0\n",
    "    }\n",
    "}\n",
    "#Itterate through all the plots that need averages\n",
    "for plotType in plotsToDraw:\n",
    "    typeAverageArray = []\n",
    "    \n",
    "    #For each building, extract their relevent time series values to sum over to get averages\n",
    "    #Each position in the timeSeriesValues array corisponds to a day(it is an array of 7 for a week, for example)\n",
    "    timeSeriesValues =  [[] for _ in range(plotsToDraw[plotType]['moduloSize'])]\n",
    "    #itterate over all buildings\n",
    "    for building in buildingInformation:\n",
    "        spesificBuildingArray = building[\"ChartInformation\"][plotType+\"Information\"][\"Average\" + plotType].values()\n",
    "        for index, value in enumerate(spesificBuildingArray):\n",
    "            timeSeriesValues[index].append(value)\n",
    "    \n",
    "    #calculate each everage and assign keys as time stamp values    \n",
    "    for index, key in enumerate(building[\"ChartInformation\"][plotType+\"Information\"][\"Average\" + plotType].keys()):\n",
    "        numpyArray = np.array(timeSeriesValues[index])\n",
    "        campusInformation[\"AveragePast\"+plotType][key] = numpyArray.mean()\n",
    "#         print(numpyArray.mean())\n",
    "    \n",
    "#         campusInformation[\"Maximums\"][plotType] = np.max(numpyArray)\n",
    "#         print(campusInformation[\"AveragePast\"+plotType][key])\n",
    "    \n",
    "    #Find maximum and MaximumLastPeriodAverage for each time period and asign it to struct\n",
    "    for building in buildingInformation:\n",
    "        buildingMax = building[\"ChartInformation\"][plotType+\"Information\"][\"Maximum\"+plotType]\n",
    "        if buildingMax > campusInformation[\"Maximums\"][plotType]:\n",
    "            campusInformation[\"Maximums\"][plotType] = buildingMax\n",
    "        buildingAverage = building[\"ChartInformation\"][plotType+\"Information\"][\"Last\"+plotType+\"Average\"]\n",
    "        if buildingAverage > campusInformation[\"MaximumLastPeriodAverage\"][plotType]:\n",
    "            campusInformation[\"MaximumLastPeriodAverage\"][plotType] = buildingAverage\n",
    "print(campusInformation)\n",
    "campusInfoStore = db.campusInfo\n",
    "campusInfo_id = campusInfoStore.insert_one(campusInformation).inserted_id"
   ]
  },
  {
   "cell_type": "markdown",
   "metadata": {},
   "source": [
    "# Generate geojson for each location\n",
    "Colours need to be assigned based off a buildings magnitude. \n",
    "First, define a set of functions to convert a max/min/value into a RGB value. This value is used to define the colour on the final heatmap"
   ]
  },
  {
   "cell_type": "code",
   "execution_count": null,
   "metadata": {},
   "outputs": [],
   "source": [
    "def rgb(minimum, maximum, value):\n",
    "    minimum, maximum = float(minimum), float(maximum)\n",
    "    ratio = 2 * (value-minimum) / (maximum - minimum)\n",
    "    b = int(max(0, 255*(1 - ratio)))\n",
    "    r = int(max(0, 255*(ratio - 1)))\n",
    "    g = 255 - b - r\n",
    "    return r, g, b\n",
    "\n",
    "def getHex(minimum,maximum,value):\n",
    "    return '#%02x%02x%02x' % rgb(minimum,maximum,value)"
   ]
  },
  {
   "cell_type": "code",
   "execution_count": null,
   "metadata": {},
   "outputs": [],
   "source": [
    "getHex(0,10,0)"
   ]
  },
  {
   "cell_type": "markdown",
   "metadata": {},
   "source": [
    "Next, we itterate over the geojson set and update the square heat based of the set maximum"
   ]
  },
  {
   "cell_type": "code",
   "execution_count": null,
   "metadata": {},
   "outputs": [],
   "source": [
    " # We want to gives the colours for the heatmap to show the consumption averages & maximums over a day, week and year\n",
    "groupings = [\"Average\",\"Maximum\"]\n",
    "for group in groupings:\n",
    "    for plotType in plotsToDraw:\n",
    "        for index, feature in enumerate(loadedGeoJson[\"features\"]):\n",
    "            buildingName = feature[\"properties\"][\"buildingName\"]\n",
    "            if group ==\"Average\":\n",
    "                value = buildingInformationStore.find_one({\"BuildingName\": buildingName})['ChartInformation'][plotType + 'Information'][\"Last\" +plotType + group]\n",
    "                maximum = campusInformation[\"MaximumLastPeriodAverage\"][plotType]\n",
    "            else:\n",
    "                maximum = campusInformation[\"Maximums\"][plotType]\n",
    "                value = buildingInformationStore.find_one({\"BuildingName\": buildingName})['ChartInformation'][plotType + 'Information'][group + plotType]\n",
    "            newColour = getHex(0,\n",
    "                               maximum,\n",
    "                               value)\n",
    "            print(maximum,value,newColour)\n",
    "#             print(buildingInformationStore.find_one({\"BuildingName\": buildingName})['ChartInformation'][plotType + 'Information']['Last'+ plotType + group])\n",
    "            loadedGeoJson[\"features\"][index][\"properties\"][plotType + \"Style_\" + group][\"fillColor\"] = newColour\n",
    "            loadedGeoJson[\"features\"][index][\"properties\"][\"buildingId\"] = index #set the index of the building based off the previous indecies\n",
    "print(loadedGeoJson)\n",
    "    "
   ]
  },
  {
   "cell_type": "markdown",
   "metadata": {},
   "source": [
    "# Insert the geojson into the database\n",
    "Now that the heatmap colours have been calculated, we can incert it into the database"
   ]
  },
  {
   "cell_type": "code",
   "execution_count": null,
   "metadata": {},
   "outputs": [],
   "source": [
    "geojsonStore = db.geojson\n",
    "geojson_id = geojsonStore.insert_one(loadedGeoJson).inserted_id"
   ]
  },
  {
   "cell_type": "code",
   "execution_count": null,
   "metadata": {},
   "outputs": [],
   "source": [
    "loadedCampusInfo = {}\n",
    "with open('../../Assets/otherinformation/campusInfomation.json') as json_data:\n",
    "    loadedCampusInfo = json.load(json_data)\n",
    "    print(loadedCampusInfo)"
   ]
  },
  {
   "cell_type": "code",
   "execution_count": null,
   "metadata": {},
   "outputs": [],
   "source": [
    "loadedGeoJson = {}\n",
    "with open('../../Assets/geojson/witsMainCampusGeojson.json') as json_data:\n",
    "    loadedGeoJson = json.load(json_data)\n",
    "    print(loadedGeoJson)"
   ]
  },
  {
   "cell_type": "code",
   "execution_count": null,
   "metadata": {},
   "outputs": [],
   "source": [
    "BuildingChartInformation = {}\n",
    "with open('../../Assets/ChartInformation/BuildingChartInformation.json') as json_data:\n",
    "    BuildingChartInformation = json.load(json_data)\n",
    "    print(BuildingChartInformation)"
   ]
  },
  {
   "cell_type": "code",
   "execution_count": null,
   "metadata": {},
   "outputs": [],
   "source": [
    "buildingInformationStore = db.buildingInformation\n",
    "buildingInformation_id = buildingInformationStore.insert_one(BuildingChartInformation).inserted_id"
   ]
  },
  {
   "cell_type": "code",
   "execution_count": null,
   "metadata": {},
   "outputs": [],
   "source": [
    "list(buildingInformationStore.find({\"buildingId\": \"0\"}))"
   ]
  },
  {
   "cell_type": "code",
   "execution_count": null,
   "metadata": {},
   "outputs": [],
   "source": []
  },
  {
   "cell_type": "code",
   "execution_count": null,
   "metadata": {},
   "outputs": [],
   "source": []
  },
  {
   "cell_type": "code",
   "execution_count": null,
   "metadata": {},
   "outputs": [],
   "source": []
  },
  {
   "cell_type": "code",
   "execution_count": null,
   "metadata": {},
   "outputs": [],
   "source": []
  },
  {
   "cell_type": "code",
   "execution_count": null,
   "metadata": {},
   "outputs": [],
   "source": []
  }
 ],
 "metadata": {
  "celltoolbar": "Attachments",
  "kernelspec": {
   "display_name": "Python 3",
   "language": "python",
   "name": "python3"
  },
  "language_info": {
   "codemirror_mode": {
    "name": "ipython",
    "version": 3
   },
   "file_extension": ".py",
   "mimetype": "text/x-python",
   "name": "python",
   "nbconvert_exporter": "python",
   "pygments_lexer": "ipython3",
   "version": "3.7.0"
  }
 },
 "nbformat": 4,
 "nbformat_minor": 2
}
