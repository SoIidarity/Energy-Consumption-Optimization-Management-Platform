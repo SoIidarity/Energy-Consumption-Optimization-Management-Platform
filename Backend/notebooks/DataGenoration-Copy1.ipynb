{
 "cells": [
  {
   "cell_type": "markdown",
   "metadata": {},
   "source": [
    "# Flask Playground\n",
    "\n",
    "### This notebook containers Python code used to pull information from Excel spreadsheets and load it into an Influxdb. Computation is done over the data set and stored within a mongodb. This code would in the future be moved into the flask API but in order to do this the full Selenium python scraper would need to be built out."
   ]
  },
  {
   "cell_type": "code",
   "execution_count": 1,
   "metadata": {},
   "outputs": [],
   "source": [
    "import sys\n",
    "import json\n",
    "import datetime\n",
    "import time\n",
    "\n",
    "import pprint\n",
    "pp = pprint.PrettyPrinter(indent=4)\n",
    "\n",
    "from pymongo import MongoClient\n",
    "from bson.objectid import ObjectId\n",
    "from influxdb import InfluxDBClient\n",
    "from influxdb import DataFrameClient\n",
    "\n",
    "\n",
    "import pandas as pd\n",
    "import numpy as np\n",
    "# import matplotlib.pyplot as plt\n",
    "\n",
    "import time\n",
    "import datetime\n",
    "\n",
    "from fuzzywuzzy import fuzz\n",
    "from fuzzywuzzy import process\n",
    "from difflib import get_close_matches\n",
    "import random"
   ]
  },
  {
   "cell_type": "markdown",
   "metadata": {},
   "source": [
    "## Configure Mongodb"
   ]
  },
  {
   "cell_type": "code",
   "execution_count": 2,
   "metadata": {},
   "outputs": [],
   "source": [
    "mongoClient = MongoClient('95.179.179.222',27017)\n",
    "db = mongoClient.witsECOMP"
   ]
  },
  {
   "cell_type": "markdown",
   "metadata": {},
   "source": [
    "## Configure InfluxDB"
   ]
  },
  {
   "cell_type": "code",
   "execution_count": 3,
   "metadata": {},
   "outputs": [],
   "source": [
    "databaseName = \"timeseriesdata\"\n",
    "influxClient = DataFrameClient(\"95.179.179.222\", 8086, \"root\", \"root\", database=databaseName)\n",
    "influxClient.create_database(databaseName)"
   ]
  },
  {
   "cell_type": "code",
   "execution_count": 4,
   "metadata": {},
   "outputs": [],
   "source": [
    "# influxClient.drop_database(databaseName)"
   ]
  },
  {
   "cell_type": "markdown",
   "metadata": {},
   "source": [
    "## Read in time Series from excel spreadsheet\n",
    "Note: this process can take a long time (2 to 3 minutes!)."
   ]
  },
  {
   "cell_type": "code",
   "execution_count": 5,
   "metadata": {},
   "outputs": [],
   "source": [
    "spreadsheet = pd.read_excel('/home/chris/Desktop/Wits Data/WITS ecWIN7 Data/WITS ecWIN7 Data 2018.xlsx',\n",
    "                            sheet_name='WITS ecWIN7 Data 2018',\n",
    "                            index_col=\"DateTime\"\n",
    "                           )"
   ]
  },
  {
   "cell_type": "markdown",
   "metadata": {},
   "source": [
    "## Read in building names and geojson information\n",
    "These files were manually created by generating geojson from http://geojson.io/ and identifying the corisponding building names."
   ]
  },
  {
   "cell_type": "code",
   "execution_count": 6,
   "metadata": {},
   "outputs": [
    {
     "name": "stdout",
     "output_type": "stream",
     "text": [
      "Index(['WITS 13 Jubilee Road_kVA', 'WITS 13 Jubilee Road_kVarh',\n",
      "       'WITS 13 Jubilee Road_kWh', 'WITS 3 Jubilee Road_kVA',\n",
      "       'WITS 3 Jubilee Road_kVarh', 'WITS 3 Jubilee Road_kWh',\n",
      "       'WITS 5 Jubilee Road_kVA', 'WITS 5 Jubilee Road_kVarh',\n",
      "       'WITS 5 Jubilee Road_kWh', 'WITS 9 Jubilee Road_kVA',\n",
      "       ...\n",
      "       'WITS WC Village Zesti Lemonz_kWh', 'WITS WC WITS Club GEN 100 kVa_kVA',\n",
      "       'WITS WC WITS CLUB GENERATOR 100 kVa_kVarh',\n",
      "       'WITS WC WITS CLUB GENERATOR 100 kVa_kWh', 'WITS WC Wits Club_kVA',\n",
      "       'WITS WC Wits Club_kVarh', 'WITS WC Wits Club_kWh',\n",
      "       'WITS Wits Club Summation_kVA', 'WITS Wits Club Summation_kVarh',\n",
      "       'WITS Wits Club Summation_kWh'],\n",
      "      dtype='object', length=986)\n"
     ]
    }
   ],
   "source": [
    "buildingSensorNames = spreadsheet.columns\n",
    "print(buildingSensorNames)"
   ]
  },
  {
   "cell_type": "code",
   "execution_count": 7,
   "metadata": {},
   "outputs": [
    {
     "name": "stdout",
     "output_type": "stream",
     "text": [
      "{'type': 'FeatureCollection', 'features': [{'type': 'Feature', 'properties': {'DayStyle_Maximum': {'color': '#999', 'fillColor': '#999', 'fillOpacity': 0.7, 'opacity': 1, 'weight': 2}, 'WeekStyle_Maximum': {'color': '#999', 'fillColor': '#999', 'fillOpacity': 0.7, 'opacity': 1, 'weight': 2}, 'YearStyle_Maximum': {'color': '#999', 'fillColor': '#999', 'fillOpacity': 0.7, 'opacity': 1, 'weight': 2}, 'DayStyle_Average': {'color': '#999', 'fillColor': '#999', 'fillOpacity': 0.7, 'opacity': 1, 'weight': 2}, 'WeekStyle_Average': {'color': '#999', 'fillColor': '#999', 'fillOpacity': 0.7, 'opacity': 1, 'weight': 2}, 'YearStyle_Average': {'color': '#999', 'fillColor': '#999', 'fillOpacity': 0.7, 'opacity': 1, 'weight': 2}, 'buildingName': 'Chamber of Mines', 'buildingId': 0}, 'geometry': {'type': 'Polygon', 'coordinates': [[[28.026670217514038, -26.19134352734578], [28.026729226112362, -26.191767125729683], [28.026643395423886, -26.191786380165073], [28.026697039604187, -26.19204150113358], [28.0270779132843, -26.19199336514455], [28.027067184448242, -26.19195485633902], [28.02739977836609, -26.19192116112372], [28.027292490005493, -26.191271322922137], [28.026670217514038, -26.19134352734578]]]}}, {'type': 'Feature', 'properties': {'DayStyle_Maximum': {'color': '#999', 'fillColor': '#999', 'fillOpacity': 0.7, 'opacity': 1, 'weight': 2}, 'WeekStyle_Maximum': {'color': '#999', 'fillColor': '#999', 'fillOpacity': 0.7, 'opacity': 1, 'weight': 2}, 'YearStyle_Maximum': {'color': '#999', 'fillColor': '#999', 'fillOpacity': 0.7, 'opacity': 1, 'weight': 2}, 'DayStyle_Average': {'color': '#999', 'fillColor': '#999', 'fillOpacity': 0.7, 'opacity': 1, 'weight': 2}, 'WeekStyle_Average': {'color': '#999', 'fillColor': '#999', 'fillOpacity': 0.7, 'opacity': 1, 'weight': 2}, 'YearStyle_Average': {'color': '#999', 'fillColor': '#999', 'fillOpacity': 0.7, 'opacity': 1, 'weight': 2}, 'buildingName': 'Flower Hall', 'buildingId': 0}, 'geometry': {'type': 'Polygon', 'coordinates': [[[28.025929927825928, -26.19151200416024], [28.025962114334106, -26.191950042737417], [28.026278614997864, -26.191901906710605], [28.026192784309387, -26.19148312243793], [28.025929927825928, -26.19151200416024]]]}}, {'type': 'Feature', 'properties': {'DayStyle_Maximum': {'color': '#999', 'fillColor': '#999', 'fillOpacity': 0.7, 'opacity': 1, 'weight': 2}, 'WeekStyle_Maximum': {'color': '#999', 'fillColor': '#999', 'fillOpacity': 0.7, 'opacity': 1, 'weight': 2}, 'YearStyle_Maximum': {'color': '#999', 'fillColor': '#999', 'fillOpacity': 0.7, 'opacity': 1, 'weight': 2}, 'DayStyle_Average': {'color': '#999', 'fillColor': '#999', 'fillOpacity': 0.7, 'opacity': 1, 'weight': 2}, 'WeekStyle_Average': {'color': '#999', 'fillColor': '#999', 'fillOpacity': 0.7, 'opacity': 1, 'weight': 2}, 'YearStyle_Average': {'color': '#999', 'fillColor': '#999', 'fillOpacity': 0.7, 'opacity': 1, 'weight': 2}, 'buildingName': 'Ithemba Labs High Voltage', 'buildingId': 0}, 'geometry': {'type': 'Polygon', 'coordinates': [[[28.025683164596558, -26.19152644501871], [28.025720715522766, -26.19174787129111], [28.02588164806366, -26.191738244070628], [28.02583336830139, -26.191492749679494], [28.025683164596558, -26.19152644501871]]]}}, {'type': 'Feature', 'properties': {'DayStyle_Maximum': {'color': '#999', 'fillColor': '#999', 'fillOpacity': 0.7, 'opacity': 1, 'weight': 2}, 'WeekStyle_Maximum': {'color': '#999', 'fillColor': '#999', 'fillOpacity': 0.7, 'opacity': 1, 'weight': 2}, 'YearStyle_Maximum': {'color': '#999', 'fillColor': '#999', 'fillOpacity': 0.7, 'opacity': 1, 'weight': 2}, 'DayStyle_Average': {'color': '#999', 'fillColor': '#999', 'fillOpacity': 0.7, 'opacity': 1, 'weight': 2}, 'WeekStyle_Average': {'color': '#999', 'fillColor': '#999', 'fillOpacity': 0.7, 'opacity': 1, 'weight': 2}, 'YearStyle_Average': {'color': '#999', 'fillColor': '#999', 'fillOpacity': 0.7, 'opacity': 1, 'weight': 2}, 'buildingName': 'Wits Science Stadium', 'buildingId': 0}, 'geometry': {'type': 'Polygon', 'coordinates': [[[28.026541471481323, -26.190924741065615], [28.026509284973145, -26.190741822447844], [28.026552200317383, -26.19073219514421], [28.026536107063293, -26.190626294751766], [28.025693893432617, -26.19072256783979], [28.025693893432617, -26.19076107705271], [28.0256187915802, -26.19077070435395], [28.025559782981873, -26.190746636099355], [28.02549540996551, -26.190688872268023], [28.025463223457336, -26.19061185378171], [28.025457859039307, -26.19054927622407], [28.025484681129456, -26.19050113961841], [28.025543689727783, -26.190433748337043], [28.025318384170532, -26.190164182821754], [28.025200366973877, -26.190270083634285], [28.02512526512146, -26.190395239015906], [28.025087714195248, -26.190530021584195], [28.025087714195248, -26.19066480399652], [28.02513599395752, -26.1908284681447], [28.02524328231811, -26.19094880928342], [28.025447130203247, -26.191083591211207], [28.02550077438354, -26.19099213206293], [28.025559782981873, -26.1910162002668], [28.025699257850647, -26.191030641186746], [28.026541471481323, -26.190924741065615]]]}}, {'type': 'Feature', 'properties': {'DayStyle_Maximum': {'color': '#999', 'fillColor': '#999', 'fillOpacity': 0.7, 'opacity': 1, 'weight': 2}, 'WeekStyle_Maximum': {'color': '#999', 'fillColor': '#999', 'fillOpacity': 0.7, 'opacity': 1, 'weight': 2}, 'YearStyle_Maximum': {'color': '#999', 'fillColor': '#999', 'fillOpacity': 0.7, 'opacity': 1, 'weight': 2}, 'DayStyle_Average': {'color': '#999', 'fillColor': '#999', 'fillOpacity': 0.7, 'opacity': 1, 'weight': 2}, 'WeekStyle_Average': {'color': '#999', 'fillColor': '#999', 'fillOpacity': 0.7, 'opacity': 1, 'weight': 2}, 'YearStyle_Average': {'color': '#999', 'fillColor': '#999', 'fillOpacity': 0.7, 'opacity': 1, 'weight': 2}, 'buildingName': 'Mathematical Science Building', 'buildingId': 0}, 'geometry': {'type': 'Polygon', 'coordinates': [[[28.026745319366455, -26.190737008796116], [28.026986718177795, -26.190717754187272], [28.026933073997498, -26.1901064187016], [28.026552200317383, -26.19011604605695], [28.026525378227234, -26.19005346823297], [28.02684724330902, -26.19001014510436], [28.026820421218872, -26.189894616682658], [28.02633225917816, -26.189962008275906], [28.0263751745224, -26.190236387931648], [28.02660584449768, -26.19024601527626], [28.026745319366455, -26.190737008796116]]]}}, {'type': 'Feature', 'properties': {'DayStyle_Maximum': {'color': '#999', 'fillColor': '#999', 'fillOpacity': 0.7, 'opacity': 1, 'weight': 2}, 'WeekStyle_Maximum': {'color': '#999', 'fillColor': '#999', 'fillOpacity': 0.7, 'opacity': 1, 'weight': 2}, 'YearStyle_Maximum': {'color': '#999', 'fillColor': '#999', 'fillOpacity': 0.7, 'opacity': 1, 'weight': 2}, 'DayStyle_Average': {'color': '#999', 'fillColor': '#999', 'fillOpacity': 0.7, 'opacity': 1, 'weight': 2}, 'WeekStyle_Average': {'color': '#999', 'fillColor': '#999', 'fillOpacity': 0.7, 'opacity': 1, 'weight': 2}, 'YearStyle_Average': {'color': '#999', 'fillColor': '#999', 'fillOpacity': 0.7, 'opacity': 1, 'weight': 2}, 'buildingName': 'Zesti Lemonz', 'buildingId': 0}, 'geometry': {'type': 'Polygon', 'coordinates': [[[28.027496337890625, -26.190380798017202], [28.027716279029843, -26.19026526996308], [28.027667999267578, -26.190212319566662], [28.02760362625122, -26.19018825119669], [28.027523159980774, -26.190202692219263], [28.027469515800473, -26.190279710976114], [28.027496337890625, -26.190380798017202]]]}}, {'type': 'Feature', 'properties': {'DayStyle_Maximum': {'color': '#999', 'fillColor': '#999', 'fillOpacity': 0.7, 'opacity': 1, 'weight': 2}, 'WeekStyle_Maximum': {'color': '#999', 'fillColor': '#999', 'fillOpacity': 0.7, 'opacity': 1, 'weight': 2}, 'YearStyle_Maximum': {'color': '#999', 'fillColor': '#999', 'fillOpacity': 0.7, 'opacity': 1, 'weight': 2}, 'DayStyle_Average': {'color': '#999', 'fillColor': '#999', 'fillOpacity': 0.7, 'opacity': 1, 'weight': 2}, 'WeekStyle_Average': {'color': '#999', 'fillColor': '#999', 'fillOpacity': 0.7, 'opacity': 1, 'weight': 2}, 'YearStyle_Average': {'color': '#999', 'fillColor': '#999', 'fillOpacity': 0.7, 'opacity': 1, 'weight': 2}, 'buildingName': 'FNB Building', 'buildingId': 0}, 'geometry': {'type': 'Polygon', 'coordinates': [[[28.026235699653622, -26.18969244166899], [28.026251792907715, -26.18977427445488], [28.026294708251953, -26.18977427445488], [28.0263215303421, -26.189909057741644], [28.027018904685974, -26.189827225050415], [28.026997447013855, -26.18969244166899], [28.027045726776123, -26.189687627973914], [28.027040362358093, -26.18962986361746], [28.026986718177795, -26.18962986361746], [28.026975989341732, -26.189538403327823], [28.026825785636902, -26.189552844430967], [28.026825785636902, -26.1895239622229], [28.026734590530396, -26.189538403327823], [28.026739954948425, -26.189562471832055], [28.026525378227234, -26.18959135403058], [28.026514649391174, -26.189557658131612], [28.026428818702698, -26.189562471832055], [28.026439547538757, -26.189596167729636], [28.026273250579834, -26.189615422523868], [28.026283979415894, -26.18968281427864], [28.026235699653622, -26.18969244166899]]]}}, {'type': 'Feature', 'properties': {'DayStyle_Maximum': {'color': '#999', 'fillColor': '#999', 'fillOpacity': 0.7, 'opacity': 1, 'weight': 2}, 'WeekStyle_Maximum': {'color': '#999', 'fillColor': '#999', 'fillOpacity': 0.7, 'opacity': 1, 'weight': 2}, 'YearStyle_Maximum': {'color': '#999', 'fillColor': '#999', 'fillOpacity': 0.7, 'opacity': 1, 'weight': 2}, 'DayStyle_Average': {'color': '#999', 'fillColor': '#999', 'fillOpacity': 0.7, 'opacity': 1, 'weight': 2}, 'WeekStyle_Average': {'color': '#999', 'fillColor': '#999', 'fillOpacity': 0.7, 'opacity': 1, 'weight': 2}, 'YearStyle_Average': {'color': '#999', 'fillColor': '#999', 'fillOpacity': 0.7, 'opacity': 1, 'weight': 2}, 'buildingName': 'PEC PIMD Office Block', 'buildingId': 0}, 'geometry': {'type': 'Polygon', 'coordinates': [[[28.023778796195984, -26.188455315490604], [28.02391290664673, -26.18946138408086], [28.024776577949524, -26.189350668824137], [28.02463173866272, -26.188349413028316], [28.023778796195984, -26.188455315490604]]]}}, {'type': 'Feature', 'properties': {'DayStyle_Maximum': {'color': '#999', 'fillColor': '#999', 'fillOpacity': 0.7, 'opacity': 1, 'weight': 2}, 'WeekStyle_Maximum': {'color': '#999', 'fillColor': '#999', 'fillOpacity': 0.7, 'opacity': 1, 'weight': 2}, 'YearStyle_Maximum': {'color': '#999', 'fillColor': '#999', 'fillOpacity': 0.7, 'opacity': 1, 'weight': 2}, 'DayStyle_Average': {'color': '#999', 'fillColor': '#999', 'fillOpacity': 0.7, 'opacity': 1, 'weight': 2}, 'WeekStyle_Average': {'color': '#999', 'fillColor': '#999', 'fillOpacity': 0.7, 'opacity': 1, 'weight': 2}, 'YearStyle_Average': {'color': '#999', 'fillColor': '#999', 'fillOpacity': 0.7, 'opacity': 1, 'weight': 2}, 'buildingName': 'DJ Du Plesis', 'buildingId': 0}, 'geometry': {'type': 'Polygon', 'coordinates': [[[28.02364468574524, -26.18813279405561], [28.023682236671444, -26.18844568799802], [28.024824857711792, -26.188286834255347], [28.024690747261047, -26.188118352776453], [28.024567365646362, -26.188055773879366], [28.02436888217926, -26.18798838118338], [28.02437961101532, -26.188041332590643], [28.02364468574524, -26.18813279405561]]]}}, {'type': 'Feature', 'properties': {'DayStyle_Maximum': {'color': '#999', 'fillColor': '#999', 'fillOpacity': 0.7, 'opacity': 1, 'weight': 2}, 'WeekStyle_Maximum': {'color': '#999', 'fillColor': '#999', 'fillOpacity': 0.7, 'opacity': 1, 'weight': 2}, 'YearStyle_Maximum': {'color': '#999', 'fillColor': '#999', 'fillOpacity': 0.7, 'opacity': 1, 'weight': 2}, 'DayStyle_Average': {'color': '#999', 'fillColor': '#999', 'fillOpacity': 0.7, 'opacity': 1, 'weight': 2}, 'WeekStyle_Average': {'color': '#999', 'fillColor': '#999', 'fillOpacity': 0.7, 'opacity': 1, 'weight': 2}, 'YearStyle_Average': {'color': '#999', 'fillColor': '#999', 'fillOpacity': 0.7, 'opacity': 1, 'weight': 2}, 'buildingName': 'West Campus Village', 'buildingId': 0}, 'geometry': {'type': 'Polygon', 'coordinates': [[[28.023462295532227, -26.187415541693507], [28.02358567714691, -26.18777176153938], [28.024427890777584, -26.187762133990297], [28.024218678474426, -26.187352962418913], [28.023462295532227, -26.187415541693507]]]}}, {'type': 'Feature', 'properties': {'DayStyle_Maximum': {'color': '#999', 'fillColor': '#999', 'fillOpacity': 0.7, 'opacity': 1, 'weight': 2}, 'WeekStyle_Maximum': {'color': '#999', 'fillColor': '#999', 'fillOpacity': 0.7, 'opacity': 1, 'weight': 2}, 'YearStyle_Maximum': {'color': '#999', 'fillColor': '#999', 'fillOpacity': 0.7, 'opacity': 1, 'weight': 2}, 'DayStyle_Average': {'color': '#999', 'fillColor': '#999', 'fillOpacity': 0.7, 'opacity': 1, 'weight': 2}, 'WeekStyle_Average': {'color': '#999', 'fillColor': '#999', 'fillOpacity': 0.7, 'opacity': 1, 'weight': 2}, 'YearStyle_Average': {'color': '#999', 'fillColor': '#999', 'fillOpacity': 0.7, 'opacity': 1, 'weight': 2}, 'buildingName': 'Convocation Dining Hall', 'buildingId': 0}, 'geometry': {'type': 'Polygon', 'coordinates': [[[28.024073839187622, -26.187015996516397], [28.023982644081116, -26.187040065541755], [28.023982644081116, -26.18716041059395], [28.02436888217926, -26.187107458786308], [28.024315237998962, -26.18679937506443], [28.024052381515503, -26.186833071761185], [28.024073839187622, -26.187015996516397]]]}}, {'type': 'Feature', 'properties': {'DayStyle_Maximum': {'color': '#999', 'fillColor': '#999', 'fillOpacity': 0.7, 'opacity': 1, 'weight': 2}, 'WeekStyle_Maximum': {'color': '#999', 'fillColor': '#999', 'fillOpacity': 0.7, 'opacity': 1, 'weight': 2}, 'YearStyle_Maximum': {'color': '#999', 'fillColor': '#999', 'fillOpacity': 0.7, 'opacity': 1, 'weight': 2}, 'DayStyle_Average': {'color': '#999', 'fillColor': '#999', 'fillOpacity': 0.7, 'opacity': 1, 'weight': 2}, 'WeekStyle_Average': {'color': '#999', 'fillColor': '#999', 'fillOpacity': 0.7, 'opacity': 1, 'weight': 2}, 'YearStyle_Average': {'color': '#999', 'fillColor': '#999', 'fillOpacity': 0.7, 'opacity': 1, 'weight': 2}, 'buildingName': 'Barnato Residence', 'buildingId': 0}, 'geometry': {'type': 'Polygon', 'coordinates': [[[28.024443984031677, -26.186780119804766], [28.02450835704803, -26.187232617565613], [28.024781942367554, -26.18720373478231], [28.024771213531494, -26.18713152779276], [28.025034070014954, -26.187112272587992], [28.025039434432983, -26.18718447958949], [28.025334477424618, -26.187145969194255], [28.025275468826294, -26.186683843458688], [28.024443984031677, -26.186780119804766]]]}}, {'type': 'Feature', 'properties': {'DayStyle_Maximum': {'color': '#999', 'fillColor': '#999', 'fillOpacity': 0.7, 'opacity': 1, 'weight': 2}, 'WeekStyle_Maximum': {'color': '#999', 'fillColor': '#999', 'fillOpacity': 0.7, 'opacity': 1, 'weight': 2}, 'YearStyle_Maximum': {'color': '#999', 'fillColor': '#999', 'fillOpacity': 0.7, 'opacity': 1, 'weight': 2}, 'DayStyle_Average': {'color': '#999', 'fillColor': '#999', 'fillOpacity': 0.7, 'opacity': 1, 'weight': 2}, 'WeekStyle_Average': {'color': '#999', 'fillColor': '#999', 'fillOpacity': 0.7, 'opacity': 1, 'weight': 2}, 'YearStyle_Average': {'color': '#999', 'fillColor': '#999', 'fillOpacity': 0.7, 'opacity': 1, 'weight': 2}, 'buildingName': 'David Webster Hall', 'buildingId': 0}, 'geometry': {'type': 'Polygon', 'coordinates': [[[28.025650978088375, -26.186780119804766], [28.025699257850647, -26.187117086389488], [28.026643395423886, -26.186987113679404], [28.02658438682556, -26.18664533289799], [28.025650978088375, -26.186780119804766]]]}}, {'type': 'Feature', 'properties': {'DayStyle_Maximum': {'color': '#999', 'fillColor': '#999', 'fillOpacity': 0.7, 'opacity': 1, 'weight': 2}, 'WeekStyle_Maximum': {'color': '#999', 'fillColor': '#999', 'fillOpacity': 0.7, 'opacity': 1, 'weight': 2}, 'YearStyle_Maximum': {'color': '#999', 'fillColor': '#999', 'fillOpacity': 0.7, 'opacity': 1, 'weight': 2}, 'DayStyle_Average': {'color': '#999', 'fillColor': '#999', 'fillOpacity': 0.7, 'opacity': 1, 'weight': 2}, 'WeekStyle_Average': {'color': '#999', 'fillColor': '#999', 'fillOpacity': 0.7, 'opacity': 1, 'weight': 2}, 'YearStyle_Average': {'color': '#999', 'fillColor': '#999', 'fillOpacity': 0.7, 'opacity': 1, 'weight': 2}, 'buildingName': 'The Barns', 'buildingId': 0}, 'geometry': {'type': 'Polygon', 'coordinates': [[[28.02564024925232, -26.186168763655836], [28.02564024925232, -26.186265040427536], [28.025967478752136, -26.18621690205163], [28.026273250579834, -26.185985837570428], [28.02634298801422, -26.185817352763994], [28.026241064071655, -26.185774028060106], [28.026144504547116, -26.185976209873765], [28.025929927825928, -26.186125439082616], [28.02564024925232, -26.186168763655836]]]}}, {'type': 'Feature', 'properties': {'DayStyle_Maximum': {'color': '#999', 'fillColor': '#999', 'fillOpacity': 0.7, 'opacity': 1, 'weight': 2}, 'WeekStyle_Maximum': {'color': '#999', 'fillColor': '#999', 'fillOpacity': 0.7, 'opacity': 1, 'weight': 2}, 'YearStyle_Maximum': {'color': '#999', 'fillColor': '#999', 'fillOpacity': 0.7, 'opacity': 1, 'weight': 2}, 'DayStyle_Average': {'color': '#999', 'fillColor': '#999', 'fillOpacity': 0.7, 'opacity': 1, 'weight': 2}, 'WeekStyle_Average': {'color': '#999', 'fillColor': '#999', 'fillOpacity': 0.7, 'opacity': 1, 'weight': 2}, 'YearStyle_Average': {'color': '#999', 'fillColor': '#999', 'fillOpacity': 0.7, 'opacity': 1, 'weight': 2}, 'buildingName': 'Olives and Plates', 'buildingId': 0}, 'geometry': {'type': 'Polygon', 'coordinates': [[[28.02557051181793, -26.18572588948133], [28.025704622268677, -26.185889560568008], [28.026026487350464, -26.18570182018448], [28.025956749916077, -26.185629612264123], [28.02588701248169, -26.185697006324528], [28.025795817375183, -26.18560072908344], [28.02557051181793, -26.18572588948133]]]}}, {'type': 'Feature', 'properties': {'DayStyle_Maximum': {'color': '#999', 'fillColor': '#999', 'fillOpacity': 0.7, 'opacity': 1, 'weight': 2}, 'WeekStyle_Maximum': {'color': '#999', 'fillColor': '#999', 'fillOpacity': 0.7, 'opacity': 1, 'weight': 2}, 'YearStyle_Maximum': {'color': '#999', 'fillColor': '#999', 'fillOpacity': 0.7, 'opacity': 1, 'weight': 2}, 'DayStyle_Average': {'color': '#999', 'fillColor': '#999', 'fillOpacity': 0.7, 'opacity': 1, 'weight': 2}, 'WeekStyle_Average': {'color': '#999', 'fillColor': '#999', 'fillOpacity': 0.7, 'opacity': 1, 'weight': 2}, 'YearStyle_Average': {'color': '#999', 'fillColor': '#999', 'fillOpacity': 0.7, 'opacity': 1, 'weight': 2}, 'buildingName': 'Johannesburg Planetarium', 'buildingId': 0}, 'geometry': {'type': 'Polygon', 'coordinates': [[[28.028123974800106, -26.188378295527585], [28.02810251712799, -26.188469756728004], [28.02814543247223, -26.188585286562738], [28.028231263160706, -26.18857084533966], [28.028231263160706, -26.188522707916484], [28.028258085250854, -26.188522707916484], [28.02829563617706, -26.188556404114806], [28.028365373611447, -26.18856121785662], [28.028429746627808, -26.18854196288814], [28.028467297554016, -26.188513080429455], [28.02854239940643, -26.18850345294163], [28.0285370349884, -26.188392736774528], [28.028467297554016, -26.188392736774528], [28.028419017791748, -26.188354226778692], [28.02835464477539, -26.188339785526967], [28.028274178504944, -26.188378295527585], [28.028247356414795, -26.188411991767662], [28.028220534324646, -26.188416805515455], [28.028204441070553, -26.1883734817782], [28.028123974800106, -26.188378295527585]]]}}, {'type': 'Feature', 'properties': {'DayStyle_Maximum': {'color': '#999', 'fillColor': '#999', 'fillOpacity': 0.7, 'opacity': 1, 'weight': 2}, 'WeekStyle_Maximum': {'color': '#999', 'fillColor': '#999', 'fillOpacity': 0.7, 'opacity': 1, 'weight': 2}, 'YearStyle_Maximum': {'color': '#999', 'fillColor': '#999', 'fillOpacity': 0.7, 'opacity': 1, 'weight': 2}, 'DayStyle_Average': {'color': '#999', 'fillColor': '#999', 'fillOpacity': 0.7, 'opacity': 1, 'weight': 2}, 'WeekStyle_Average': {'color': '#999', 'fillColor': '#999', 'fillOpacity': 0.7, 'opacity': 1, 'weight': 2}, 'YearStyle_Average': {'color': '#999', 'fillColor': '#999', 'fillOpacity': 0.7, 'opacity': 1, 'weight': 2}, 'buildingName': 'Wartenweilier Library', 'buildingId': 0}, 'geometry': {'type': 'Polygon', 'coordinates': [[[28.03061306476593, -26.19089104555235], [28.030677437782284, -26.191362781851193], [28.031015396118164, -26.191329086464638], [28.030951023101807, -26.190857350029333], [28.03061306476593, -26.19089104555235]]]}}, {'type': 'Feature', 'properties': {'DayStyle_Maximum': {'color': '#999', 'fillColor': '#999', 'fillOpacity': 0.7, 'opacity': 1, 'weight': 2}, 'WeekStyle_Maximum': {'color': '#999', 'fillColor': '#999', 'fillOpacity': 0.7, 'opacity': 1, 'weight': 2}, 'YearStyle_Maximum': {'color': '#999', 'fillColor': '#999', 'fillOpacity': 0.7, 'opacity': 1, 'weight': 2}, 'DayStyle_Average': {'color': '#999', 'fillColor': '#999', 'fillOpacity': 0.7, 'opacity': 1, 'weight': 2}, 'WeekStyle_Average': {'color': '#999', 'fillColor': '#999', 'fillOpacity': 0.7, 'opacity': 1, 'weight': 2}, 'YearStyle_Average': {'color': '#999', 'fillColor': '#999', 'fillOpacity': 0.7, 'opacity': 1, 'weight': 2}, 'buildingName': 'Origins Centre', 'buildingId': 0}, 'geometry': {'type': 'Polygon', 'coordinates': [[[28.027957677841183, -26.19291275909642], [28.027979135513306, -26.192999403178433], [28.028016686439514, -26.192989776061385], [28.02804350852966, -26.193105301413368], [28.02814543247223, -26.19307160653088], [28.028182983398438, -26.193148623390822], [28.028258085250854, -26.19312455562756], [28.02829027175903, -26.193196758902424], [28.02859604358673, -26.19311011496721], [28.028478026390076, -26.192782792852533], [28.027957677841183, -26.19291275909642]]]}}, {'type': 'Feature', 'properties': {'DayStyle_Maximum': {'color': '#999', 'fillColor': '#999', 'fillOpacity': 0.7, 'opacity': 1, 'weight': 2}, 'WeekStyle_Maximum': {'color': '#999', 'fillColor': '#999', 'fillOpacity': 0.7, 'opacity': 1, 'weight': 2}, 'YearStyle_Maximum': {'color': '#999', 'fillColor': '#999', 'fillOpacity': 0.7, 'opacity': 1, 'weight': 2}, 'DayStyle_Average': {'color': '#999', 'fillColor': '#999', 'fillOpacity': 0.7, 'opacity': 1, 'weight': 2}, 'WeekStyle_Average': {'color': '#999', 'fillColor': '#999', 'fillOpacity': 0.7, 'opacity': 1, 'weight': 2}, 'YearStyle_Average': {'color': '#999', 'fillColor': '#999', 'fillOpacity': 0.7, 'opacity': 1, 'weight': 2}, 'buildingName': 'Chemistry Building', 'buildingId': 0}, 'geometry': {'type': 'Polygon', 'coordinates': [[[28.03089201450348, -26.19197411074337], [28.030940294265747, -26.192296621543303], [28.03158938884735, -26.19221479052936], [28.031541109085083, -26.191897093106828], [28.03089201450348, -26.19197411074337]]]}}, {'type': 'Feature', 'properties': {'DayStyle_Maximum': {'color': '#999', 'fillColor': '#999', 'fillOpacity': 0.7, 'opacity': 1, 'weight': 2}, 'WeekStyle_Maximum': {'color': '#999', 'fillColor': '#999', 'fillOpacity': 0.7, 'opacity': 1, 'weight': 2}, 'YearStyle_Maximum': {'color': '#999', 'fillColor': '#999', 'fillOpacity': 0.7, 'opacity': 1, 'weight': 2}, 'DayStyle_Average': {'color': '#999', 'fillColor': '#999', 'fillOpacity': 0.7, 'opacity': 1, 'weight': 2}, 'WeekStyle_Average': {'color': '#999', 'fillColor': '#999', 'fillOpacity': 0.7, 'opacity': 1, 'weight': 2}, 'YearStyle_Average': {'color': '#999', 'fillColor': '#999', 'fillOpacity': 0.7, 'opacity': 1, 'weight': 2}, 'buildingName': 'Physics Building', 'buildingId': 0}, 'geometry': {'type': 'Polygon', 'coordinates': [[[28.03082764148712, -26.191531258637806], [28.03086519241333, -26.191834516239645], [28.031546473503113, -26.191762312120343], [28.03149819374084, -26.191468681574094], [28.03082764148712, -26.191531258637806]]]}}, {'type': 'Feature', 'properties': {'DayStyle_Maximum': {'color': '#999', 'fillColor': '#999', 'fillOpacity': 0.7, 'opacity': 1, 'weight': 2}, 'WeekStyle_Maximum': {'color': '#999', 'fillColor': '#999', 'fillOpacity': 0.7, 'opacity': 1, 'weight': 2}, 'YearStyle_Maximum': {'color': '#999', 'fillColor': '#999', 'fillOpacity': 0.7, 'opacity': 1, 'weight': 2}, 'DayStyle_Average': {'color': '#999', 'fillColor': '#999', 'fillOpacity': 0.7, 'opacity': 1, 'weight': 2}, 'WeekStyle_Average': {'color': '#999', 'fillColor': '#999', 'fillOpacity': 0.7, 'opacity': 1, 'weight': 2}, 'YearStyle_Average': {'color': '#999', 'fillColor': '#999', 'fillOpacity': 0.7, 'opacity': 1, 'weight': 2}, 'buildingName': 'Central Block', 'buildingId': 0}, 'geometry': {'type': 'Polygon', 'coordinates': [[[28.029845952987667, -26.191796007381587], [28.029921054840088, -26.192402520417197], [28.03089737892151, -26.192262926426867], [28.030790090560913, -26.191656412664408], [28.029845952987667, -26.191796007381587]]]}}, {'type': 'Feature', 'properties': {'DayStyle_Maximum': {'color': '#999', 'fillColor': '#999', 'fillOpacity': 0.7, 'opacity': 1, 'weight': 2}, 'WeekStyle_Maximum': {'color': '#999', 'fillColor': '#999', 'fillOpacity': 0.7, 'opacity': 1, 'weight': 2}, 'YearStyle_Maximum': {'color': '#999', 'fillColor': '#999', 'fillOpacity': 0.7, 'opacity': 1, 'weight': 2}, 'DayStyle_Average': {'color': '#999', 'fillColor': '#999', 'fillOpacity': 0.7, 'opacity': 1, 'weight': 2}, 'WeekStyle_Average': {'color': '#999', 'fillColor': '#999', 'fillOpacity': 0.7, 'opacity': 1, 'weight': 2}, 'YearStyle_Average': {'color': '#999', 'fillColor': '#999', 'fillOpacity': 0.7, 'opacity': 1, 'weight': 2}, 'buildingName': 'William Cullen Library', 'buildingId': 0}, 'geometry': {'type': 'Polygon', 'coordinates': [[[28.02913248538971, -26.190568530860766], [28.029191493988034, -26.19089104555235], [28.029599189758297, -26.190823654496576], [28.02952408790588, -26.19051558060219], [28.02913248538971, -26.190568530860766]]]}}, {'type': 'Feature', 'properties': {'DayStyle_Maximum': {'color': '#999', 'fillColor': '#999', 'fillOpacity': 0.7, 'opacity': 1, 'weight': 2}, 'WeekStyle_Maximum': {'color': '#999', 'fillColor': '#999', 'fillOpacity': 0.7, 'opacity': 1, 'weight': 2}, 'YearStyle_Maximum': {'color': '#999', 'fillColor': '#999', 'fillOpacity': 0.7, 'opacity': 1, 'weight': 2}, 'DayStyle_Average': {'color': '#999', 'fillColor': '#999', 'fillOpacity': 0.7, 'opacity': 1, 'weight': 2}, 'WeekStyle_Average': {'color': '#999', 'fillColor': '#999', 'fillOpacity': 0.7, 'opacity': 1, 'weight': 2}, 'YearStyle_Average': {'color': '#999', 'fillColor': '#999', 'fillOpacity': 0.7, 'opacity': 1, 'weight': 2}, 'buildingName': 'Gate House', 'buildingId': 0}, 'geometry': {'type': 'Polygon', 'coordinates': [[[28.032179474830627, -26.191897093106828], [28.031702041625977, -26.191916347520742], [28.031702041625977, -26.192080009910473], [28.032206296920776, -26.19207519631405], [28.032179474830627, -26.191897093106828]]]}}, {'type': 'Feature', 'properties': {'DayStyle_Maximum': {'color': '#999', 'fillColor': '#999', 'fillOpacity': 0.7, 'opacity': 1, 'weight': 2}, 'WeekStyle_Maximum': {'color': '#999', 'fillColor': '#999', 'fillOpacity': 0.7, 'opacity': 1, 'weight': 2}, 'YearStyle_Maximum': {'color': '#999', 'fillColor': '#999', 'fillOpacity': 0.7, 'opacity': 1, 'weight': 2}, 'DayStyle_Average': {'color': '#999', 'fillColor': '#999', 'fillOpacity': 0.7, 'opacity': 1, 'weight': 2}, 'WeekStyle_Average': {'color': '#999', 'fillColor': '#999', 'fillOpacity': 0.7, 'opacity': 1, 'weight': 2}, 'YearStyle_Average': {'color': '#999', 'fillColor': '#999', 'fillOpacity': 0.7, 'opacity': 1, 'weight': 2}, 'buildingName': 'Strurrock Park', 'buildingId': 0}, 'geometry': {'type': 'Polygon', 'coordinates': [[[28.02336573600769, -26.192883877721417], [28.02314579486847, -26.19295126758527], [28.02312970161438, -26.192864623467443], [28.02341401576996, -26.19243140191155], [28.023312091827393, -26.192397706834104], [28.023000955581665, -26.192874250594823], [28.023054599761963, -26.192989776061385], [28.02289366722107, -26.193037911638633], [28.022952675819397, -26.1931630640464], [28.02308678627014, -26.19312455562756], [28.02315652370453, -26.193317097594402], [28.023462295532227, -26.193220826650762], [28.02336573600769, -26.192883877721417]]]}}, {'type': 'Feature', 'properties': {'DayStyle_Maximum': {'color': '#999', 'fillColor': '#999', 'fillOpacity': 0.7, 'opacity': 1, 'weight': 2}, 'WeekStyle_Maximum': {'color': '#999', 'fillColor': '#999', 'fillOpacity': 0.7, 'opacity': 1, 'weight': 2}, 'YearStyle_Maximum': {'color': '#999', 'fillColor': '#999', 'fillOpacity': 0.7, 'opacity': 1, 'weight': 2}, 'DayStyle_Average': {'color': '#999', 'fillColor': '#999', 'fillOpacity': 0.7, 'opacity': 1, 'weight': 2}, 'WeekStyle_Average': {'color': '#999', 'fillColor': '#999', 'fillOpacity': 0.7, 'opacity': 1, 'weight': 2}, 'YearStyle_Average': {'color': '#999', 'fillColor': '#999', 'fillOpacity': 0.7, 'opacity': 1, 'weight': 2}, 'buildingName': 'Gym and Squash courts', 'buildingId': 0}, 'geometry': {'type': 'Polygon', 'coordinates': [[[28.026739954948425, -26.18618320517666], [28.026798963546753, -26.18649610435503], [28.02715301513672, -26.186428710756847], [28.02708864212036, -26.186130252924873], [28.026739954948425, -26.18618320517666]]]}}, {'type': 'Feature', 'properties': {'DayStyle_Maximum': {'color': '#999', 'fillColor': '#999', 'fillOpacity': 0.7, 'opacity': 1, 'weight': 2}, 'WeekStyle_Maximum': {'color': '#999', 'fillColor': '#999', 'fillOpacity': 0.7, 'opacity': 1, 'weight': 2}, 'YearStyle_Maximum': {'color': '#999', 'fillColor': '#999', 'fillOpacity': 0.7, 'opacity': 1, 'weight': 2}, 'DayStyle_Average': {'color': '#999', 'fillColor': '#999', 'fillOpacity': 0.7, 'opacity': 1, 'weight': 2}, 'WeekStyle_Average': {'color': '#999', 'fillColor': '#999', 'fillOpacity': 0.7, 'opacity': 1, 'weight': 2}, 'YearStyle_Average': {'color': '#999', 'fillColor': '#999', 'fillOpacity': 0.7, 'opacity': 1, 'weight': 2}, 'buildingName': 'Genmin Lab', 'buildingId': 0}, 'geometry': {'type': 'Polygon', 'coordinates': [[[28.026283979415894, -26.191194304820915], [28.026198148727417, -26.191194304820915], [28.026198148727417, -26.191146168481794], [28.025978207588196, -26.191179863921274], [28.025994300842285, -26.191228000246475], [28.025903105735775, -26.1912328138779], [28.02588164806366, -26.191179863921274], [28.02561342716217, -26.19122318661485], [28.02564561367035, -26.191463867952415], [28.02631616592407, -26.191391663603362], [28.026283979415894, -26.191194304820915]]]}}]}\n"
     ]
    }
   ],
   "source": [
    "loadedGeoJson = {}\n",
    "with open('../../Assets/geojson/witsMainCampusGeojson.json') as json_data:\n",
    "    loadedGeoJson = json.load(json_data)\n",
    "    print(loadedGeoJson)"
   ]
  },
  {
   "cell_type": "code",
   "execution_count": 8,
   "metadata": {},
   "outputs": [
    {
     "name": "stdout",
     "output_type": "stream",
     "text": [
      "Chamber of Mines->WITS WC Chamber of Mines Total_kVA\n",
      "Flower Hall->WITS WC Flower Hall_kVA\n",
      "Ithemba Labs High Voltage->WITS Ithemba Labs High Voltage_kVA\n",
      "Wits Science Stadium->WITS WC Science Staduim TRF 2_kVA\n",
      "Mathematical Science Building->WITS WC Maths Science Building_kVA\n",
      "Zesti Lemonz->WITS EC PDH Zesti Lemon_kVA\n",
      "FNB Building->WITS WC FNB Building Total_kVA\n",
      "PEC PIMD Office Block->WITS PEC PIMD Office Block_kVA\n",
      "DJ Du Plesis->WITS WC DJ du Plessis Building_kVA\n",
      "West Campus Village->WITS Campus Lodge_kVA\n",
      "Convocation Dining Hall->WITS WC Convocation Dining Hall GEN 125 kVA_kVA\n",
      "Barnato Residence->WITS WC Barnato Sub Residence A - D_kVA\n",
      "David Webster Hall->WITS WC David Webster Hall_kVA\n",
      "The Barns->WITS WC The Barns_kVA\n",
      "Olives and Plates->WITS WBS Olives & Plates Meter 2_kVA\n",
      "Johannesburg Planetarium->WITS EC Planetarium_kVA\n",
      "Wartenweilier Library->WITS EC Wartenweiler Library_kVA\n",
      "Origins Centre->WITS EC Origin Centre_kVA\n",
      "Chemistry Building->WITS EC Physics Building_kVA\n",
      "Physics Building->WITS EC Physics Building_kVA\n",
      "Central Block->WITS EC Central Block 2_kVA\n",
      "William Cullen Library->WITS EC William Cullen Library_kVA\n",
      "Gate House->WITS EC Gatehouse_kVA\n",
      "Strurrock Park->WITS WC Sturrock Park Main_kVA\n",
      "Gym and Squash courts->WITS WC Squash Courts_kVA\n",
      "Genmin Lab->WITS WC Genmin Sub_kVA\n"
     ]
    }
   ],
   "source": [
    "buildingNamesStore = db.buildingNames\n",
    "#Itterate over all buildings defined in the geojson and for each find the most likely sensor from the excel spreadhseet\n",
    "#this is effectivly preforming a join between the two sets, based off weak links (the names)\n",
    "for index, feature in enumerate(loadedGeoJson[\"features\"]):\n",
    "    buildingName = feature[\"properties\"][\"buildingName\"]\n",
    "    #Find the most likly sensor for that particular building\n",
    "    mostLiklySensor = get_close_matches(buildingName + \"_kVA\", buildingSensorNames)[0]\n",
    "    dataFrame = spreadsheet[mostLiklySensor].to_frame()\n",
    "    influxClient.write_points(dataFrame, databaseName,{'buildingNumber': index, 'buildingName': buildingName, 'sensorName': mostLiklySensor})\n",
    "    print(buildingName + \"->\" + mostLiklySensor)"
   ]
  },
  {
   "cell_type": "markdown",
   "metadata": {},
   "source": [
    "## Preform Queries to load agrigated data into the mongoDB.\n",
    "\n",
    "These queries MUST pull from the influxdb as this is where all the time series data is stored. As new records are added from Selenium (or directly from tnew sensors) they will be added to the Influx DB. this querying and updating mongo process occures every 30 minutes to generate \"fresh\" graphs.\n",
    "\n",
    "First, we need to make the database store for each building"
   ]
  },
  {
   "cell_type": "code",
   "execution_count": 9,
   "metadata": {},
   "outputs": [],
   "source": [
    "buildingInformationStore = db.buildingInformation"
   ]
  },
  {
   "cell_type": "markdown",
   "metadata": {},
   "source": [
    "Then, itterate over all the buildings that have been identified in the geojson and query for values for that building from influxdb for the predefined length of time. For each element, influx db is queried and then the output is computed over to generate averages per day, week and year. The maximum building week is also extracted. This value is used later to generate the heat map.\n"
   ]
  },
  {
   "cell_type": "code",
   "execution_count": 10,
   "metadata": {},
   "outputs": [
    {
     "name": "stdout",
     "output_type": "stream",
     "text": [
      "Building: Chamber of Mines Added with id 1\n",
      "Building: Flower Hall Added with id 2\n",
      "Building: Ithemba Labs High Voltage Added with id 3\n",
      "Building: Wits Science Stadium Added with id 4\n",
      "Building: Mathematical Science Building Added with id 5\n",
      "Building: Zesti Lemonz Added with id 6\n",
      "Building: FNB Building Added with id 7\n",
      "Building: PEC PIMD Office Block Added with id 8\n",
      "Building: DJ Du Plesis Added with id 9\n",
      "Building: West Campus Village Added with id 10\n",
      "Building: Convocation Dining Hall Added with id 11\n",
      "Building: Barnato Residence Added with id 12\n",
      "Building: David Webster Hall Added with id 13\n",
      "Building: The Barns Added with id 14\n",
      "Building: Olives and Plates Added with id 15\n",
      "Building: Johannesburg Planetarium Added with id 16\n",
      "Building: Wartenweilier Library Added with id 17\n",
      "Building: Origins Centre Added with id 18\n",
      "Building: Chemistry Building Added with id 19\n",
      "Building: Physics Building Added with id 20\n",
      "Building: Central Block Added with id 21\n",
      "Building: William Cullen Library Added with id 22\n",
      "Building: Gate House Added with id 23\n",
      "Building: Strurrock Park Added with id 24\n",
      "Building: Gym and Squash courts Added with id 25\n",
      "Building: Genmin Lab Added with id 26\n",
      "record added to db\n",
      "record added to db\n",
      "record added to db\n",
      "record added to db\n",
      "record added to db\n",
      "record added to db\n",
      "record added to db\n",
      "record added to db\n",
      "record added to db\n",
      "record added to db\n",
      "record added to db\n",
      "record added to db\n",
      "record added to db\n",
      "record added to db\n",
      "record added to db\n",
      "record added to db\n",
      "record added to db\n",
      "record added to db\n",
      "record added to db\n",
      "record added to db\n",
      "record added to db\n",
      "record added to db\n",
      "record added to db\n",
      "record added to db\n",
      "record added to db\n",
      "record added to db\n"
     ]
    }
   ],
   "source": [
    "buildingNamesStore = db.buildingNames\n",
    "startTime = \"2018-08-19T00:00:00+00:00\"\n",
    "buildingArray = []\n",
    "\n",
    "#Define a structure used in the creation of tables. itterate over each to define the graphs to draw\n",
    "plotsToDraw = {\n",
    "    'Day':{\n",
    "        \"resampleLength\":'1H',\n",
    "        \"windowLength\": 2*24, #1 day window with 2 samples per hour\n",
    "        \"moduloSize\": 24\n",
    "        },\n",
    "    'Week':{\n",
    "        \"resampleLength\":'1D',\n",
    "        \"windowLength\":2*24*7, # 1 week window with 2 samples per hour\n",
    "        \"moduloSize\": 7\n",
    "        },\n",
    "    'Year':{\n",
    "        \"resampleLength\":'1M',\n",
    "        \"windowLength\":2*24*30*8, #1 year window with 2 samples per hour\n",
    "        \"moduloSize\": 8\n",
    "        },\n",
    "}\n",
    "\n",
    "for index, feature in enumerate(loadedGeoJson[\"features\"]):\n",
    "    buildingName = feature[\"properties\"][\"buildingName\"]\n",
    "    #This blob is in accordance with the datastructure defined by swagger\n",
    "    buildingBlob = {\n",
    "        \"BuildingId\": index,\n",
    "        \"BuildingRank\": 0,\n",
    "        \"BuildingName\": buildingName,\n",
    "        \"BensorName\": \"SENSOR\",\n",
    "        \"ChartInformation\": {\n",
    "            \"DayInformation\": {\n",
    "                \"LastDay\": [],\n",
    "                \"AverageDay\": [],\n",
    "                \"LastDayAverage\":0,\n",
    "                \"MaximumDay\":0\n",
    "            },\n",
    "            \"WeekInformation\": {\n",
    "                \"LastWeek\": [],\n",
    "                \"AverageWeek\":[],\n",
    "                \"LastWeekAverage\": 0,\n",
    "                \"MaximumWeek\":0\n",
    "            },\n",
    "            \"YearInformation\": {          \n",
    "                \"LastYear\": [],\n",
    "                \"AverageYear\":[],\n",
    "                \"LastYearAverage\":0,\n",
    "                \"MaximumYear\":0\n",
    "            }\n",
    "        },\n",
    "    }\n",
    "    for plotType in plotsToDraw:\n",
    "        #We want to get all the time series data for that particular building. The start time would be removed if live\n",
    "        #data was added to the data set as we would want to query results from the current time back to the begining of the set\n",
    "        query = \"SELECT * FROM timeseriesdata WHERE buildingName='{}' AND time< '{}'\".format(buildingName, startTime)\n",
    "        queryResults = influxClient.query(query)\n",
    "        #We need to extract the time series data from the influx query results\n",
    "        results = queryResults[\"timeseriesdata\"][queryResults[\"timeseriesdata\"].keys()[0]]\n",
    "        #For the resampled region(to calculculate the last day/week/year) we dont need the full set so sub\n",
    "        #set using the tail (to get last x entries)\n",
    "        resampledResults = results.tail(plotsToDraw[plotType]['windowLength']).resample(plotsToDraw[plotType]['resampleLength'], label='right').sum()\n",
    "        #we can calculate the average overthe last period resampled region\n",
    "        buildingBlob[\"ChartInformation\"][plotType+\"Information\"][\"Last\" + plotType + \"Average\"]=resampledResults.mean()\n",
    "        \n",
    "        #Next, we want to convert the results into a format that mongo can accept. we cast it to a dict\n",
    "        #and then itterate over all results\n",
    "        resultsDict = resampledResults.to_dict()\n",
    "        formattedDict = {} \n",
    "        for result in resultsDict:\n",
    "            formattedDict[str(result)[0:19]] = resultsDict[result]\n",
    "        buildingBlob[\"ChartInformation\"][plotType+\"Information\"][\"Last\" + plotType] = formattedDict\n",
    "        \n",
    "        #The last step is to calculate the period average over all samples(eg the average week, over all data points)\n",
    "        \n",
    "        resampledResults_totalSet = results.resample(plotsToDraw[plotType]['resampleLength'], label='right').sum()\n",
    "\n",
    "        buildingBlob[\"ChartInformation\"][plotType+\"Information\"][\"Maximum\"+plotType]=np.max(resampledResults_totalSet)\n",
    "        resampledResults_totalSetDict = resampledResults_totalSet.to_dict()\n",
    "        \n",
    "        timeSeriesValues =  [[] for _ in range(plotsToDraw[plotType]['moduloSize'])]\n",
    "        for index, result in enumerate(resampledResults_totalSetDict):\n",
    "            relativeIndex = index % plotsToDraw[plotType]['moduloSize']\n",
    "            timeSeriesValues[relativeIndex].append(resampledResults_totalSetDict[result])\n",
    "        \n",
    "        finalizedAverage = []\n",
    "        for result in timeSeriesValues:\n",
    "            finalizedAverage.append(np.array(result).mean())\n",
    "  \n",
    "        #In order to plot these values correctly, they need to be bound off the last week key values        \n",
    "        averageResultsDict = {}\n",
    "        for index, key in enumerate(formattedDict):\n",
    "            averageResultsDict[key] = finalizedAverage[index]\n",
    "        buildingBlob[\"ChartInformation\"][plotType+\"Information\"][\"Average\" + plotType]=averageResultsDict\n",
    "\n",
    "        \n",
    "    buildingArray.append(buildingBlob)\n",
    "    print (\"Building: {} Added with id {}\".format(buildingName, len(buildingArray)))\n",
    "\n",
    "# Last step is to order the buildings to extract position of building relative to others\n",
    "sortedArray = sorted(buildingArray, key=lambda k: k['ChartInformation']['YearInformation']['LastYearAverage'], reverse=True) \n",
    "\n",
    "\n",
    "for index, element in enumerate(sortedArray):\n",
    "    buildingId = element[\"BuildingId\"]\n",
    "    buildingName = element[\"BuildingName\"]\n",
    "    element[\"BuildingRank\"] = index\n",
    "    buildingInformation_id = buildingInformationStore.insert_one(element).inserted_id\n",
    "    buildingNamesStore.insert_one({\"buildingName\": buildingName, \"BuildingId\": buildingId}).inserted_id\n",
    "    print(\"record added to db\")"
   ]
  },
  {
   "cell_type": "markdown",
   "metadata": {},
   "source": [
    "# Calculate the university wide metrics\n",
    "We want to be able to view the relative values for each set. These are averages over all time for all buildings. We already know what the average for each building is from before so we just need to find the average over all buildings for those particular sets."
   ]
  },
  {
   "cell_type": "code",
   "execution_count": 11,
   "metadata": {},
   "outputs": [
    {
     "name": "stdout",
     "output_type": "stream",
     "text": [
      "{'AveragePastDay': {'2018-08-18 01:00:00': 60.218459293864115, '2018-08-18 02:00:00': 59.84410026634411, '2018-08-18 03:00:00': 59.138347758855005, '2018-08-18 04:00:00': 58.773980915077644, '2018-08-18 05:00:00': 58.74214767477433, '2018-08-18 06:00:00': 59.47556343822619, '2018-08-18 07:00:00': 61.92847671706367, '2018-08-18 08:00:00': 68.06650213798937, '2018-08-18 09:00:00': 73.23942357401098, '2018-08-18 10:00:00': 77.83913218649856, '2018-08-18 11:00:00': 80.4742912517044, '2018-08-18 12:00:00': 81.9320100433419, '2018-08-18 13:00:00': 82.24839087628119, '2018-08-18 14:00:00': 81.84630627611658, '2018-08-18 15:00:00': 81.22090830102644, '2018-08-18 16:00:00': 80.20703559465548, '2018-08-18 17:00:00': 77.87254681454293, '2018-08-18 18:00:00': 73.67271956544867, '2018-08-18 19:00:00': 70.84014983050392, '2018-08-18 20:00:00': 69.27381069851812, '2018-08-18 21:00:00': 67.601561671259, '2018-08-18 22:00:00': 65.32713902722575, '2018-08-18 23:00:00': 63.781258703880624, '2018-08-19 00:00:00': 61.71667481299025}, 'AveragePastWeek': {'2018-08-13 00:00:00': 1738.8851005666984, '2018-08-14 00:00:00': 1777.849117158343, '2018-08-15 00:00:00': 1761.622233738133, '2018-08-16 00:00:00': 1752.2732275966412, '2018-08-17 00:00:00': 1715.4915563978311, '2018-08-18 00:00:00': 1503.7968553244307, '2018-08-19 00:00:00': 1470.85370666054}, 'AveragePastYear': {'2018-01-31 00:00:00': 44622.6943264235, '2018-02-28 00:00:00': 43591.220323127534, '2018-03-31 00:00:00': 48266.48664051898, '2018-04-30 00:00:00': 46943.87572412527, '2018-05-31 00:00:00': 56527.765906405606, '2018-06-30 00:00:00': 55029.84344850383, '2018-07-31 00:00:00': 59216.61291456564, '2018-08-31 00:00:00': 31116.11632527541}, 'Maximums': {'Day': 553.9554558995039, 'Week': 8396.717015911661, 'Year': 218027.44493728245}, 'MaximumLastPeriodAverage': {'Day': 195.73974324144424, 'Week': 5209.159874345788, 'Year': 185168.0806324837}}\n"
     ]
    }
   ],
   "source": [
    "buildingInformation = list(buildingInformationStore.find({}))\n",
    "\n",
    "campusInformation = {\n",
    "    \"AveragePastDay\": {},\n",
    "    \"AveragePastWeek\": {},\n",
    "    \"AveragePastYear\": {},\n",
    "    \"Maximums\": {\n",
    "        \"Day\": 0,\n",
    "        \"Week\": 0,\n",
    "        \"Year\": 0\n",
    "    },\n",
    "    \"MaximumLastPeriodAverage\": {\n",
    "        \"Day\": 0,\n",
    "        \"Week\": 0,\n",
    "        \"Year\": 0\n",
    "    }\n",
    "}\n",
    "#Itterate through all the plots that need averages\n",
    "for plotType in plotsToDraw:\n",
    "    typeAverageArray = []\n",
    "    \n",
    "    #For each building, extract their relevent time series values to sum over to get averages\n",
    "    #Each position in the timeSeriesValues array corisponds to a day(it is an array of 7 for a week, for example)\n",
    "    timeSeriesValues =  [[] for _ in range(plotsToDraw[plotType]['moduloSize'])]\n",
    "    #itterate over all buildings\n",
    "    for building in buildingInformation:\n",
    "        spesificBuildingArray = building[\"ChartInformation\"][plotType+\"Information\"][\"Average\" + plotType].values()\n",
    "        for index, value in enumerate(spesificBuildingArray):\n",
    "            timeSeriesValues[index].append(value)\n",
    "    \n",
    "    #calculate each everage and assign keys as time stamp values    \n",
    "    for index, key in enumerate(building[\"ChartInformation\"][plotType+\"Information\"][\"Average\" + plotType].keys()):\n",
    "        numpyArray = np.array(timeSeriesValues[index])\n",
    "        campusInformation[\"AveragePast\"+plotType][key] = numpyArray.mean()\n",
    "#         print(numpyArray.mean())\n",
    "    \n",
    "#         campusInformation[\"Maximums\"][plotType] = np.max(numpyArray)\n",
    "#         print(campusInformation[\"AveragePast\"+plotType][key])\n",
    "    \n",
    "    #Find maximum and MaximumLastPeriodAverage for each time period and asign it to struct\n",
    "    for building in buildingInformation:\n",
    "        buildingMax = building[\"ChartInformation\"][plotType+\"Information\"][\"Maximum\"+plotType]\n",
    "        if buildingMax > campusInformation[\"Maximums\"][plotType]:\n",
    "            campusInformation[\"Maximums\"][plotType] = buildingMax\n",
    "        buildingAverage = building[\"ChartInformation\"][plotType+\"Information\"][\"Last\"+plotType+\"Average\"]\n",
    "        if buildingAverage > campusInformation[\"MaximumLastPeriodAverage\"][plotType]:\n",
    "            campusInformation[\"MaximumLastPeriodAverage\"][plotType] = buildingAverage\n",
    "print(campusInformation)\n",
    "campusInfoStore = db.campusInfo\n",
    "campusInfo_id = campusInfoStore.insert_one(campusInformation).inserted_id"
   ]
  },
  {
   "cell_type": "markdown",
   "metadata": {},
   "source": [
    "# Generate geojson for each location\n",
    "Colours need to be assigned based off a buildings magnitude. \n",
    "First, define a set of functions to convert a max/min/value into a RGB value. This value is used to define the colour on the final heatmap"
   ]
  },
  {
   "cell_type": "code",
   "execution_count": 12,
   "metadata": {},
   "outputs": [],
   "source": [
    "def rgb(minimum, maximum, value):\n",
    "    minimum, maximum = float(minimum), float(maximum)\n",
    "    ratio = 2 * (value-minimum) / (maximum - minimum)\n",
    "    b = int(max(0, 255*(1 - ratio)))\n",
    "    r = int(max(0, 255*(ratio - 1)))\n",
    "    g = 255 - b - r\n",
    "    return r, g, b\n",
    "\n",
    "def getHex(minimum,maximum,value):\n",
    "    return '#%02x%02x%02x' % rgb(minimum,maximum,value)"
   ]
  },
  {
   "cell_type": "code",
   "execution_count": 13,
   "metadata": {},
   "outputs": [
    {
     "data": {
      "text/plain": [
       "'#00ff00'"
      ]
     },
     "execution_count": 13,
     "metadata": {},
     "output_type": "execute_result"
    }
   ],
   "source": [
    "getHex(0,10,5)"
   ]
  },
  {
   "cell_type": "markdown",
   "metadata": {},
   "source": [
    "Next, we itterate over the geojson set and update the square heat based of the set maximum"
   ]
  },
  {
   "cell_type": "code",
   "execution_count": 14,
   "metadata": {},
   "outputs": [
    {
     "name": "stdout",
     "output_type": "stream",
     "text": [
      "195.73974324144424 169.6027422753484 #ba4500\n",
      "195.73974324144424 30.501728403987205 #0050af\n",
      "195.73974324144424 193.44084341261973 #f90600\n",
      "195.73974324144424 43.60134286476033 #00728d\n",
      "195.73974324144424 195.73974324144424 #ff0000\n",
      "195.73974324144424 16.696298115096237 #002cd3\n",
      "195.73974324144424 79.19388727123186 #00cf30\n",
      "195.73974324144424 30.94527088495975 #0051ae\n",
      "195.73974324144424 33.831516843125236 #0059a6\n",
      "195.73974324144424 31.907664575079906 #0054ab\n",
      "195.73974324144424 0.0 #0000ff\n",
      "195.73974324144424 27.470640911869328 #0048b7\n",
      "195.73974324144424 142.73836055107037 #748b00\n",
      "195.73974324144424 6.926437073592442 #0013ec\n",
      "195.73974324144424 4.76708897323545 #000df2\n",
      "195.73974324144424 29.459999999999997 #004db2\n",
      "195.73974324144424 138.11221448094844 #689700\n",
      "195.73974324144424 55.474096063557226 #00916e\n",
      "195.73974324144424 59.70134663531372 #009c63\n",
      "195.73974324144424 59.70134663531372 #009c63\n",
      "195.73974324144424 37.660311538724415 #00639c\n",
      "195.73974324144424 4.834909164566484 #000df2\n",
      "195.73974324144424 117.78352875640887 #33cc00\n",
      "195.73974324144424 24.97955726239145 #0042bd\n",
      "195.73974324144424 40.9490087961893 #006b94\n",
      "195.73974324144424 35.92855945724168 #005ea1\n",
      "5209.159874345788 4915.371512735868 #e21d00\n",
      "5209.159874345788 733.2911612130101 #0048b7\n",
      "5209.159874345788 5209.159874345788 #ff0000\n",
      "5209.159874345788 1232.9705334342966 #007986\n",
      "5209.159874345788 4898.239995035247 #e01f00\n",
      "5209.159874345788 430.6907600799811 #002bd4\n",
      "5209.159874345788 2284.6980408962586 #00e01f\n",
      "5209.159874345788 875.563581615168 #0056a9\n",
      "5209.159874345788 1004.7606817769117 #00639c\n",
      "5209.159874345788 739.122234792287 #0049b6\n",
      "5209.159874345788 0.0 #0000ff\n",
      "5209.159874345788 606.8449072209442 #003cc3\n",
      "5209.159874345788 2912.7902266606716 #1ee100\n",
      "5209.159874345788 202.48280252879934 #0014eb\n",
      "5209.159874345788 153.15672722572756 #000ff0\n",
      "5209.159874345788 868.8685714285714 #0056a9\n",
      "5209.159874345788 3575.77277680285 #5fa000\n",
      "5209.159874345788 1247.6371183065078 #007b84\n",
      "5209.159874345788 1745.99538716566 #00ab54\n",
      "5209.159874345788 1745.99538716566 #00ab54\n",
      "5209.159874345788 1052.2660380864359 #006897\n",
      "5209.159874345788 520.6077370066304 #0033cc\n",
      "5209.159874345788 3342.647892303419 #48b700\n",
      "5209.159874345788 685.1042615446089 #0044bb\n",
      "5209.159874345788 1353.261447691728 #00857a\n",
      "5209.159874345788 872.0250125584747 #0056a9\n",
      "185168.0806324837 185168.0806324837 #ff0000\n",
      "185168.0806324837 21240.977178863068 #003bc4\n",
      "185168.0806324837 148501.403694465 #9a6500\n",
      "185168.0806324837 40920.10375636576 #00718e\n",
      "185168.0806324837 144606.86926108465 #8f7000\n",
      "185168.0806324837 10653.358962259194 #001ee1\n",
      "185168.0806324837 58664.54984577349 #00a25d\n",
      "185168.0806324837 22655.90389719708 #003fc0\n",
      "185168.0806324837 26088.72091144915 #0048b7\n",
      "185168.0806324837 16627.4256527058 #002ed1\n",
      "185168.0806324837 38.29161566088348 #0001fe\n",
      "185168.0806324837 10312.692408244402 #001de2\n",
      "185168.0806324837 63012.40571020429 #00ae51\n",
      "185168.0806324837 4939.6385343383145 #000ef1\n",
      "185168.0806324837 4414.807606401932 #000df2\n",
      "185168.0806324837 21963.803890421532 #003dc2\n",
      "185168.0806324837 115368.95804105068 #3ec100\n",
      "185168.0806324837 39926.24595301307 #006e91\n",
      "185168.0806324837 53985.085039193924 #00956a\n",
      "185168.0806324837 53985.085039193924 #00956a\n",
      "185168.0806324837 31347.731675236966 #0057a8\n",
      "185168.0806324837 14533.436289241068 #0029d6\n",
      "185168.0806324837 85556.57547558672 #00ec13\n",
      "185168.0806324837 17383.462061837134 #0030cf\n",
      "185168.0806324837 30961.410612983476 #0056a9\n",
      "185168.0806324837 29415.476983818487 #0052ad\n",
      "553.9554558995039 553.9554558995039 #ff0000\n",
      "553.9554558995039 183.94971568324058 #00aa55\n",
      "553.9554558995039 304.539159023557 #19e600\n",
      "553.9554558995039 115.8563243925845 #006b94\n",
      "553.9554558995039 302.84738501780305 #17e800\n",
      "553.9554558995039 50.101605579033205 #002fd0\n",
      "553.9554558995039 214.28716953634898 #00c639\n",
      "553.9554558995039 95.96073108292791 #0059a6\n",
      "553.9554558995039 83.6720093328338 #004eb1\n",
      "553.9554558995039 72.0025001302038 #0043bc\n",
      "553.9554558995039 57.6821970237646 #0036c9\n",
      "553.9554558995039 65.3751879686539 #003dc2\n",
      "553.9554558995039 298.256878771183 #13ec00\n",
      "553.9554558995039 36.201403940355 #0022dd\n",
      "553.9554558995039 19.485340633509 #0012ed\n",
      "553.9554558995039 201.76 #00ba45\n",
      "553.9554558995039 286.344759537336 #08f700\n",
      "553.9554558995039 181.591082628786 #00a857\n",
      "553.9554558995039 167.79523267846992 #009b64\n",
      "553.9554558995039 167.79523267846992 #009b64\n",
      "553.9554558995039 88.0486511277791 #0052ad\n",
      "553.9554558995039 93.14570352458051 #0056a9\n",
      "553.9554558995039 226.574014554777 #00d12e\n",
      "553.9554558995039 176.798928375274 #00a35c\n",
      "553.9554558995039 98.4201429807809 #005ba4\n",
      "553.9554558995039 212.25133499408702 #00c43b\n",
      "8396.717015911661 8396.717015911661 #ff0000\n",
      "8396.717015911661 4283.04478173162 #05fa00\n",
      "8396.717015911661 6462.362074300023 #897600\n",
      "8396.717015911661 1948.1137553474991 #007788\n",
      "8396.717015911661 6401.421254472063 #857a00\n",
      "8396.717015911661 567.8835590091138 #0023dc\n",
      "8396.717015911661 3461.224666487457 #00d32c\n",
      "8396.717015911661 1659.7401523983344 #00659a\n",
      "8396.717015911661 1414.3003761518526 #0056a9\n",
      "8396.717015911661 1286.9757924919584 #004fb0\n",
      "8396.717015911661 103.36791234767139 #0007f8\n",
      "8396.717015911661 1093.3700455733529 #0043bc\n",
      "8396.717015911661 5328.9929519955695 #44bb00\n",
      "8396.717015911661 404.5111978041261 #0019e6\n",
      "8396.717015911661 241.9509115572047 #000ff0\n",
      "8396.717015911661 1614.7200000000007 #00639c\n",
      "8396.717015911661 6080.371556937708 #728d00\n",
      "8396.717015911661 2500.013579648641 #009867\n",
      "8396.717015911661 2655.609743115118 #00a25d\n",
      "8396.717015911661 2655.609743115118 #00a25d\n",
      "8396.717015911661 1694.3426395294398 #006798\n",
      "8396.717015911661 935.9820878003088 #0039c6\n",
      "8396.717015911661 4187.542504630961 #00ff00\n",
      "8396.717015911661 1119.2064169825612 #0044bb\n",
      "8396.717015911661 1611.798927852561 #00629d\n",
      "8396.717015911661 4509.563457196415 #12ed00\n",
      "218027.44493728245 218027.44493728245 #ff0000\n",
      "218027.44493728245 50181.28177195978 #007689\n",
      "218027.44493728245 182210.69339959486 #ab5400\n",
      "218027.44493728245 49884.17124079859 #00758a\n",
      "218027.44493728245 174994.12990668826 #9a6500\n",
      "218027.44493728245 12216.926247425703 #001de2\n",
      "218027.44493728245 81060.78367840919 #00be41\n",
      "218027.44493728245 37161.906789477514 #0057a8\n",
      "218027.44493728245 35502.493988348804 #0054ab\n",
      "218027.44493728245 30170.147711774687 #0047b8\n",
      "218027.44493728245 134.13267493301112 #0001fe\n",
      "218027.44493728245 27101.80475038725 #0040bf\n",
      "218027.44493728245 111199.83869007463 #05fa00\n",
      "218027.44493728245 6927.332354117425 #0011ee\n",
      "218027.44493728245 5393.208054168777 #000df2\n",
      "218027.44493728245 26489.599999999966 #003ec1\n",
      "218027.44493728245 133606.68104289213 #39c600\n",
      "218027.44493728245 53268.73804707623 #007d82\n",
      "218027.44493728245 66354.29893714529 #009c63\n",
      "218027.44493728245 66354.29893714529 #009c63\n",
      "218027.44493728245 37044.39913677968 #0057a8\n",
      "218027.44493728245 18500.292271847196 #002cd3\n",
      "218027.44493728245 112745.0235252207 #08f700\n",
      "218027.44493728245 22877.67853159732 #0036c9\n",
      "218027.44493728245 36019.56153329591 #0055aa\n",
      "218027.44493728245 60162.302221578124 #008d72\n",
      "{'type': 'FeatureCollection', 'features': [{'type': 'Feature', 'properties': {'DayStyle_Maximum': {'color': '#999', 'fillColor': '#ff0000', 'fillOpacity': 0.7, 'opacity': 1, 'weight': 2}, 'WeekStyle_Maximum': {'color': '#999', 'fillColor': '#ff0000', 'fillOpacity': 0.7, 'opacity': 1, 'weight': 2}, 'YearStyle_Maximum': {'color': '#999', 'fillColor': '#ff0000', 'fillOpacity': 0.7, 'opacity': 1, 'weight': 2}, 'DayStyle_Average': {'color': '#999', 'fillColor': '#ba4500', 'fillOpacity': 0.7, 'opacity': 1, 'weight': 2}, 'WeekStyle_Average': {'color': '#999', 'fillColor': '#e21d00', 'fillOpacity': 0.7, 'opacity': 1, 'weight': 2}, 'YearStyle_Average': {'color': '#999', 'fillColor': '#ff0000', 'fillOpacity': 0.7, 'opacity': 1, 'weight': 2}, 'buildingName': 'Chamber of Mines', 'buildingId': 0}, 'geometry': {'type': 'Polygon', 'coordinates': [[[28.026670217514038, -26.19134352734578], [28.026729226112362, -26.191767125729683], [28.026643395423886, -26.191786380165073], [28.026697039604187, -26.19204150113358], [28.0270779132843, -26.19199336514455], [28.027067184448242, -26.19195485633902], [28.02739977836609, -26.19192116112372], [28.027292490005493, -26.191271322922137], [28.026670217514038, -26.19134352734578]]]}}, {'type': 'Feature', 'properties': {'DayStyle_Maximum': {'color': '#999', 'fillColor': '#00aa55', 'fillOpacity': 0.7, 'opacity': 1, 'weight': 2}, 'WeekStyle_Maximum': {'color': '#999', 'fillColor': '#05fa00', 'fillOpacity': 0.7, 'opacity': 1, 'weight': 2}, 'YearStyle_Maximum': {'color': '#999', 'fillColor': '#007689', 'fillOpacity': 0.7, 'opacity': 1, 'weight': 2}, 'DayStyle_Average': {'color': '#999', 'fillColor': '#0050af', 'fillOpacity': 0.7, 'opacity': 1, 'weight': 2}, 'WeekStyle_Average': {'color': '#999', 'fillColor': '#0048b7', 'fillOpacity': 0.7, 'opacity': 1, 'weight': 2}, 'YearStyle_Average': {'color': '#999', 'fillColor': '#003bc4', 'fillOpacity': 0.7, 'opacity': 1, 'weight': 2}, 'buildingName': 'Flower Hall', 'buildingId': 1}, 'geometry': {'type': 'Polygon', 'coordinates': [[[28.025929927825928, -26.19151200416024], [28.025962114334106, -26.191950042737417], [28.026278614997864, -26.191901906710605], [28.026192784309387, -26.19148312243793], [28.025929927825928, -26.19151200416024]]]}}, {'type': 'Feature', 'properties': {'DayStyle_Maximum': {'color': '#999', 'fillColor': '#19e600', 'fillOpacity': 0.7, 'opacity': 1, 'weight': 2}, 'WeekStyle_Maximum': {'color': '#999', 'fillColor': '#897600', 'fillOpacity': 0.7, 'opacity': 1, 'weight': 2}, 'YearStyle_Maximum': {'color': '#999', 'fillColor': '#ab5400', 'fillOpacity': 0.7, 'opacity': 1, 'weight': 2}, 'DayStyle_Average': {'color': '#999', 'fillColor': '#f90600', 'fillOpacity': 0.7, 'opacity': 1, 'weight': 2}, 'WeekStyle_Average': {'color': '#999', 'fillColor': '#ff0000', 'fillOpacity': 0.7, 'opacity': 1, 'weight': 2}, 'YearStyle_Average': {'color': '#999', 'fillColor': '#9a6500', 'fillOpacity': 0.7, 'opacity': 1, 'weight': 2}, 'buildingName': 'Ithemba Labs High Voltage', 'buildingId': 2}, 'geometry': {'type': 'Polygon', 'coordinates': [[[28.025683164596558, -26.19152644501871], [28.025720715522766, -26.19174787129111], [28.02588164806366, -26.191738244070628], [28.02583336830139, -26.191492749679494], [28.025683164596558, -26.19152644501871]]]}}, {'type': 'Feature', 'properties': {'DayStyle_Maximum': {'color': '#999', 'fillColor': '#006b94', 'fillOpacity': 0.7, 'opacity': 1, 'weight': 2}, 'WeekStyle_Maximum': {'color': '#999', 'fillColor': '#007788', 'fillOpacity': 0.7, 'opacity': 1, 'weight': 2}, 'YearStyle_Maximum': {'color': '#999', 'fillColor': '#00758a', 'fillOpacity': 0.7, 'opacity': 1, 'weight': 2}, 'DayStyle_Average': {'color': '#999', 'fillColor': '#00728d', 'fillOpacity': 0.7, 'opacity': 1, 'weight': 2}, 'WeekStyle_Average': {'color': '#999', 'fillColor': '#007986', 'fillOpacity': 0.7, 'opacity': 1, 'weight': 2}, 'YearStyle_Average': {'color': '#999', 'fillColor': '#00718e', 'fillOpacity': 0.7, 'opacity': 1, 'weight': 2}, 'buildingName': 'Wits Science Stadium', 'buildingId': 3}, 'geometry': {'type': 'Polygon', 'coordinates': [[[28.026541471481323, -26.190924741065615], [28.026509284973145, -26.190741822447844], [28.026552200317383, -26.19073219514421], [28.026536107063293, -26.190626294751766], [28.025693893432617, -26.19072256783979], [28.025693893432617, -26.19076107705271], [28.0256187915802, -26.19077070435395], [28.025559782981873, -26.190746636099355], [28.02549540996551, -26.190688872268023], [28.025463223457336, -26.19061185378171], [28.025457859039307, -26.19054927622407], [28.025484681129456, -26.19050113961841], [28.025543689727783, -26.190433748337043], [28.025318384170532, -26.190164182821754], [28.025200366973877, -26.190270083634285], [28.02512526512146, -26.190395239015906], [28.025087714195248, -26.190530021584195], [28.025087714195248, -26.19066480399652], [28.02513599395752, -26.1908284681447], [28.02524328231811, -26.19094880928342], [28.025447130203247, -26.191083591211207], [28.02550077438354, -26.19099213206293], [28.025559782981873, -26.1910162002668], [28.025699257850647, -26.191030641186746], [28.026541471481323, -26.190924741065615]]]}}, {'type': 'Feature', 'properties': {'DayStyle_Maximum': {'color': '#999', 'fillColor': '#17e800', 'fillOpacity': 0.7, 'opacity': 1, 'weight': 2}, 'WeekStyle_Maximum': {'color': '#999', 'fillColor': '#857a00', 'fillOpacity': 0.7, 'opacity': 1, 'weight': 2}, 'YearStyle_Maximum': {'color': '#999', 'fillColor': '#9a6500', 'fillOpacity': 0.7, 'opacity': 1, 'weight': 2}, 'DayStyle_Average': {'color': '#999', 'fillColor': '#ff0000', 'fillOpacity': 0.7, 'opacity': 1, 'weight': 2}, 'WeekStyle_Average': {'color': '#999', 'fillColor': '#e01f00', 'fillOpacity': 0.7, 'opacity': 1, 'weight': 2}, 'YearStyle_Average': {'color': '#999', 'fillColor': '#8f7000', 'fillOpacity': 0.7, 'opacity': 1, 'weight': 2}, 'buildingName': 'Mathematical Science Building', 'buildingId': 4}, 'geometry': {'type': 'Polygon', 'coordinates': [[[28.026745319366455, -26.190737008796116], [28.026986718177795, -26.190717754187272], [28.026933073997498, -26.1901064187016], [28.026552200317383, -26.19011604605695], [28.026525378227234, -26.19005346823297], [28.02684724330902, -26.19001014510436], [28.026820421218872, -26.189894616682658], [28.02633225917816, -26.189962008275906], [28.0263751745224, -26.190236387931648], [28.02660584449768, -26.19024601527626], [28.026745319366455, -26.190737008796116]]]}}, {'type': 'Feature', 'properties': {'DayStyle_Maximum': {'color': '#999', 'fillColor': '#002fd0', 'fillOpacity': 0.7, 'opacity': 1, 'weight': 2}, 'WeekStyle_Maximum': {'color': '#999', 'fillColor': '#0023dc', 'fillOpacity': 0.7, 'opacity': 1, 'weight': 2}, 'YearStyle_Maximum': {'color': '#999', 'fillColor': '#001de2', 'fillOpacity': 0.7, 'opacity': 1, 'weight': 2}, 'DayStyle_Average': {'color': '#999', 'fillColor': '#002cd3', 'fillOpacity': 0.7, 'opacity': 1, 'weight': 2}, 'WeekStyle_Average': {'color': '#999', 'fillColor': '#002bd4', 'fillOpacity': 0.7, 'opacity': 1, 'weight': 2}, 'YearStyle_Average': {'color': '#999', 'fillColor': '#001ee1', 'fillOpacity': 0.7, 'opacity': 1, 'weight': 2}, 'buildingName': 'Zesti Lemonz', 'buildingId': 5}, 'geometry': {'type': 'Polygon', 'coordinates': [[[28.027496337890625, -26.190380798017202], [28.027716279029843, -26.19026526996308], [28.027667999267578, -26.190212319566662], [28.02760362625122, -26.19018825119669], [28.027523159980774, -26.190202692219263], [28.027469515800473, -26.190279710976114], [28.027496337890625, -26.190380798017202]]]}}, {'type': 'Feature', 'properties': {'DayStyle_Maximum': {'color': '#999', 'fillColor': '#00c639', 'fillOpacity': 0.7, 'opacity': 1, 'weight': 2}, 'WeekStyle_Maximum': {'color': '#999', 'fillColor': '#00d32c', 'fillOpacity': 0.7, 'opacity': 1, 'weight': 2}, 'YearStyle_Maximum': {'color': '#999', 'fillColor': '#00be41', 'fillOpacity': 0.7, 'opacity': 1, 'weight': 2}, 'DayStyle_Average': {'color': '#999', 'fillColor': '#00cf30', 'fillOpacity': 0.7, 'opacity': 1, 'weight': 2}, 'WeekStyle_Average': {'color': '#999', 'fillColor': '#00e01f', 'fillOpacity': 0.7, 'opacity': 1, 'weight': 2}, 'YearStyle_Average': {'color': '#999', 'fillColor': '#00a25d', 'fillOpacity': 0.7, 'opacity': 1, 'weight': 2}, 'buildingName': 'FNB Building', 'buildingId': 6}, 'geometry': {'type': 'Polygon', 'coordinates': [[[28.026235699653622, -26.18969244166899], [28.026251792907715, -26.18977427445488], [28.026294708251953, -26.18977427445488], [28.0263215303421, -26.189909057741644], [28.027018904685974, -26.189827225050415], [28.026997447013855, -26.18969244166899], [28.027045726776123, -26.189687627973914], [28.027040362358093, -26.18962986361746], [28.026986718177795, -26.18962986361746], [28.026975989341732, -26.189538403327823], [28.026825785636902, -26.189552844430967], [28.026825785636902, -26.1895239622229], [28.026734590530396, -26.189538403327823], [28.026739954948425, -26.189562471832055], [28.026525378227234, -26.18959135403058], [28.026514649391174, -26.189557658131612], [28.026428818702698, -26.189562471832055], [28.026439547538757, -26.189596167729636], [28.026273250579834, -26.189615422523868], [28.026283979415894, -26.18968281427864], [28.026235699653622, -26.18969244166899]]]}}, {'type': 'Feature', 'properties': {'DayStyle_Maximum': {'color': '#999', 'fillColor': '#0059a6', 'fillOpacity': 0.7, 'opacity': 1, 'weight': 2}, 'WeekStyle_Maximum': {'color': '#999', 'fillColor': '#00659a', 'fillOpacity': 0.7, 'opacity': 1, 'weight': 2}, 'YearStyle_Maximum': {'color': '#999', 'fillColor': '#0057a8', 'fillOpacity': 0.7, 'opacity': 1, 'weight': 2}, 'DayStyle_Average': {'color': '#999', 'fillColor': '#0051ae', 'fillOpacity': 0.7, 'opacity': 1, 'weight': 2}, 'WeekStyle_Average': {'color': '#999', 'fillColor': '#0056a9', 'fillOpacity': 0.7, 'opacity': 1, 'weight': 2}, 'YearStyle_Average': {'color': '#999', 'fillColor': '#003fc0', 'fillOpacity': 0.7, 'opacity': 1, 'weight': 2}, 'buildingName': 'PEC PIMD Office Block', 'buildingId': 7}, 'geometry': {'type': 'Polygon', 'coordinates': [[[28.023778796195984, -26.188455315490604], [28.02391290664673, -26.18946138408086], [28.024776577949524, -26.189350668824137], [28.02463173866272, -26.188349413028316], [28.023778796195984, -26.188455315490604]]]}}, {'type': 'Feature', 'properties': {'DayStyle_Maximum': {'color': '#999', 'fillColor': '#004eb1', 'fillOpacity': 0.7, 'opacity': 1, 'weight': 2}, 'WeekStyle_Maximum': {'color': '#999', 'fillColor': '#0056a9', 'fillOpacity': 0.7, 'opacity': 1, 'weight': 2}, 'YearStyle_Maximum': {'color': '#999', 'fillColor': '#0054ab', 'fillOpacity': 0.7, 'opacity': 1, 'weight': 2}, 'DayStyle_Average': {'color': '#999', 'fillColor': '#0059a6', 'fillOpacity': 0.7, 'opacity': 1, 'weight': 2}, 'WeekStyle_Average': {'color': '#999', 'fillColor': '#00639c', 'fillOpacity': 0.7, 'opacity': 1, 'weight': 2}, 'YearStyle_Average': {'color': '#999', 'fillColor': '#0048b7', 'fillOpacity': 0.7, 'opacity': 1, 'weight': 2}, 'buildingName': 'DJ Du Plesis', 'buildingId': 8}, 'geometry': {'type': 'Polygon', 'coordinates': [[[28.02364468574524, -26.18813279405561], [28.023682236671444, -26.18844568799802], [28.024824857711792, -26.188286834255347], [28.024690747261047, -26.188118352776453], [28.024567365646362, -26.188055773879366], [28.02436888217926, -26.18798838118338], [28.02437961101532, -26.188041332590643], [28.02364468574524, -26.18813279405561]]]}}, {'type': 'Feature', 'properties': {'DayStyle_Maximum': {'color': '#999', 'fillColor': '#0043bc', 'fillOpacity': 0.7, 'opacity': 1, 'weight': 2}, 'WeekStyle_Maximum': {'color': '#999', 'fillColor': '#004fb0', 'fillOpacity': 0.7, 'opacity': 1, 'weight': 2}, 'YearStyle_Maximum': {'color': '#999', 'fillColor': '#0047b8', 'fillOpacity': 0.7, 'opacity': 1, 'weight': 2}, 'DayStyle_Average': {'color': '#999', 'fillColor': '#0054ab', 'fillOpacity': 0.7, 'opacity': 1, 'weight': 2}, 'WeekStyle_Average': {'color': '#999', 'fillColor': '#0049b6', 'fillOpacity': 0.7, 'opacity': 1, 'weight': 2}, 'YearStyle_Average': {'color': '#999', 'fillColor': '#002ed1', 'fillOpacity': 0.7, 'opacity': 1, 'weight': 2}, 'buildingName': 'West Campus Village', 'buildingId': 9}, 'geometry': {'type': 'Polygon', 'coordinates': [[[28.023462295532227, -26.187415541693507], [28.02358567714691, -26.18777176153938], [28.024427890777584, -26.187762133990297], [28.024218678474426, -26.187352962418913], [28.023462295532227, -26.187415541693507]]]}}, {'type': 'Feature', 'properties': {'DayStyle_Maximum': {'color': '#999', 'fillColor': '#0036c9', 'fillOpacity': 0.7, 'opacity': 1, 'weight': 2}, 'WeekStyle_Maximum': {'color': '#999', 'fillColor': '#0007f8', 'fillOpacity': 0.7, 'opacity': 1, 'weight': 2}, 'YearStyle_Maximum': {'color': '#999', 'fillColor': '#0001fe', 'fillOpacity': 0.7, 'opacity': 1, 'weight': 2}, 'DayStyle_Average': {'color': '#999', 'fillColor': '#0000ff', 'fillOpacity': 0.7, 'opacity': 1, 'weight': 2}, 'WeekStyle_Average': {'color': '#999', 'fillColor': '#0000ff', 'fillOpacity': 0.7, 'opacity': 1, 'weight': 2}, 'YearStyle_Average': {'color': '#999', 'fillColor': '#0001fe', 'fillOpacity': 0.7, 'opacity': 1, 'weight': 2}, 'buildingName': 'Convocation Dining Hall', 'buildingId': 10}, 'geometry': {'type': 'Polygon', 'coordinates': [[[28.024073839187622, -26.187015996516397], [28.023982644081116, -26.187040065541755], [28.023982644081116, -26.18716041059395], [28.02436888217926, -26.187107458786308], [28.024315237998962, -26.18679937506443], [28.024052381515503, -26.186833071761185], [28.024073839187622, -26.187015996516397]]]}}, {'type': 'Feature', 'properties': {'DayStyle_Maximum': {'color': '#999', 'fillColor': '#003dc2', 'fillOpacity': 0.7, 'opacity': 1, 'weight': 2}, 'WeekStyle_Maximum': {'color': '#999', 'fillColor': '#0043bc', 'fillOpacity': 0.7, 'opacity': 1, 'weight': 2}, 'YearStyle_Maximum': {'color': '#999', 'fillColor': '#0040bf', 'fillOpacity': 0.7, 'opacity': 1, 'weight': 2}, 'DayStyle_Average': {'color': '#999', 'fillColor': '#0048b7', 'fillOpacity': 0.7, 'opacity': 1, 'weight': 2}, 'WeekStyle_Average': {'color': '#999', 'fillColor': '#003cc3', 'fillOpacity': 0.7, 'opacity': 1, 'weight': 2}, 'YearStyle_Average': {'color': '#999', 'fillColor': '#001de2', 'fillOpacity': 0.7, 'opacity': 1, 'weight': 2}, 'buildingName': 'Barnato Residence', 'buildingId': 11}, 'geometry': {'type': 'Polygon', 'coordinates': [[[28.024443984031677, -26.186780119804766], [28.02450835704803, -26.187232617565613], [28.024781942367554, -26.18720373478231], [28.024771213531494, -26.18713152779276], [28.025034070014954, -26.187112272587992], [28.025039434432983, -26.18718447958949], [28.025334477424618, -26.187145969194255], [28.025275468826294, -26.186683843458688], [28.024443984031677, -26.186780119804766]]]}}, {'type': 'Feature', 'properties': {'DayStyle_Maximum': {'color': '#999', 'fillColor': '#13ec00', 'fillOpacity': 0.7, 'opacity': 1, 'weight': 2}, 'WeekStyle_Maximum': {'color': '#999', 'fillColor': '#44bb00', 'fillOpacity': 0.7, 'opacity': 1, 'weight': 2}, 'YearStyle_Maximum': {'color': '#999', 'fillColor': '#05fa00', 'fillOpacity': 0.7, 'opacity': 1, 'weight': 2}, 'DayStyle_Average': {'color': '#999', 'fillColor': '#748b00', 'fillOpacity': 0.7, 'opacity': 1, 'weight': 2}, 'WeekStyle_Average': {'color': '#999', 'fillColor': '#1ee100', 'fillOpacity': 0.7, 'opacity': 1, 'weight': 2}, 'YearStyle_Average': {'color': '#999', 'fillColor': '#00ae51', 'fillOpacity': 0.7, 'opacity': 1, 'weight': 2}, 'buildingName': 'David Webster Hall', 'buildingId': 12}, 'geometry': {'type': 'Polygon', 'coordinates': [[[28.025650978088375, -26.186780119804766], [28.025699257850647, -26.187117086389488], [28.026643395423886, -26.186987113679404], [28.02658438682556, -26.18664533289799], [28.025650978088375, -26.186780119804766]]]}}, {'type': 'Feature', 'properties': {'DayStyle_Maximum': {'color': '#999', 'fillColor': '#0022dd', 'fillOpacity': 0.7, 'opacity': 1, 'weight': 2}, 'WeekStyle_Maximum': {'color': '#999', 'fillColor': '#0019e6', 'fillOpacity': 0.7, 'opacity': 1, 'weight': 2}, 'YearStyle_Maximum': {'color': '#999', 'fillColor': '#0011ee', 'fillOpacity': 0.7, 'opacity': 1, 'weight': 2}, 'DayStyle_Average': {'color': '#999', 'fillColor': '#0013ec', 'fillOpacity': 0.7, 'opacity': 1, 'weight': 2}, 'WeekStyle_Average': {'color': '#999', 'fillColor': '#0014eb', 'fillOpacity': 0.7, 'opacity': 1, 'weight': 2}, 'YearStyle_Average': {'color': '#999', 'fillColor': '#000ef1', 'fillOpacity': 0.7, 'opacity': 1, 'weight': 2}, 'buildingName': 'The Barns', 'buildingId': 13}, 'geometry': {'type': 'Polygon', 'coordinates': [[[28.02564024925232, -26.186168763655836], [28.02564024925232, -26.186265040427536], [28.025967478752136, -26.18621690205163], [28.026273250579834, -26.185985837570428], [28.02634298801422, -26.185817352763994], [28.026241064071655, -26.185774028060106], [28.026144504547116, -26.185976209873765], [28.025929927825928, -26.186125439082616], [28.02564024925232, -26.186168763655836]]]}}, {'type': 'Feature', 'properties': {'DayStyle_Maximum': {'color': '#999', 'fillColor': '#0012ed', 'fillOpacity': 0.7, 'opacity': 1, 'weight': 2}, 'WeekStyle_Maximum': {'color': '#999', 'fillColor': '#000ff0', 'fillOpacity': 0.7, 'opacity': 1, 'weight': 2}, 'YearStyle_Maximum': {'color': '#999', 'fillColor': '#000df2', 'fillOpacity': 0.7, 'opacity': 1, 'weight': 2}, 'DayStyle_Average': {'color': '#999', 'fillColor': '#000df2', 'fillOpacity': 0.7, 'opacity': 1, 'weight': 2}, 'WeekStyle_Average': {'color': '#999', 'fillColor': '#000ff0', 'fillOpacity': 0.7, 'opacity': 1, 'weight': 2}, 'YearStyle_Average': {'color': '#999', 'fillColor': '#000df2', 'fillOpacity': 0.7, 'opacity': 1, 'weight': 2}, 'buildingName': 'Olives and Plates', 'buildingId': 14}, 'geometry': {'type': 'Polygon', 'coordinates': [[[28.02557051181793, -26.18572588948133], [28.025704622268677, -26.185889560568008], [28.026026487350464, -26.18570182018448], [28.025956749916077, -26.185629612264123], [28.02588701248169, -26.185697006324528], [28.025795817375183, -26.18560072908344], [28.02557051181793, -26.18572588948133]]]}}, {'type': 'Feature', 'properties': {'DayStyle_Maximum': {'color': '#999', 'fillColor': '#00ba45', 'fillOpacity': 0.7, 'opacity': 1, 'weight': 2}, 'WeekStyle_Maximum': {'color': '#999', 'fillColor': '#00639c', 'fillOpacity': 0.7, 'opacity': 1, 'weight': 2}, 'YearStyle_Maximum': {'color': '#999', 'fillColor': '#003ec1', 'fillOpacity': 0.7, 'opacity': 1, 'weight': 2}, 'DayStyle_Average': {'color': '#999', 'fillColor': '#004db2', 'fillOpacity': 0.7, 'opacity': 1, 'weight': 2}, 'WeekStyle_Average': {'color': '#999', 'fillColor': '#0056a9', 'fillOpacity': 0.7, 'opacity': 1, 'weight': 2}, 'YearStyle_Average': {'color': '#999', 'fillColor': '#003dc2', 'fillOpacity': 0.7, 'opacity': 1, 'weight': 2}, 'buildingName': 'Johannesburg Planetarium', 'buildingId': 15}, 'geometry': {'type': 'Polygon', 'coordinates': [[[28.028123974800106, -26.188378295527585], [28.02810251712799, -26.188469756728004], [28.02814543247223, -26.188585286562738], [28.028231263160706, -26.18857084533966], [28.028231263160706, -26.188522707916484], [28.028258085250854, -26.188522707916484], [28.02829563617706, -26.188556404114806], [28.028365373611447, -26.18856121785662], [28.028429746627808, -26.18854196288814], [28.028467297554016, -26.188513080429455], [28.02854239940643, -26.18850345294163], [28.0285370349884, -26.188392736774528], [28.028467297554016, -26.188392736774528], [28.028419017791748, -26.188354226778692], [28.02835464477539, -26.188339785526967], [28.028274178504944, -26.188378295527585], [28.028247356414795, -26.188411991767662], [28.028220534324646, -26.188416805515455], [28.028204441070553, -26.1883734817782], [28.028123974800106, -26.188378295527585]]]}}, {'type': 'Feature', 'properties': {'DayStyle_Maximum': {'color': '#999', 'fillColor': '#08f700', 'fillOpacity': 0.7, 'opacity': 1, 'weight': 2}, 'WeekStyle_Maximum': {'color': '#999', 'fillColor': '#728d00', 'fillOpacity': 0.7, 'opacity': 1, 'weight': 2}, 'YearStyle_Maximum': {'color': '#999', 'fillColor': '#39c600', 'fillOpacity': 0.7, 'opacity': 1, 'weight': 2}, 'DayStyle_Average': {'color': '#999', 'fillColor': '#689700', 'fillOpacity': 0.7, 'opacity': 1, 'weight': 2}, 'WeekStyle_Average': {'color': '#999', 'fillColor': '#5fa000', 'fillOpacity': 0.7, 'opacity': 1, 'weight': 2}, 'YearStyle_Average': {'color': '#999', 'fillColor': '#3ec100', 'fillOpacity': 0.7, 'opacity': 1, 'weight': 2}, 'buildingName': 'Wartenweilier Library', 'buildingId': 16}, 'geometry': {'type': 'Polygon', 'coordinates': [[[28.03061306476593, -26.19089104555235], [28.030677437782284, -26.191362781851193], [28.031015396118164, -26.191329086464638], [28.030951023101807, -26.190857350029333], [28.03061306476593, -26.19089104555235]]]}}, {'type': 'Feature', 'properties': {'DayStyle_Maximum': {'color': '#999', 'fillColor': '#00a857', 'fillOpacity': 0.7, 'opacity': 1, 'weight': 2}, 'WeekStyle_Maximum': {'color': '#999', 'fillColor': '#009867', 'fillOpacity': 0.7, 'opacity': 1, 'weight': 2}, 'YearStyle_Maximum': {'color': '#999', 'fillColor': '#007d82', 'fillOpacity': 0.7, 'opacity': 1, 'weight': 2}, 'DayStyle_Average': {'color': '#999', 'fillColor': '#00916e', 'fillOpacity': 0.7, 'opacity': 1, 'weight': 2}, 'WeekStyle_Average': {'color': '#999', 'fillColor': '#007b84', 'fillOpacity': 0.7, 'opacity': 1, 'weight': 2}, 'YearStyle_Average': {'color': '#999', 'fillColor': '#006e91', 'fillOpacity': 0.7, 'opacity': 1, 'weight': 2}, 'buildingName': 'Origins Centre', 'buildingId': 17}, 'geometry': {'type': 'Polygon', 'coordinates': [[[28.027957677841183, -26.19291275909642], [28.027979135513306, -26.192999403178433], [28.028016686439514, -26.192989776061385], [28.02804350852966, -26.193105301413368], [28.02814543247223, -26.19307160653088], [28.028182983398438, -26.193148623390822], [28.028258085250854, -26.19312455562756], [28.02829027175903, -26.193196758902424], [28.02859604358673, -26.19311011496721], [28.028478026390076, -26.192782792852533], [28.027957677841183, -26.19291275909642]]]}}, {'type': 'Feature', 'properties': {'DayStyle_Maximum': {'color': '#999', 'fillColor': '#009b64', 'fillOpacity': 0.7, 'opacity': 1, 'weight': 2}, 'WeekStyle_Maximum': {'color': '#999', 'fillColor': '#00a25d', 'fillOpacity': 0.7, 'opacity': 1, 'weight': 2}, 'YearStyle_Maximum': {'color': '#999', 'fillColor': '#009c63', 'fillOpacity': 0.7, 'opacity': 1, 'weight': 2}, 'DayStyle_Average': {'color': '#999', 'fillColor': '#009c63', 'fillOpacity': 0.7, 'opacity': 1, 'weight': 2}, 'WeekStyle_Average': {'color': '#999', 'fillColor': '#00ab54', 'fillOpacity': 0.7, 'opacity': 1, 'weight': 2}, 'YearStyle_Average': {'color': '#999', 'fillColor': '#00956a', 'fillOpacity': 0.7, 'opacity': 1, 'weight': 2}, 'buildingName': 'Chemistry Building', 'buildingId': 18}, 'geometry': {'type': 'Polygon', 'coordinates': [[[28.03089201450348, -26.19197411074337], [28.030940294265747, -26.192296621543303], [28.03158938884735, -26.19221479052936], [28.031541109085083, -26.191897093106828], [28.03089201450348, -26.19197411074337]]]}}, {'type': 'Feature', 'properties': {'DayStyle_Maximum': {'color': '#999', 'fillColor': '#009b64', 'fillOpacity': 0.7, 'opacity': 1, 'weight': 2}, 'WeekStyle_Maximum': {'color': '#999', 'fillColor': '#00a25d', 'fillOpacity': 0.7, 'opacity': 1, 'weight': 2}, 'YearStyle_Maximum': {'color': '#999', 'fillColor': '#009c63', 'fillOpacity': 0.7, 'opacity': 1, 'weight': 2}, 'DayStyle_Average': {'color': '#999', 'fillColor': '#009c63', 'fillOpacity': 0.7, 'opacity': 1, 'weight': 2}, 'WeekStyle_Average': {'color': '#999', 'fillColor': '#00ab54', 'fillOpacity': 0.7, 'opacity': 1, 'weight': 2}, 'YearStyle_Average': {'color': '#999', 'fillColor': '#00956a', 'fillOpacity': 0.7, 'opacity': 1, 'weight': 2}, 'buildingName': 'Physics Building', 'buildingId': 19}, 'geometry': {'type': 'Polygon', 'coordinates': [[[28.03082764148712, -26.191531258637806], [28.03086519241333, -26.191834516239645], [28.031546473503113, -26.191762312120343], [28.03149819374084, -26.191468681574094], [28.03082764148712, -26.191531258637806]]]}}, {'type': 'Feature', 'properties': {'DayStyle_Maximum': {'color': '#999', 'fillColor': '#0052ad', 'fillOpacity': 0.7, 'opacity': 1, 'weight': 2}, 'WeekStyle_Maximum': {'color': '#999', 'fillColor': '#006798', 'fillOpacity': 0.7, 'opacity': 1, 'weight': 2}, 'YearStyle_Maximum': {'color': '#999', 'fillColor': '#0057a8', 'fillOpacity': 0.7, 'opacity': 1, 'weight': 2}, 'DayStyle_Average': {'color': '#999', 'fillColor': '#00639c', 'fillOpacity': 0.7, 'opacity': 1, 'weight': 2}, 'WeekStyle_Average': {'color': '#999', 'fillColor': '#006897', 'fillOpacity': 0.7, 'opacity': 1, 'weight': 2}, 'YearStyle_Average': {'color': '#999', 'fillColor': '#0057a8', 'fillOpacity': 0.7, 'opacity': 1, 'weight': 2}, 'buildingName': 'Central Block', 'buildingId': 20}, 'geometry': {'type': 'Polygon', 'coordinates': [[[28.029845952987667, -26.191796007381587], [28.029921054840088, -26.192402520417197], [28.03089737892151, -26.192262926426867], [28.030790090560913, -26.191656412664408], [28.029845952987667, -26.191796007381587]]]}}, {'type': 'Feature', 'properties': {'DayStyle_Maximum': {'color': '#999', 'fillColor': '#0056a9', 'fillOpacity': 0.7, 'opacity': 1, 'weight': 2}, 'WeekStyle_Maximum': {'color': '#999', 'fillColor': '#0039c6', 'fillOpacity': 0.7, 'opacity': 1, 'weight': 2}, 'YearStyle_Maximum': {'color': '#999', 'fillColor': '#002cd3', 'fillOpacity': 0.7, 'opacity': 1, 'weight': 2}, 'DayStyle_Average': {'color': '#999', 'fillColor': '#000df2', 'fillOpacity': 0.7, 'opacity': 1, 'weight': 2}, 'WeekStyle_Average': {'color': '#999', 'fillColor': '#0033cc', 'fillOpacity': 0.7, 'opacity': 1, 'weight': 2}, 'YearStyle_Average': {'color': '#999', 'fillColor': '#0029d6', 'fillOpacity': 0.7, 'opacity': 1, 'weight': 2}, 'buildingName': 'William Cullen Library', 'buildingId': 21}, 'geometry': {'type': 'Polygon', 'coordinates': [[[28.02913248538971, -26.190568530860766], [28.029191493988034, -26.19089104555235], [28.029599189758297, -26.190823654496576], [28.02952408790588, -26.19051558060219], [28.02913248538971, -26.190568530860766]]]}}, {'type': 'Feature', 'properties': {'DayStyle_Maximum': {'color': '#999', 'fillColor': '#00d12e', 'fillOpacity': 0.7, 'opacity': 1, 'weight': 2}, 'WeekStyle_Maximum': {'color': '#999', 'fillColor': '#00ff00', 'fillOpacity': 0.7, 'opacity': 1, 'weight': 2}, 'YearStyle_Maximum': {'color': '#999', 'fillColor': '#08f700', 'fillOpacity': 0.7, 'opacity': 1, 'weight': 2}, 'DayStyle_Average': {'color': '#999', 'fillColor': '#33cc00', 'fillOpacity': 0.7, 'opacity': 1, 'weight': 2}, 'WeekStyle_Average': {'color': '#999', 'fillColor': '#48b700', 'fillOpacity': 0.7, 'opacity': 1, 'weight': 2}, 'YearStyle_Average': {'color': '#999', 'fillColor': '#00ec13', 'fillOpacity': 0.7, 'opacity': 1, 'weight': 2}, 'buildingName': 'Gate House', 'buildingId': 22}, 'geometry': {'type': 'Polygon', 'coordinates': [[[28.032179474830627, -26.191897093106828], [28.031702041625977, -26.191916347520742], [28.031702041625977, -26.192080009910473], [28.032206296920776, -26.19207519631405], [28.032179474830627, -26.191897093106828]]]}}, {'type': 'Feature', 'properties': {'DayStyle_Maximum': {'color': '#999', 'fillColor': '#00a35c', 'fillOpacity': 0.7, 'opacity': 1, 'weight': 2}, 'WeekStyle_Maximum': {'color': '#999', 'fillColor': '#0044bb', 'fillOpacity': 0.7, 'opacity': 1, 'weight': 2}, 'YearStyle_Maximum': {'color': '#999', 'fillColor': '#0036c9', 'fillOpacity': 0.7, 'opacity': 1, 'weight': 2}, 'DayStyle_Average': {'color': '#999', 'fillColor': '#0042bd', 'fillOpacity': 0.7, 'opacity': 1, 'weight': 2}, 'WeekStyle_Average': {'color': '#999', 'fillColor': '#0044bb', 'fillOpacity': 0.7, 'opacity': 1, 'weight': 2}, 'YearStyle_Average': {'color': '#999', 'fillColor': '#0030cf', 'fillOpacity': 0.7, 'opacity': 1, 'weight': 2}, 'buildingName': 'Strurrock Park', 'buildingId': 23}, 'geometry': {'type': 'Polygon', 'coordinates': [[[28.02336573600769, -26.192883877721417], [28.02314579486847, -26.19295126758527], [28.02312970161438, -26.192864623467443], [28.02341401576996, -26.19243140191155], [28.023312091827393, -26.192397706834104], [28.023000955581665, -26.192874250594823], [28.023054599761963, -26.192989776061385], [28.02289366722107, -26.193037911638633], [28.022952675819397, -26.1931630640464], [28.02308678627014, -26.19312455562756], [28.02315652370453, -26.193317097594402], [28.023462295532227, -26.193220826650762], [28.02336573600769, -26.192883877721417]]]}}, {'type': 'Feature', 'properties': {'DayStyle_Maximum': {'color': '#999', 'fillColor': '#005ba4', 'fillOpacity': 0.7, 'opacity': 1, 'weight': 2}, 'WeekStyle_Maximum': {'color': '#999', 'fillColor': '#00629d', 'fillOpacity': 0.7, 'opacity': 1, 'weight': 2}, 'YearStyle_Maximum': {'color': '#999', 'fillColor': '#0055aa', 'fillOpacity': 0.7, 'opacity': 1, 'weight': 2}, 'DayStyle_Average': {'color': '#999', 'fillColor': '#006b94', 'fillOpacity': 0.7, 'opacity': 1, 'weight': 2}, 'WeekStyle_Average': {'color': '#999', 'fillColor': '#00857a', 'fillOpacity': 0.7, 'opacity': 1, 'weight': 2}, 'YearStyle_Average': {'color': '#999', 'fillColor': '#0056a9', 'fillOpacity': 0.7, 'opacity': 1, 'weight': 2}, 'buildingName': 'Gym and Squash courts', 'buildingId': 24}, 'geometry': {'type': 'Polygon', 'coordinates': [[[28.026739954948425, -26.18618320517666], [28.026798963546753, -26.18649610435503], [28.02715301513672, -26.186428710756847], [28.02708864212036, -26.186130252924873], [28.026739954948425, -26.18618320517666]]]}}, {'type': 'Feature', 'properties': {'DayStyle_Maximum': {'color': '#999', 'fillColor': '#00c43b', 'fillOpacity': 0.7, 'opacity': 1, 'weight': 2}, 'WeekStyle_Maximum': {'color': '#999', 'fillColor': '#12ed00', 'fillOpacity': 0.7, 'opacity': 1, 'weight': 2}, 'YearStyle_Maximum': {'color': '#999', 'fillColor': '#008d72', 'fillOpacity': 0.7, 'opacity': 1, 'weight': 2}, 'DayStyle_Average': {'color': '#999', 'fillColor': '#005ea1', 'fillOpacity': 0.7, 'opacity': 1, 'weight': 2}, 'WeekStyle_Average': {'color': '#999', 'fillColor': '#0056a9', 'fillOpacity': 0.7, 'opacity': 1, 'weight': 2}, 'YearStyle_Average': {'color': '#999', 'fillColor': '#0052ad', 'fillOpacity': 0.7, 'opacity': 1, 'weight': 2}, 'buildingName': 'Genmin Lab', 'buildingId': 25}, 'geometry': {'type': 'Polygon', 'coordinates': [[[28.026283979415894, -26.191194304820915], [28.026198148727417, -26.191194304820915], [28.026198148727417, -26.191146168481794], [28.025978207588196, -26.191179863921274], [28.025994300842285, -26.191228000246475], [28.025903105735775, -26.1912328138779], [28.02588164806366, -26.191179863921274], [28.02561342716217, -26.19122318661485], [28.02564561367035, -26.191463867952415], [28.02631616592407, -26.191391663603362], [28.026283979415894, -26.191194304820915]]]}}]}\n"
     ]
    }
   ],
   "source": [
    " # We want to gives the colours for the heatmap to show the consumption averages & maximums over a day, week and year\n",
    "groupings = [\"Average\",\"Maximum\"]\n",
    "for group in groupings:\n",
    "    for plotType in plotsToDraw:\n",
    "        for index, feature in enumerate(loadedGeoJson[\"features\"]):\n",
    "            buildingName = feature[\"properties\"][\"buildingName\"]\n",
    "            if group ==\"Average\":\n",
    "                value = buildingInformationStore.find_one({\"BuildingName\": buildingName})['ChartInformation'][plotType + 'Information'][\"Last\" +plotType + group]\n",
    "                maximum = campusInformation[\"MaximumLastPeriodAverage\"][plotType]\n",
    "            else:\n",
    "                maximum = campusInformation[\"Maximums\"][plotType]\n",
    "                value = buildingInformationStore.find_one({\"BuildingName\": buildingName})['ChartInformation'][plotType + 'Information'][group + plotType]\n",
    "            newColour = getHex(0,\n",
    "                               maximum,\n",
    "                               value)\n",
    "            print(maximum,value,newColour)\n",
    "#             print(buildingInformationStore.find_one({\"BuildingName\": buildingName})['ChartInformation'][plotType + 'Information']['Last'+ plotType + group])\n",
    "            loadedGeoJson[\"features\"][index][\"properties\"][plotType + \"Style_\" + group][\"fillColor\"] = newColour\n",
    "            loadedGeoJson[\"features\"][index][\"properties\"][\"buildingId\"] = index #set the index of the building based off the previous indecies\n",
    "print(loadedGeoJson)\n",
    "    "
   ]
  },
  {
   "cell_type": "markdown",
   "metadata": {},
   "source": [
    "# Insert the geojson into the database\n",
    "Now that the heatmap colours have been calculated, we can incert it into the database"
   ]
  },
  {
   "cell_type": "code",
   "execution_count": 15,
   "metadata": {},
   "outputs": [],
   "source": [
    "geojsonStore = db.geojson\n",
    "geojson_id = geojsonStore.insert_one(loadedGeoJson).inserted_id"
   ]
  },
  {
   "cell_type": "code",
   "execution_count": 16,
   "metadata": {},
   "outputs": [
    {
     "name": "stdout",
     "output_type": "stream",
     "text": [
      "{'name': 'Main campus', 'center': ['28.0240, -26.18701'], 'numberOfStudents': 25000, 'averageWeekChart': {}, 'piDistribution': {}, 'sunburstDistribution': {}, 'streamGraph': {}, 'totalSensors': 2000}\n"
     ]
    }
   ],
   "source": [
    "loadedCampusInfo = {}\n",
    "with open('../../Assets/otherinformation/campusInfomation.json') as json_data:\n",
    "    loadedCampusInfo = json.load(json_data)\n",
    "    print(loadedCampusInfo)"
   ]
  },
  {
   "cell_type": "code",
   "execution_count": 17,
   "metadata": {},
   "outputs": [
    {
     "name": "stdout",
     "output_type": "stream",
     "text": [
      "{'type': 'FeatureCollection', 'features': [{'type': 'Feature', 'properties': {'DayStyle_Maximum': {'color': '#999', 'fillColor': '#999', 'fillOpacity': 0.7, 'opacity': 1, 'weight': 2}, 'WeekStyle_Maximum': {'color': '#999', 'fillColor': '#999', 'fillOpacity': 0.7, 'opacity': 1, 'weight': 2}, 'YearStyle_Maximum': {'color': '#999', 'fillColor': '#999', 'fillOpacity': 0.7, 'opacity': 1, 'weight': 2}, 'DayStyle_Average': {'color': '#999', 'fillColor': '#999', 'fillOpacity': 0.7, 'opacity': 1, 'weight': 2}, 'WeekStyle_Average': {'color': '#999', 'fillColor': '#999', 'fillOpacity': 0.7, 'opacity': 1, 'weight': 2}, 'YearStyle_Average': {'color': '#999', 'fillColor': '#999', 'fillOpacity': 0.7, 'opacity': 1, 'weight': 2}, 'buildingName': 'Chamber of Mines', 'buildingId': 0}, 'geometry': {'type': 'Polygon', 'coordinates': [[[28.026670217514038, -26.19134352734578], [28.026729226112362, -26.191767125729683], [28.026643395423886, -26.191786380165073], [28.026697039604187, -26.19204150113358], [28.0270779132843, -26.19199336514455], [28.027067184448242, -26.19195485633902], [28.02739977836609, -26.19192116112372], [28.027292490005493, -26.191271322922137], [28.026670217514038, -26.19134352734578]]]}}, {'type': 'Feature', 'properties': {'DayStyle_Maximum': {'color': '#999', 'fillColor': '#999', 'fillOpacity': 0.7, 'opacity': 1, 'weight': 2}, 'WeekStyle_Maximum': {'color': '#999', 'fillColor': '#999', 'fillOpacity': 0.7, 'opacity': 1, 'weight': 2}, 'YearStyle_Maximum': {'color': '#999', 'fillColor': '#999', 'fillOpacity': 0.7, 'opacity': 1, 'weight': 2}, 'DayStyle_Average': {'color': '#999', 'fillColor': '#999', 'fillOpacity': 0.7, 'opacity': 1, 'weight': 2}, 'WeekStyle_Average': {'color': '#999', 'fillColor': '#999', 'fillOpacity': 0.7, 'opacity': 1, 'weight': 2}, 'YearStyle_Average': {'color': '#999', 'fillColor': '#999', 'fillOpacity': 0.7, 'opacity': 1, 'weight': 2}, 'buildingName': 'Flower Hall', 'buildingId': 0}, 'geometry': {'type': 'Polygon', 'coordinates': [[[28.025929927825928, -26.19151200416024], [28.025962114334106, -26.191950042737417], [28.026278614997864, -26.191901906710605], [28.026192784309387, -26.19148312243793], [28.025929927825928, -26.19151200416024]]]}}, {'type': 'Feature', 'properties': {'DayStyle_Maximum': {'color': '#999', 'fillColor': '#999', 'fillOpacity': 0.7, 'opacity': 1, 'weight': 2}, 'WeekStyle_Maximum': {'color': '#999', 'fillColor': '#999', 'fillOpacity': 0.7, 'opacity': 1, 'weight': 2}, 'YearStyle_Maximum': {'color': '#999', 'fillColor': '#999', 'fillOpacity': 0.7, 'opacity': 1, 'weight': 2}, 'DayStyle_Average': {'color': '#999', 'fillColor': '#999', 'fillOpacity': 0.7, 'opacity': 1, 'weight': 2}, 'WeekStyle_Average': {'color': '#999', 'fillColor': '#999', 'fillOpacity': 0.7, 'opacity': 1, 'weight': 2}, 'YearStyle_Average': {'color': '#999', 'fillColor': '#999', 'fillOpacity': 0.7, 'opacity': 1, 'weight': 2}, 'buildingName': 'Ithemba Labs High Voltage', 'buildingId': 0}, 'geometry': {'type': 'Polygon', 'coordinates': [[[28.025683164596558, -26.19152644501871], [28.025720715522766, -26.19174787129111], [28.02588164806366, -26.191738244070628], [28.02583336830139, -26.191492749679494], [28.025683164596558, -26.19152644501871]]]}}, {'type': 'Feature', 'properties': {'DayStyle_Maximum': {'color': '#999', 'fillColor': '#999', 'fillOpacity': 0.7, 'opacity': 1, 'weight': 2}, 'WeekStyle_Maximum': {'color': '#999', 'fillColor': '#999', 'fillOpacity': 0.7, 'opacity': 1, 'weight': 2}, 'YearStyle_Maximum': {'color': '#999', 'fillColor': '#999', 'fillOpacity': 0.7, 'opacity': 1, 'weight': 2}, 'DayStyle_Average': {'color': '#999', 'fillColor': '#999', 'fillOpacity': 0.7, 'opacity': 1, 'weight': 2}, 'WeekStyle_Average': {'color': '#999', 'fillColor': '#999', 'fillOpacity': 0.7, 'opacity': 1, 'weight': 2}, 'YearStyle_Average': {'color': '#999', 'fillColor': '#999', 'fillOpacity': 0.7, 'opacity': 1, 'weight': 2}, 'buildingName': 'Wits Science Stadium', 'buildingId': 0}, 'geometry': {'type': 'Polygon', 'coordinates': [[[28.026541471481323, -26.190924741065615], [28.026509284973145, -26.190741822447844], [28.026552200317383, -26.19073219514421], [28.026536107063293, -26.190626294751766], [28.025693893432617, -26.19072256783979], [28.025693893432617, -26.19076107705271], [28.0256187915802, -26.19077070435395], [28.025559782981873, -26.190746636099355], [28.02549540996551, -26.190688872268023], [28.025463223457336, -26.19061185378171], [28.025457859039307, -26.19054927622407], [28.025484681129456, -26.19050113961841], [28.025543689727783, -26.190433748337043], [28.025318384170532, -26.190164182821754], [28.025200366973877, -26.190270083634285], [28.02512526512146, -26.190395239015906], [28.025087714195248, -26.190530021584195], [28.025087714195248, -26.19066480399652], [28.02513599395752, -26.1908284681447], [28.02524328231811, -26.19094880928342], [28.025447130203247, -26.191083591211207], [28.02550077438354, -26.19099213206293], [28.025559782981873, -26.1910162002668], [28.025699257850647, -26.191030641186746], [28.026541471481323, -26.190924741065615]]]}}, {'type': 'Feature', 'properties': {'DayStyle_Maximum': {'color': '#999', 'fillColor': '#999', 'fillOpacity': 0.7, 'opacity': 1, 'weight': 2}, 'WeekStyle_Maximum': {'color': '#999', 'fillColor': '#999', 'fillOpacity': 0.7, 'opacity': 1, 'weight': 2}, 'YearStyle_Maximum': {'color': '#999', 'fillColor': '#999', 'fillOpacity': 0.7, 'opacity': 1, 'weight': 2}, 'DayStyle_Average': {'color': '#999', 'fillColor': '#999', 'fillOpacity': 0.7, 'opacity': 1, 'weight': 2}, 'WeekStyle_Average': {'color': '#999', 'fillColor': '#999', 'fillOpacity': 0.7, 'opacity': 1, 'weight': 2}, 'YearStyle_Average': {'color': '#999', 'fillColor': '#999', 'fillOpacity': 0.7, 'opacity': 1, 'weight': 2}, 'buildingName': 'Mathematical Science Building', 'buildingId': 0}, 'geometry': {'type': 'Polygon', 'coordinates': [[[28.026745319366455, -26.190737008796116], [28.026986718177795, -26.190717754187272], [28.026933073997498, -26.1901064187016], [28.026552200317383, -26.19011604605695], [28.026525378227234, -26.19005346823297], [28.02684724330902, -26.19001014510436], [28.026820421218872, -26.189894616682658], [28.02633225917816, -26.189962008275906], [28.0263751745224, -26.190236387931648], [28.02660584449768, -26.19024601527626], [28.026745319366455, -26.190737008796116]]]}}, {'type': 'Feature', 'properties': {'DayStyle_Maximum': {'color': '#999', 'fillColor': '#999', 'fillOpacity': 0.7, 'opacity': 1, 'weight': 2}, 'WeekStyle_Maximum': {'color': '#999', 'fillColor': '#999', 'fillOpacity': 0.7, 'opacity': 1, 'weight': 2}, 'YearStyle_Maximum': {'color': '#999', 'fillColor': '#999', 'fillOpacity': 0.7, 'opacity': 1, 'weight': 2}, 'DayStyle_Average': {'color': '#999', 'fillColor': '#999', 'fillOpacity': 0.7, 'opacity': 1, 'weight': 2}, 'WeekStyle_Average': {'color': '#999', 'fillColor': '#999', 'fillOpacity': 0.7, 'opacity': 1, 'weight': 2}, 'YearStyle_Average': {'color': '#999', 'fillColor': '#999', 'fillOpacity': 0.7, 'opacity': 1, 'weight': 2}, 'buildingName': 'Zesti Lemonz', 'buildingId': 0}, 'geometry': {'type': 'Polygon', 'coordinates': [[[28.027496337890625, -26.190380798017202], [28.027716279029843, -26.19026526996308], [28.027667999267578, -26.190212319566662], [28.02760362625122, -26.19018825119669], [28.027523159980774, -26.190202692219263], [28.027469515800473, -26.190279710976114], [28.027496337890625, -26.190380798017202]]]}}, {'type': 'Feature', 'properties': {'DayStyle_Maximum': {'color': '#999', 'fillColor': '#999', 'fillOpacity': 0.7, 'opacity': 1, 'weight': 2}, 'WeekStyle_Maximum': {'color': '#999', 'fillColor': '#999', 'fillOpacity': 0.7, 'opacity': 1, 'weight': 2}, 'YearStyle_Maximum': {'color': '#999', 'fillColor': '#999', 'fillOpacity': 0.7, 'opacity': 1, 'weight': 2}, 'DayStyle_Average': {'color': '#999', 'fillColor': '#999', 'fillOpacity': 0.7, 'opacity': 1, 'weight': 2}, 'WeekStyle_Average': {'color': '#999', 'fillColor': '#999', 'fillOpacity': 0.7, 'opacity': 1, 'weight': 2}, 'YearStyle_Average': {'color': '#999', 'fillColor': '#999', 'fillOpacity': 0.7, 'opacity': 1, 'weight': 2}, 'buildingName': 'FNB Building', 'buildingId': 0}, 'geometry': {'type': 'Polygon', 'coordinates': [[[28.026235699653622, -26.18969244166899], [28.026251792907715, -26.18977427445488], [28.026294708251953, -26.18977427445488], [28.0263215303421, -26.189909057741644], [28.027018904685974, -26.189827225050415], [28.026997447013855, -26.18969244166899], [28.027045726776123, -26.189687627973914], [28.027040362358093, -26.18962986361746], [28.026986718177795, -26.18962986361746], [28.026975989341732, -26.189538403327823], [28.026825785636902, -26.189552844430967], [28.026825785636902, -26.1895239622229], [28.026734590530396, -26.189538403327823], [28.026739954948425, -26.189562471832055], [28.026525378227234, -26.18959135403058], [28.026514649391174, -26.189557658131612], [28.026428818702698, -26.189562471832055], [28.026439547538757, -26.189596167729636], [28.026273250579834, -26.189615422523868], [28.026283979415894, -26.18968281427864], [28.026235699653622, -26.18969244166899]]]}}, {'type': 'Feature', 'properties': {'DayStyle_Maximum': {'color': '#999', 'fillColor': '#999', 'fillOpacity': 0.7, 'opacity': 1, 'weight': 2}, 'WeekStyle_Maximum': {'color': '#999', 'fillColor': '#999', 'fillOpacity': 0.7, 'opacity': 1, 'weight': 2}, 'YearStyle_Maximum': {'color': '#999', 'fillColor': '#999', 'fillOpacity': 0.7, 'opacity': 1, 'weight': 2}, 'DayStyle_Average': {'color': '#999', 'fillColor': '#999', 'fillOpacity': 0.7, 'opacity': 1, 'weight': 2}, 'WeekStyle_Average': {'color': '#999', 'fillColor': '#999', 'fillOpacity': 0.7, 'opacity': 1, 'weight': 2}, 'YearStyle_Average': {'color': '#999', 'fillColor': '#999', 'fillOpacity': 0.7, 'opacity': 1, 'weight': 2}, 'buildingName': 'PEC PIMD Office Block', 'buildingId': 0}, 'geometry': {'type': 'Polygon', 'coordinates': [[[28.023778796195984, -26.188455315490604], [28.02391290664673, -26.18946138408086], [28.024776577949524, -26.189350668824137], [28.02463173866272, -26.188349413028316], [28.023778796195984, -26.188455315490604]]]}}, {'type': 'Feature', 'properties': {'DayStyle_Maximum': {'color': '#999', 'fillColor': '#999', 'fillOpacity': 0.7, 'opacity': 1, 'weight': 2}, 'WeekStyle_Maximum': {'color': '#999', 'fillColor': '#999', 'fillOpacity': 0.7, 'opacity': 1, 'weight': 2}, 'YearStyle_Maximum': {'color': '#999', 'fillColor': '#999', 'fillOpacity': 0.7, 'opacity': 1, 'weight': 2}, 'DayStyle_Average': {'color': '#999', 'fillColor': '#999', 'fillOpacity': 0.7, 'opacity': 1, 'weight': 2}, 'WeekStyle_Average': {'color': '#999', 'fillColor': '#999', 'fillOpacity': 0.7, 'opacity': 1, 'weight': 2}, 'YearStyle_Average': {'color': '#999', 'fillColor': '#999', 'fillOpacity': 0.7, 'opacity': 1, 'weight': 2}, 'buildingName': 'DJ Du Plesis', 'buildingId': 0}, 'geometry': {'type': 'Polygon', 'coordinates': [[[28.02364468574524, -26.18813279405561], [28.023682236671444, -26.18844568799802], [28.024824857711792, -26.188286834255347], [28.024690747261047, -26.188118352776453], [28.024567365646362, -26.188055773879366], [28.02436888217926, -26.18798838118338], [28.02437961101532, -26.188041332590643], [28.02364468574524, -26.18813279405561]]]}}, {'type': 'Feature', 'properties': {'DayStyle_Maximum': {'color': '#999', 'fillColor': '#999', 'fillOpacity': 0.7, 'opacity': 1, 'weight': 2}, 'WeekStyle_Maximum': {'color': '#999', 'fillColor': '#999', 'fillOpacity': 0.7, 'opacity': 1, 'weight': 2}, 'YearStyle_Maximum': {'color': '#999', 'fillColor': '#999', 'fillOpacity': 0.7, 'opacity': 1, 'weight': 2}, 'DayStyle_Average': {'color': '#999', 'fillColor': '#999', 'fillOpacity': 0.7, 'opacity': 1, 'weight': 2}, 'WeekStyle_Average': {'color': '#999', 'fillColor': '#999', 'fillOpacity': 0.7, 'opacity': 1, 'weight': 2}, 'YearStyle_Average': {'color': '#999', 'fillColor': '#999', 'fillOpacity': 0.7, 'opacity': 1, 'weight': 2}, 'buildingName': 'West Campus Village', 'buildingId': 0}, 'geometry': {'type': 'Polygon', 'coordinates': [[[28.023462295532227, -26.187415541693507], [28.02358567714691, -26.18777176153938], [28.024427890777584, -26.187762133990297], [28.024218678474426, -26.187352962418913], [28.023462295532227, -26.187415541693507]]]}}, {'type': 'Feature', 'properties': {'DayStyle_Maximum': {'color': '#999', 'fillColor': '#999', 'fillOpacity': 0.7, 'opacity': 1, 'weight': 2}, 'WeekStyle_Maximum': {'color': '#999', 'fillColor': '#999', 'fillOpacity': 0.7, 'opacity': 1, 'weight': 2}, 'YearStyle_Maximum': {'color': '#999', 'fillColor': '#999', 'fillOpacity': 0.7, 'opacity': 1, 'weight': 2}, 'DayStyle_Average': {'color': '#999', 'fillColor': '#999', 'fillOpacity': 0.7, 'opacity': 1, 'weight': 2}, 'WeekStyle_Average': {'color': '#999', 'fillColor': '#999', 'fillOpacity': 0.7, 'opacity': 1, 'weight': 2}, 'YearStyle_Average': {'color': '#999', 'fillColor': '#999', 'fillOpacity': 0.7, 'opacity': 1, 'weight': 2}, 'buildingName': 'Convocation Dining Hall', 'buildingId': 0}, 'geometry': {'type': 'Polygon', 'coordinates': [[[28.024073839187622, -26.187015996516397], [28.023982644081116, -26.187040065541755], [28.023982644081116, -26.18716041059395], [28.02436888217926, -26.187107458786308], [28.024315237998962, -26.18679937506443], [28.024052381515503, -26.186833071761185], [28.024073839187622, -26.187015996516397]]]}}, {'type': 'Feature', 'properties': {'DayStyle_Maximum': {'color': '#999', 'fillColor': '#999', 'fillOpacity': 0.7, 'opacity': 1, 'weight': 2}, 'WeekStyle_Maximum': {'color': '#999', 'fillColor': '#999', 'fillOpacity': 0.7, 'opacity': 1, 'weight': 2}, 'YearStyle_Maximum': {'color': '#999', 'fillColor': '#999', 'fillOpacity': 0.7, 'opacity': 1, 'weight': 2}, 'DayStyle_Average': {'color': '#999', 'fillColor': '#999', 'fillOpacity': 0.7, 'opacity': 1, 'weight': 2}, 'WeekStyle_Average': {'color': '#999', 'fillColor': '#999', 'fillOpacity': 0.7, 'opacity': 1, 'weight': 2}, 'YearStyle_Average': {'color': '#999', 'fillColor': '#999', 'fillOpacity': 0.7, 'opacity': 1, 'weight': 2}, 'buildingName': 'Barnato Residence', 'buildingId': 0}, 'geometry': {'type': 'Polygon', 'coordinates': [[[28.024443984031677, -26.186780119804766], [28.02450835704803, -26.187232617565613], [28.024781942367554, -26.18720373478231], [28.024771213531494, -26.18713152779276], [28.025034070014954, -26.187112272587992], [28.025039434432983, -26.18718447958949], [28.025334477424618, -26.187145969194255], [28.025275468826294, -26.186683843458688], [28.024443984031677, -26.186780119804766]]]}}, {'type': 'Feature', 'properties': {'DayStyle_Maximum': {'color': '#999', 'fillColor': '#999', 'fillOpacity': 0.7, 'opacity': 1, 'weight': 2}, 'WeekStyle_Maximum': {'color': '#999', 'fillColor': '#999', 'fillOpacity': 0.7, 'opacity': 1, 'weight': 2}, 'YearStyle_Maximum': {'color': '#999', 'fillColor': '#999', 'fillOpacity': 0.7, 'opacity': 1, 'weight': 2}, 'DayStyle_Average': {'color': '#999', 'fillColor': '#999', 'fillOpacity': 0.7, 'opacity': 1, 'weight': 2}, 'WeekStyle_Average': {'color': '#999', 'fillColor': '#999', 'fillOpacity': 0.7, 'opacity': 1, 'weight': 2}, 'YearStyle_Average': {'color': '#999', 'fillColor': '#999', 'fillOpacity': 0.7, 'opacity': 1, 'weight': 2}, 'buildingName': 'David Webster Hall', 'buildingId': 0}, 'geometry': {'type': 'Polygon', 'coordinates': [[[28.025650978088375, -26.186780119804766], [28.025699257850647, -26.187117086389488], [28.026643395423886, -26.186987113679404], [28.02658438682556, -26.18664533289799], [28.025650978088375, -26.186780119804766]]]}}, {'type': 'Feature', 'properties': {'DayStyle_Maximum': {'color': '#999', 'fillColor': '#999', 'fillOpacity': 0.7, 'opacity': 1, 'weight': 2}, 'WeekStyle_Maximum': {'color': '#999', 'fillColor': '#999', 'fillOpacity': 0.7, 'opacity': 1, 'weight': 2}, 'YearStyle_Maximum': {'color': '#999', 'fillColor': '#999', 'fillOpacity': 0.7, 'opacity': 1, 'weight': 2}, 'DayStyle_Average': {'color': '#999', 'fillColor': '#999', 'fillOpacity': 0.7, 'opacity': 1, 'weight': 2}, 'WeekStyle_Average': {'color': '#999', 'fillColor': '#999', 'fillOpacity': 0.7, 'opacity': 1, 'weight': 2}, 'YearStyle_Average': {'color': '#999', 'fillColor': '#999', 'fillOpacity': 0.7, 'opacity': 1, 'weight': 2}, 'buildingName': 'The Barns', 'buildingId': 0}, 'geometry': {'type': 'Polygon', 'coordinates': [[[28.02564024925232, -26.186168763655836], [28.02564024925232, -26.186265040427536], [28.025967478752136, -26.18621690205163], [28.026273250579834, -26.185985837570428], [28.02634298801422, -26.185817352763994], [28.026241064071655, -26.185774028060106], [28.026144504547116, -26.185976209873765], [28.025929927825928, -26.186125439082616], [28.02564024925232, -26.186168763655836]]]}}, {'type': 'Feature', 'properties': {'DayStyle_Maximum': {'color': '#999', 'fillColor': '#999', 'fillOpacity': 0.7, 'opacity': 1, 'weight': 2}, 'WeekStyle_Maximum': {'color': '#999', 'fillColor': '#999', 'fillOpacity': 0.7, 'opacity': 1, 'weight': 2}, 'YearStyle_Maximum': {'color': '#999', 'fillColor': '#999', 'fillOpacity': 0.7, 'opacity': 1, 'weight': 2}, 'DayStyle_Average': {'color': '#999', 'fillColor': '#999', 'fillOpacity': 0.7, 'opacity': 1, 'weight': 2}, 'WeekStyle_Average': {'color': '#999', 'fillColor': '#999', 'fillOpacity': 0.7, 'opacity': 1, 'weight': 2}, 'YearStyle_Average': {'color': '#999', 'fillColor': '#999', 'fillOpacity': 0.7, 'opacity': 1, 'weight': 2}, 'buildingName': 'Olives and Plates', 'buildingId': 0}, 'geometry': {'type': 'Polygon', 'coordinates': [[[28.02557051181793, -26.18572588948133], [28.025704622268677, -26.185889560568008], [28.026026487350464, -26.18570182018448], [28.025956749916077, -26.185629612264123], [28.02588701248169, -26.185697006324528], [28.025795817375183, -26.18560072908344], [28.02557051181793, -26.18572588948133]]]}}, {'type': 'Feature', 'properties': {'DayStyle_Maximum': {'color': '#999', 'fillColor': '#999', 'fillOpacity': 0.7, 'opacity': 1, 'weight': 2}, 'WeekStyle_Maximum': {'color': '#999', 'fillColor': '#999', 'fillOpacity': 0.7, 'opacity': 1, 'weight': 2}, 'YearStyle_Maximum': {'color': '#999', 'fillColor': '#999', 'fillOpacity': 0.7, 'opacity': 1, 'weight': 2}, 'DayStyle_Average': {'color': '#999', 'fillColor': '#999', 'fillOpacity': 0.7, 'opacity': 1, 'weight': 2}, 'WeekStyle_Average': {'color': '#999', 'fillColor': '#999', 'fillOpacity': 0.7, 'opacity': 1, 'weight': 2}, 'YearStyle_Average': {'color': '#999', 'fillColor': '#999', 'fillOpacity': 0.7, 'opacity': 1, 'weight': 2}, 'buildingName': 'Johannesburg Planetarium', 'buildingId': 0}, 'geometry': {'type': 'Polygon', 'coordinates': [[[28.028123974800106, -26.188378295527585], [28.02810251712799, -26.188469756728004], [28.02814543247223, -26.188585286562738], [28.028231263160706, -26.18857084533966], [28.028231263160706, -26.188522707916484], [28.028258085250854, -26.188522707916484], [28.02829563617706, -26.188556404114806], [28.028365373611447, -26.18856121785662], [28.028429746627808, -26.18854196288814], [28.028467297554016, -26.188513080429455], [28.02854239940643, -26.18850345294163], [28.0285370349884, -26.188392736774528], [28.028467297554016, -26.188392736774528], [28.028419017791748, -26.188354226778692], [28.02835464477539, -26.188339785526967], [28.028274178504944, -26.188378295527585], [28.028247356414795, -26.188411991767662], [28.028220534324646, -26.188416805515455], [28.028204441070553, -26.1883734817782], [28.028123974800106, -26.188378295527585]]]}}, {'type': 'Feature', 'properties': {'DayStyle_Maximum': {'color': '#999', 'fillColor': '#999', 'fillOpacity': 0.7, 'opacity': 1, 'weight': 2}, 'WeekStyle_Maximum': {'color': '#999', 'fillColor': '#999', 'fillOpacity': 0.7, 'opacity': 1, 'weight': 2}, 'YearStyle_Maximum': {'color': '#999', 'fillColor': '#999', 'fillOpacity': 0.7, 'opacity': 1, 'weight': 2}, 'DayStyle_Average': {'color': '#999', 'fillColor': '#999', 'fillOpacity': 0.7, 'opacity': 1, 'weight': 2}, 'WeekStyle_Average': {'color': '#999', 'fillColor': '#999', 'fillOpacity': 0.7, 'opacity': 1, 'weight': 2}, 'YearStyle_Average': {'color': '#999', 'fillColor': '#999', 'fillOpacity': 0.7, 'opacity': 1, 'weight': 2}, 'buildingName': 'Wartenweilier Library', 'buildingId': 0}, 'geometry': {'type': 'Polygon', 'coordinates': [[[28.03061306476593, -26.19089104555235], [28.030677437782284, -26.191362781851193], [28.031015396118164, -26.191329086464638], [28.030951023101807, -26.190857350029333], [28.03061306476593, -26.19089104555235]]]}}, {'type': 'Feature', 'properties': {'DayStyle_Maximum': {'color': '#999', 'fillColor': '#999', 'fillOpacity': 0.7, 'opacity': 1, 'weight': 2}, 'WeekStyle_Maximum': {'color': '#999', 'fillColor': '#999', 'fillOpacity': 0.7, 'opacity': 1, 'weight': 2}, 'YearStyle_Maximum': {'color': '#999', 'fillColor': '#999', 'fillOpacity': 0.7, 'opacity': 1, 'weight': 2}, 'DayStyle_Average': {'color': '#999', 'fillColor': '#999', 'fillOpacity': 0.7, 'opacity': 1, 'weight': 2}, 'WeekStyle_Average': {'color': '#999', 'fillColor': '#999', 'fillOpacity': 0.7, 'opacity': 1, 'weight': 2}, 'YearStyle_Average': {'color': '#999', 'fillColor': '#999', 'fillOpacity': 0.7, 'opacity': 1, 'weight': 2}, 'buildingName': 'Origins Centre', 'buildingId': 0}, 'geometry': {'type': 'Polygon', 'coordinates': [[[28.027957677841183, -26.19291275909642], [28.027979135513306, -26.192999403178433], [28.028016686439514, -26.192989776061385], [28.02804350852966, -26.193105301413368], [28.02814543247223, -26.19307160653088], [28.028182983398438, -26.193148623390822], [28.028258085250854, -26.19312455562756], [28.02829027175903, -26.193196758902424], [28.02859604358673, -26.19311011496721], [28.028478026390076, -26.192782792852533], [28.027957677841183, -26.19291275909642]]]}}, {'type': 'Feature', 'properties': {'DayStyle_Maximum': {'color': '#999', 'fillColor': '#999', 'fillOpacity': 0.7, 'opacity': 1, 'weight': 2}, 'WeekStyle_Maximum': {'color': '#999', 'fillColor': '#999', 'fillOpacity': 0.7, 'opacity': 1, 'weight': 2}, 'YearStyle_Maximum': {'color': '#999', 'fillColor': '#999', 'fillOpacity': 0.7, 'opacity': 1, 'weight': 2}, 'DayStyle_Average': {'color': '#999', 'fillColor': '#999', 'fillOpacity': 0.7, 'opacity': 1, 'weight': 2}, 'WeekStyle_Average': {'color': '#999', 'fillColor': '#999', 'fillOpacity': 0.7, 'opacity': 1, 'weight': 2}, 'YearStyle_Average': {'color': '#999', 'fillColor': '#999', 'fillOpacity': 0.7, 'opacity': 1, 'weight': 2}, 'buildingName': 'Chemistry Building', 'buildingId': 0}, 'geometry': {'type': 'Polygon', 'coordinates': [[[28.03089201450348, -26.19197411074337], [28.030940294265747, -26.192296621543303], [28.03158938884735, -26.19221479052936], [28.031541109085083, -26.191897093106828], [28.03089201450348, -26.19197411074337]]]}}, {'type': 'Feature', 'properties': {'DayStyle_Maximum': {'color': '#999', 'fillColor': '#999', 'fillOpacity': 0.7, 'opacity': 1, 'weight': 2}, 'WeekStyle_Maximum': {'color': '#999', 'fillColor': '#999', 'fillOpacity': 0.7, 'opacity': 1, 'weight': 2}, 'YearStyle_Maximum': {'color': '#999', 'fillColor': '#999', 'fillOpacity': 0.7, 'opacity': 1, 'weight': 2}, 'DayStyle_Average': {'color': '#999', 'fillColor': '#999', 'fillOpacity': 0.7, 'opacity': 1, 'weight': 2}, 'WeekStyle_Average': {'color': '#999', 'fillColor': '#999', 'fillOpacity': 0.7, 'opacity': 1, 'weight': 2}, 'YearStyle_Average': {'color': '#999', 'fillColor': '#999', 'fillOpacity': 0.7, 'opacity': 1, 'weight': 2}, 'buildingName': 'Physics Building', 'buildingId': 0}, 'geometry': {'type': 'Polygon', 'coordinates': [[[28.03082764148712, -26.191531258637806], [28.03086519241333, -26.191834516239645], [28.031546473503113, -26.191762312120343], [28.03149819374084, -26.191468681574094], [28.03082764148712, -26.191531258637806]]]}}, {'type': 'Feature', 'properties': {'DayStyle_Maximum': {'color': '#999', 'fillColor': '#999', 'fillOpacity': 0.7, 'opacity': 1, 'weight': 2}, 'WeekStyle_Maximum': {'color': '#999', 'fillColor': '#999', 'fillOpacity': 0.7, 'opacity': 1, 'weight': 2}, 'YearStyle_Maximum': {'color': '#999', 'fillColor': '#999', 'fillOpacity': 0.7, 'opacity': 1, 'weight': 2}, 'DayStyle_Average': {'color': '#999', 'fillColor': '#999', 'fillOpacity': 0.7, 'opacity': 1, 'weight': 2}, 'WeekStyle_Average': {'color': '#999', 'fillColor': '#999', 'fillOpacity': 0.7, 'opacity': 1, 'weight': 2}, 'YearStyle_Average': {'color': '#999', 'fillColor': '#999', 'fillOpacity': 0.7, 'opacity': 1, 'weight': 2}, 'buildingName': 'Central Block', 'buildingId': 0}, 'geometry': {'type': 'Polygon', 'coordinates': [[[28.029845952987667, -26.191796007381587], [28.029921054840088, -26.192402520417197], [28.03089737892151, -26.192262926426867], [28.030790090560913, -26.191656412664408], [28.029845952987667, -26.191796007381587]]]}}, {'type': 'Feature', 'properties': {'DayStyle_Maximum': {'color': '#999', 'fillColor': '#999', 'fillOpacity': 0.7, 'opacity': 1, 'weight': 2}, 'WeekStyle_Maximum': {'color': '#999', 'fillColor': '#999', 'fillOpacity': 0.7, 'opacity': 1, 'weight': 2}, 'YearStyle_Maximum': {'color': '#999', 'fillColor': '#999', 'fillOpacity': 0.7, 'opacity': 1, 'weight': 2}, 'DayStyle_Average': {'color': '#999', 'fillColor': '#999', 'fillOpacity': 0.7, 'opacity': 1, 'weight': 2}, 'WeekStyle_Average': {'color': '#999', 'fillColor': '#999', 'fillOpacity': 0.7, 'opacity': 1, 'weight': 2}, 'YearStyle_Average': {'color': '#999', 'fillColor': '#999', 'fillOpacity': 0.7, 'opacity': 1, 'weight': 2}, 'buildingName': 'William Cullen Library', 'buildingId': 0}, 'geometry': {'type': 'Polygon', 'coordinates': [[[28.02913248538971, -26.190568530860766], [28.029191493988034, -26.19089104555235], [28.029599189758297, -26.190823654496576], [28.02952408790588, -26.19051558060219], [28.02913248538971, -26.190568530860766]]]}}, {'type': 'Feature', 'properties': {'DayStyle_Maximum': {'color': '#999', 'fillColor': '#999', 'fillOpacity': 0.7, 'opacity': 1, 'weight': 2}, 'WeekStyle_Maximum': {'color': '#999', 'fillColor': '#999', 'fillOpacity': 0.7, 'opacity': 1, 'weight': 2}, 'YearStyle_Maximum': {'color': '#999', 'fillColor': '#999', 'fillOpacity': 0.7, 'opacity': 1, 'weight': 2}, 'DayStyle_Average': {'color': '#999', 'fillColor': '#999', 'fillOpacity': 0.7, 'opacity': 1, 'weight': 2}, 'WeekStyle_Average': {'color': '#999', 'fillColor': '#999', 'fillOpacity': 0.7, 'opacity': 1, 'weight': 2}, 'YearStyle_Average': {'color': '#999', 'fillColor': '#999', 'fillOpacity': 0.7, 'opacity': 1, 'weight': 2}, 'buildingName': 'Gate House', 'buildingId': 0}, 'geometry': {'type': 'Polygon', 'coordinates': [[[28.032179474830627, -26.191897093106828], [28.031702041625977, -26.191916347520742], [28.031702041625977, -26.192080009910473], [28.032206296920776, -26.19207519631405], [28.032179474830627, -26.191897093106828]]]}}, {'type': 'Feature', 'properties': {'DayStyle_Maximum': {'color': '#999', 'fillColor': '#999', 'fillOpacity': 0.7, 'opacity': 1, 'weight': 2}, 'WeekStyle_Maximum': {'color': '#999', 'fillColor': '#999', 'fillOpacity': 0.7, 'opacity': 1, 'weight': 2}, 'YearStyle_Maximum': {'color': '#999', 'fillColor': '#999', 'fillOpacity': 0.7, 'opacity': 1, 'weight': 2}, 'DayStyle_Average': {'color': '#999', 'fillColor': '#999', 'fillOpacity': 0.7, 'opacity': 1, 'weight': 2}, 'WeekStyle_Average': {'color': '#999', 'fillColor': '#999', 'fillOpacity': 0.7, 'opacity': 1, 'weight': 2}, 'YearStyle_Average': {'color': '#999', 'fillColor': '#999', 'fillOpacity': 0.7, 'opacity': 1, 'weight': 2}, 'buildingName': 'Strurrock Park', 'buildingId': 0}, 'geometry': {'type': 'Polygon', 'coordinates': [[[28.02336573600769, -26.192883877721417], [28.02314579486847, -26.19295126758527], [28.02312970161438, -26.192864623467443], [28.02341401576996, -26.19243140191155], [28.023312091827393, -26.192397706834104], [28.023000955581665, -26.192874250594823], [28.023054599761963, -26.192989776061385], [28.02289366722107, -26.193037911638633], [28.022952675819397, -26.1931630640464], [28.02308678627014, -26.19312455562756], [28.02315652370453, -26.193317097594402], [28.023462295532227, -26.193220826650762], [28.02336573600769, -26.192883877721417]]]}}, {'type': 'Feature', 'properties': {'DayStyle_Maximum': {'color': '#999', 'fillColor': '#999', 'fillOpacity': 0.7, 'opacity': 1, 'weight': 2}, 'WeekStyle_Maximum': {'color': '#999', 'fillColor': '#999', 'fillOpacity': 0.7, 'opacity': 1, 'weight': 2}, 'YearStyle_Maximum': {'color': '#999', 'fillColor': '#999', 'fillOpacity': 0.7, 'opacity': 1, 'weight': 2}, 'DayStyle_Average': {'color': '#999', 'fillColor': '#999', 'fillOpacity': 0.7, 'opacity': 1, 'weight': 2}, 'WeekStyle_Average': {'color': '#999', 'fillColor': '#999', 'fillOpacity': 0.7, 'opacity': 1, 'weight': 2}, 'YearStyle_Average': {'color': '#999', 'fillColor': '#999', 'fillOpacity': 0.7, 'opacity': 1, 'weight': 2}, 'buildingName': 'Gym and Squash courts', 'buildingId': 0}, 'geometry': {'type': 'Polygon', 'coordinates': [[[28.026739954948425, -26.18618320517666], [28.026798963546753, -26.18649610435503], [28.02715301513672, -26.186428710756847], [28.02708864212036, -26.186130252924873], [28.026739954948425, -26.18618320517666]]]}}, {'type': 'Feature', 'properties': {'DayStyle_Maximum': {'color': '#999', 'fillColor': '#999', 'fillOpacity': 0.7, 'opacity': 1, 'weight': 2}, 'WeekStyle_Maximum': {'color': '#999', 'fillColor': '#999', 'fillOpacity': 0.7, 'opacity': 1, 'weight': 2}, 'YearStyle_Maximum': {'color': '#999', 'fillColor': '#999', 'fillOpacity': 0.7, 'opacity': 1, 'weight': 2}, 'DayStyle_Average': {'color': '#999', 'fillColor': '#999', 'fillOpacity': 0.7, 'opacity': 1, 'weight': 2}, 'WeekStyle_Average': {'color': '#999', 'fillColor': '#999', 'fillOpacity': 0.7, 'opacity': 1, 'weight': 2}, 'YearStyle_Average': {'color': '#999', 'fillColor': '#999', 'fillOpacity': 0.7, 'opacity': 1, 'weight': 2}, 'buildingName': 'Genmin Lab', 'buildingId': 0}, 'geometry': {'type': 'Polygon', 'coordinates': [[[28.026283979415894, -26.191194304820915], [28.026198148727417, -26.191194304820915], [28.026198148727417, -26.191146168481794], [28.025978207588196, -26.191179863921274], [28.025994300842285, -26.191228000246475], [28.025903105735775, -26.1912328138779], [28.02588164806366, -26.191179863921274], [28.02561342716217, -26.19122318661485], [28.02564561367035, -26.191463867952415], [28.02631616592407, -26.191391663603362], [28.026283979415894, -26.191194304820915]]]}}]}\n"
     ]
    }
   ],
   "source": [
    "loadedGeoJson = {}\n",
    "with open('../../Assets/geojson/witsMainCampusGeojson.json') as json_data:\n",
    "    loadedGeoJson = json.load(json_data)\n",
    "    print(loadedGeoJson)"
   ]
  },
  {
   "cell_type": "code",
   "execution_count": 18,
   "metadata": {},
   "outputs": [
    {
     "name": "stdout",
     "output_type": "stream",
     "text": [
      "{'buildingId': '0', 'dayInformation': {'LastDay': [20, 14, 25, 16, 18, 22, 19, 20, 14, 25, 16, 18, 22, 19, 20, 14, 25, 16, 18, 22, 19, 21, 23, 24], 'AverageDay': [20, 14, 25, 16, 18, 22, 19, 20, 14, 25, 16, 18, 22, 19, 20, 14, 25, 16, 18, 22, 19, 21, 23, 24], 'CampusAverageDay': [20, 14, 25, 16, 18, 22, 19, 20, 14, 25, 16, 18, 22, 19, 20, 14, 25, 16, 18, 22, 19, 21, 23, 24], 'CampusAverageDayNormalized': [20, 14, 25, 16, 18, 22, 19, 20, 14, 25, 16, 18, 22, 19, 20, 14, 25, 16, 18, 22, 19, 21, 23, 24]}, 'weekInformation': {'LastWeek': [20, 14, 25, 16, 18, 22, 19], 'AverageWeek': [19, 14, 22, 14, 16, 19, 15], 'CampusAverageWeek': [28, 22, 30, 28, 28, 31, 22], 'CampusAverageWeekNormalized': [25, 19, 25, 26, 26, 28, 18]}, 'yearInformation': {'LastYear': [20, 14, 25, 16, 18, 22, 19], 'AverageYear': [19, 14, 22, 14, 16, 19, 15], 'CampusAverageYear': [28, 22, 30, 28, 28, 31, 22], 'CampusAverageYearNormalized': [25, 19, 25, 26, 26, 28, 18]}, 'histogramInformation': {}}\n"
     ]
    }
   ],
   "source": [
    "BuildingChartInformation = {}\n",
    "with open('../../Assets/ChartInformation/BuildingChartInformation.json') as json_data:\n",
    "    BuildingChartInformation = json.load(json_data)\n",
    "    print(BuildingChartInformation)"
   ]
  },
  {
   "cell_type": "code",
   "execution_count": 19,
   "metadata": {},
   "outputs": [],
   "source": [
    "buildingInformationStore = db.buildingInformation\n",
    "buildingInformation_id = buildingInformationStore.insert_one(BuildingChartInformation).inserted_id"
   ]
  },
  {
   "cell_type": "code",
   "execution_count": 20,
   "metadata": {},
   "outputs": [
    {
     "data": {
      "text/plain": [
       "[{'_id': ObjectId('5bcc0c6db28310635b3b69c5'),\n",
       "  'buildingId': '0',\n",
       "  'dayInformation': {'LastDay': [20,\n",
       "    14,\n",
       "    25,\n",
       "    16,\n",
       "    18,\n",
       "    22,\n",
       "    19,\n",
       "    20,\n",
       "    14,\n",
       "    25,\n",
       "    16,\n",
       "    18,\n",
       "    22,\n",
       "    19,\n",
       "    20,\n",
       "    14,\n",
       "    25,\n",
       "    16,\n",
       "    18,\n",
       "    22,\n",
       "    19,\n",
       "    21,\n",
       "    23,\n",
       "    24],\n",
       "   'AverageDay': [20,\n",
       "    14,\n",
       "    25,\n",
       "    16,\n",
       "    18,\n",
       "    22,\n",
       "    19,\n",
       "    20,\n",
       "    14,\n",
       "    25,\n",
       "    16,\n",
       "    18,\n",
       "    22,\n",
       "    19,\n",
       "    20,\n",
       "    14,\n",
       "    25,\n",
       "    16,\n",
       "    18,\n",
       "    22,\n",
       "    19,\n",
       "    21,\n",
       "    23,\n",
       "    24],\n",
       "   'CampusAverageDay': [20,\n",
       "    14,\n",
       "    25,\n",
       "    16,\n",
       "    18,\n",
       "    22,\n",
       "    19,\n",
       "    20,\n",
       "    14,\n",
       "    25,\n",
       "    16,\n",
       "    18,\n",
       "    22,\n",
       "    19,\n",
       "    20,\n",
       "    14,\n",
       "    25,\n",
       "    16,\n",
       "    18,\n",
       "    22,\n",
       "    19,\n",
       "    21,\n",
       "    23,\n",
       "    24],\n",
       "   'CampusAverageDayNormalized': [20,\n",
       "    14,\n",
       "    25,\n",
       "    16,\n",
       "    18,\n",
       "    22,\n",
       "    19,\n",
       "    20,\n",
       "    14,\n",
       "    25,\n",
       "    16,\n",
       "    18,\n",
       "    22,\n",
       "    19,\n",
       "    20,\n",
       "    14,\n",
       "    25,\n",
       "    16,\n",
       "    18,\n",
       "    22,\n",
       "    19,\n",
       "    21,\n",
       "    23,\n",
       "    24]},\n",
       "  'weekInformation': {'LastWeek': [20, 14, 25, 16, 18, 22, 19],\n",
       "   'AverageWeek': [19, 14, 22, 14, 16, 19, 15],\n",
       "   'CampusAverageWeek': [28, 22, 30, 28, 28, 31, 22],\n",
       "   'CampusAverageWeekNormalized': [25, 19, 25, 26, 26, 28, 18]},\n",
       "  'yearInformation': {'LastYear': [20, 14, 25, 16, 18, 22, 19],\n",
       "   'AverageYear': [19, 14, 22, 14, 16, 19, 15],\n",
       "   'CampusAverageYear': [28, 22, 30, 28, 28, 31, 22],\n",
       "   'CampusAverageYearNormalized': [25, 19, 25, 26, 26, 28, 18]},\n",
       "  'histogramInformation': {}}]"
      ]
     },
     "execution_count": 20,
     "metadata": {},
     "output_type": "execute_result"
    }
   ],
   "source": [
    "list(buildingInformationStore.find({\"buildingId\": \"0\"}))"
   ]
  },
  {
   "cell_type": "code",
   "execution_count": null,
   "metadata": {},
   "outputs": [],
   "source": []
  },
  {
   "cell_type": "code",
   "execution_count": null,
   "metadata": {},
   "outputs": [],
   "source": []
  },
  {
   "cell_type": "code",
   "execution_count": null,
   "metadata": {},
   "outputs": [],
   "source": []
  },
  {
   "cell_type": "code",
   "execution_count": null,
   "metadata": {},
   "outputs": [],
   "source": []
  },
  {
   "cell_type": "code",
   "execution_count": null,
   "metadata": {},
   "outputs": [],
   "source": []
  }
 ],
 "metadata": {
  "celltoolbar": "Attachments",
  "kernelspec": {
   "display_name": "Python 3",
   "language": "python",
   "name": "python3"
  },
  "language_info": {
   "codemirror_mode": {
    "name": "ipython",
    "version": 3
   },
   "file_extension": ".py",
   "mimetype": "text/x-python",
   "name": "python",
   "nbconvert_exporter": "python",
   "pygments_lexer": "ipython3",
   "version": "3.7.0"
  }
 },
 "nbformat": 4,
 "nbformat_minor": 2
}
