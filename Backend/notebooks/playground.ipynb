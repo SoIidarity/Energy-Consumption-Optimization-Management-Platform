{
 "cells": [
  {
   "cell_type": "markdown",
   "metadata": {},
   "source": [
    "# Flask Playground\n",
    "\n",
    "### This notebook containers experimentation code to check that the mongo queries behave as expected. It is considered a playground where new things can be tried out"
   ]
  },
  {
   "cell_type": "code",
   "execution_count": 1,
   "metadata": {},
   "outputs": [],
   "source": [
    "import sys\n",
    "from pymongo import MongoClient\n",
    "from bson.objectid import ObjectId"
   ]
  },
  {
   "cell_type": "code",
   "execution_count": 2,
   "metadata": {},
   "outputs": [],
   "source": [
    "client = MongoClient('localhost',27017)"
   ]
  },
  {
   "cell_type": "code",
   "execution_count": 3,
   "metadata": {},
   "outputs": [
    {
     "name": "stdout",
     "output_type": "stream",
     "text": [
      "Database(MongoClient(host=['localhost:27017'], document_class=dict, tz_aware=False, connect=True), 'witsECOMP')\n"
     ]
    }
   ],
   "source": [
    "db = client.witsECOMP\n",
    "print(db)"
   ]
  },
  {
   "cell_type": "code",
   "execution_count": 4,
   "metadata": {},
   "outputs": [],
   "source": [
    "geojsonStore = db.geojson"
   ]
  },
  {
   "cell_type": "code",
   "execution_count": 5,
   "metadata": {},
   "outputs": [],
   "source": [
    "sampleRecord = {\n",
    "    \"type\": \"FeatureCollection\",\n",
    "        \"features\": [\n",
    "            {\n",
    "            \"type\": \"Feature\",\n",
    "            'properties': {\n",
    "                'id': '0',\n",
    "                'popupContent': 'This is the Auraria West Campus',\n",
    "                'style': {\n",
    "                    \"weight\": 2,\n",
    "                    \"color\": '#999',\n",
    "                    \"opacity\": 1,\n",
    "                    \"fillColor\": '#E0DE5C',\n",
    "                    \"fillOpacity\": 0.7\n",
    "                }\n",
    "            },\n",
    "            \"geometry\": {\n",
    "                \"type\": \"Polygon\",\n",
    "                \"coordinates\": [\n",
    "                    [\n",
    "                        [28.026670217514038, -26.19134352734578],\n",
    "                        [28.026729226112362, -26.191767125729683],\n",
    "                        [28.026643395423886, -26.191786380165073],\n",
    "                        [28.026697039604187, -26.19204150113358],\n",
    "                        [28.0270779132843, -26.19199336514455],\n",
    "                        [28.027067184448242, -26.19195485633902],\n",
    "                        [28.02739977836609, -26.19192116112372],\n",
    "                        [28.027292490005493, -26.191271322922137],\n",
    "                        [28.026670217514038, -26.19134352734578]\n",
    "                    ]\n",
    "                ]\n",
    "            }\n",
    "        }\n",
    "    ]\n",
    "}"
   ]
  },
  {
   "cell_type": "code",
   "execution_count": 6,
   "metadata": {},
   "outputs": [],
   "source": [
    "geojson_id = geojsonStore.insert_one(sampleRecord).inserted_id"
   ]
  },
  {
   "cell_type": "markdown",
   "metadata": {},
   "source": [
    "Find all objects within the store"
   ]
  },
  {
   "cell_type": "code",
   "execution_count": 9,
   "metadata": {},
   "outputs": [
    {
     "data": {
      "text/plain": [
       "[{'_id': ObjectId('5bb86e98b283101b32fcf043'),\n",
       "  'type': 'FeatureCollection',\n",
       "  'features': [{'type': 'Feature',\n",
       "    'properties': {'id': '0',\n",
       "     'popupContent': 'This is the Auraria West Campus',\n",
       "     'style': {'weight': 2,\n",
       "      'color': '#999',\n",
       "      'opacity': 1,\n",
       "      'fillColor': '#E0DE5C',\n",
       "      'fillOpacity': 0.7}},\n",
       "    'geometry': {'type': 'Polygon',\n",
       "     'coordinates': [[[28.026670217514038, -26.19134352734578],\n",
       "       [28.026729226112362, -26.191767125729683],\n",
       "       [28.026643395423886, -26.191786380165073],\n",
       "       [28.026697039604187, -26.19204150113358],\n",
       "       [28.0270779132843, -26.19199336514455],\n",
       "       [28.027067184448242, -26.19195485633902],\n",
       "       [28.02739977836609, -26.19192116112372],\n",
       "       [28.027292490005493, -26.191271322922137],\n",
       "       [28.026670217514038, -26.19134352734578]]]}}]}]"
      ]
     },
     "execution_count": 9,
     "metadata": {},
     "output_type": "execute_result"
    }
   ],
   "source": [
    "list(geojsonStore.find({}))"
   ]
  }
 ],
 "metadata": {
  "kernelspec": {
   "display_name": "Python 3",
   "language": "python",
   "name": "python3"
  },
  "language_info": {
   "codemirror_mode": {
    "name": "ipython",
    "version": 3
   },
   "file_extension": ".py",
   "mimetype": "text/x-python",
   "name": "python",
   "nbconvert_exporter": "python",
   "pygments_lexer": "ipython3",
   "version": "3.7.0"
  }
 },
 "nbformat": 4,
 "nbformat_minor": 2
}
