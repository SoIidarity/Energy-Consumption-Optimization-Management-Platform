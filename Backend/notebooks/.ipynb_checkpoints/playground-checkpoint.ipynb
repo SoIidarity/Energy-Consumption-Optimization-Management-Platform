{
 "cells": [
  {
   "cell_type": "code",
   "execution_count": 1,
   "metadata": {},
   "outputs": [
    {
     "ename": "ModuleNotFoundError",
     "evalue": "No module named 'pymongo'",
     "output_type": "error",
     "traceback": [
      "\u001b[0;31m---------------------------------------------------------------------------\u001b[0m",
      "\u001b[0;31mModuleNotFoundError\u001b[0m                       Traceback (most recent call last)",
      "\u001b[0;32m<ipython-input-1-542dd9eec2d9>\u001b[0m in \u001b[0;36m<module>\u001b[0;34m\u001b[0m\n\u001b[0;32m----> 1\u001b[0;31m \u001b[0;32mfrom\u001b[0m \u001b[0mpymongo\u001b[0m \u001b[0;32mimport\u001b[0m \u001b[0mMongoClient\u001b[0m\u001b[0;34m\u001b[0m\u001b[0m\n\u001b[0m\u001b[1;32m      2\u001b[0m \u001b[0;32mfrom\u001b[0m \u001b[0mbson\u001b[0m\u001b[0;34m.\u001b[0m\u001b[0mobjectid\u001b[0m \u001b[0;32mimport\u001b[0m \u001b[0mObjectId\u001b[0m\u001b[0;34m\u001b[0m\u001b[0m\n",
      "\u001b[0;31mModuleNotFoundError\u001b[0m: No module named 'pymongo'"
     ]
    }
   ],
   "source": [
    "from pymongo import MongoClient\n",
    "from bson.objectid import ObjectId"
   ]
  },
  {
   "cell_type": "code",
   "execution_count": null,
   "metadata": {},
   "outputs": [],
   "source": [
    "client = MongoClient()"
   ]
  },
  {
   "cell_type": "code",
   "execution_count": null,
   "metadata": {},
   "outputs": [],
   "source": [
    "db = client.test_database"
   ]
  },
  {
   "cell_type": "code",
   "execution_count": null,
   "metadata": {},
   "outputs": [],
   "source": [
    "uct_students = db.uct_students"
   ]
  },
  {
   "cell_type": "code",
   "execution_count": null,
   "metadata": {},
   "outputs": [],
   "source": [
    "student1 = {\n",
    "    'first_name': 'John',\n",
    "    'last_name': 'Doe',\n",
    "    'date_of_birth': '1995-01-01',\n",
    "    'sex': 'male',\n",
    "    'race': 'black',\n",
    "    'address': '22 Fake Street, Fake Town',\n",
    "    'student_id': 'DOEJOH001'\n",
    "}"
   ]
  },
  {
   "cell_type": "code",
   "execution_count": null,
   "metadata": {},
   "outputs": [],
   "source": [
    "student1_id = uct_students.insert_one(student1).inserted_id\n",
    "str(student1_id)"
   ]
  },
  {
   "cell_type": "code",
   "execution_count": null,
   "metadata": {},
   "outputs": [],
   "source": [
    "student2 = {\n",
    "    'first_name': 'Jane',\n",
    "    'last_name': 'Doe',\n",
    "    'date_of_birth': '1995-01-02',\n",
    "    'sex': 'female',\n",
    "    'race': 'white',\n",
    "    'address': '11 Fake Road, Fake City',\n",
    "    'student_id': 'DOEJAN001'\n",
    "}"
   ]
  },
  {
   "cell_type": "code",
   "execution_count": null,
   "metadata": {},
   "outputs": [],
   "source": [
    "student2_id = uct_students.insert_one(student2).inserted_id\n",
    "str(student2_id)"
   ]
  },
  {
   "cell_type": "code",
   "execution_count": null,
   "metadata": {},
   "outputs": [],
   "source": [
    "uct_students.find_one({\"student_id\": \"DOEJOH001\"})"
   ]
  },
  {
   "cell_type": "code",
   "execution_count": null,
   "metadata": {},
   "outputs": [],
   "source": [
    "list(uct_students.find({\"last_name\": \"Doe\"}))"
   ]
  },
  {
   "cell_type": "code",
   "execution_count": null,
   "metadata": {},
   "outputs": [],
   "source": [
    "oid = ObjectId()"
   ]
  },
  {
   "cell_type": "code",
   "execution_count": null,
   "metadata": {},
   "outputs": [],
   "source": [
    "oid"
   ]
  },
  {
   "cell_type": "code",
   "execution_count": null,
   "metadata": {},
   "outputs": [],
   "source": [
    "def change_id(database, collection, old_id):\n",
    "    doc = database[collection].find_one({\"_id\": ObjectId(old_id)})\n",
    "    if doc:\n",
    "        doc['_id'] = ObjectId()\n",
    "        database[collection].insert_one(doc)\n",
    "        database[collection].delete_one({\"_id\": ObjectId(old_id)})\n",
    "        return {'new_id': str(doc['_id'])}\n",
    "    else:\n",
    "        return {'ERROR': 'No matching document id.'}"
   ]
  },
  {
   "cell_type": "code",
   "execution_count": null,
   "metadata": {},
   "outputs": [],
   "source": [
    "change_id(db, 'uct_students', student1_id)"
   ]
  },
  {
   "cell_type": "code",
   "execution_count": null,
   "metadata": {},
   "outputs": [],
   "source": [
    "def update_address(database, collection, i, address):\n",
    "    database[collection].update_one({'_id':i}, {\"$set\": {\"address\": address}}, upsert=False)\n",
    "    doc = database[collection].find_one({\"_id\": ObjectId(i)})\n",
    "    if doc:\n",
    "        return doc\n",
    "    else:\n",
    "        return {'ERROR': 'No matching document id.'}"
   ]
  },
  {
   "cell_type": "code",
   "execution_count": null,
   "metadata": {},
   "outputs": [],
   "source": [
    "update_address(db, 'Wits', student1_id, 'very new address')"
   ]
  },
  {
   "cell_type": "code",
   "execution_count": null,
   "metadata": {},
   "outputs": [],
   "source": [
    "def get_students_by_trait_regex(university_name, trait, regex):\n",
    "    result = list(db[university_name].find({trait: {\"$regex\": \".*\"+regex+\".*\"}}))\n",
    "    if result:\n",
    "        return result\n",
    "    else:\n",
    "        return {'ERROR': 'No matching data found.'}"
   ]
  },
  {
   "cell_type": "code",
   "execution_count": null,
   "metadata": {},
   "outputs": [],
   "source": [
    "get_students_by_trait_regex('uct_students', 'date_of_birth', '-02')"
   ]
  },
  {
   "cell_type": "code",
   "execution_count": null,
   "metadata": {},
   "outputs": [],
   "source": [
    "def get_all_students(university_name):\n",
    "    result = list(db[university_name].find({}))\n",
    "    if result:\n",
    "        return result\n",
    "    else:\n",
    "        return {'ERROR': 'No matching data found.'}"
   ]
  },
  {
   "cell_type": "code",
   "execution_count": null,
   "metadata": {},
   "outputs": [],
   "source": [
    "get_all_students(\"uct_students\")"
   ]
  },
  {
   "cell_type": "code",
   "execution_count": null,
   "metadata": {},
   "outputs": [],
   "source": []
  },
  {
   "cell_type": "code",
   "execution_count": null,
   "metadata": {},
   "outputs": [],
   "source": []
  },
  {
   "cell_type": "code",
   "execution_count": null,
   "metadata": {},
   "outputs": [],
   "source": []
  }
 ],
 "metadata": {
  "kernelspec": {
   "display_name": "Python 3",
   "language": "python",
   "name": "python3"
  },
  "language_info": {
   "codemirror_mode": {
    "name": "ipython",
    "version": 3
   },
   "file_extension": ".py",
   "mimetype": "text/x-python",
   "name": "python",
   "nbconvert_exporter": "python",
   "pygments_lexer": "ipython3",
   "version": "3.7.0"
  }
 },
 "nbformat": 4,
 "nbformat_minor": 2
}
